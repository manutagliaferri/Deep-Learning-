{
 "cells": [
  {
   "cell_type": "markdown",
   "id": "b19631d9",
   "metadata": {
    "papermill": {
     "duration": 0.013242,
     "end_time": "2025-10-08T15:22:54.081184",
     "exception": false,
     "start_time": "2025-10-08T15:22:54.067942",
     "status": "completed"
    },
    "tags": []
   },
   "source": [
    "# Exercise 2\n",
    "## Authors: E. Vercesi; A. Dei Rossi, S. Huber*, L. Scarciglia.\n",
    "\n",
    "In this exercise session you are going to learn the basics of PyTorch and pandas. We will start with PyTorch.\n",
    "\n",
    "[PyTorch](https://pytorch.org/) is a Python library for scientific computing (as much as NumPy), but which can additionally run on GPUs. \n",
    "Hence, this is the computing library of choice for Deep Learning applications. \n",
    "PyTorch is developed by Meta. You might have also heard of its main competitor TensorFlow (Google). Although both have basically the same functionalities, in this course we would like you to stick to PyTorch (assignments made using TensorFlow won't be evaluated).\n",
    "\n",
    "If you haven't done Exercise 1 on NumPy yet, we highly encourage to do it first: NumPy and PyTorch offer a vast overlap of functionalities, so understanding NumPy first is going to boost greatly your understanding of PyTorch.\n",
    "To begin with, make sure you have installed it. If not, please do so (by typing `conda/pip install torch` from your environment, or using the GUI of your IDE). Also make sure that the version installed is 2.8.\n",
    "\n",
    "In addition to that, also install [pandas](https://pandas.pydata.org/docs/getting_started/install.html). We will use it at the end of the notebook."
   ]
  },
  {
   "cell_type": "code",
   "execution_count": 1,
   "id": "944156a1",
   "metadata": {
    "ExecuteTime": {
     "end_time": "2024-09-18T19:31:50.547971Z",
     "start_time": "2024-09-18T19:31:50.545559Z"
    },
    "editable": true,
    "execution": {
     "iopub.execute_input": "2025-10-08T15:22:54.108430Z",
     "iopub.status.busy": "2025-10-08T15:22:54.108076Z",
     "iopub.status.idle": "2025-10-08T15:22:59.652760Z",
     "shell.execute_reply": "2025-10-08T15:22:59.651659Z"
    },
    "papermill": {
     "duration": 5.561608,
     "end_time": "2025-10-08T15:22:59.654853",
     "exception": false,
     "start_time": "2025-10-08T15:22:54.093245",
     "status": "completed"
    },
    "slideshow": {
     "slide_type": ""
    },
    "tags": []
   },
   "outputs": [
    {
     "data": {
      "text/plain": [
       "<torch._C.Generator at 0x7fef9db0f1b0>"
      ]
     },
     "execution_count": 1,
     "metadata": {},
     "output_type": "execute_result"
    }
   ],
   "source": [
    "import torch  # If you see errors, use conda or pip to install torch in your virtual environment.\n",
    "import numpy as np\n",
    "\n",
    "torch.manual_seed(42)  # manual seed is to ensure repeatability of random numbers. "
   ]
  },
  {
   "cell_type": "markdown",
   "id": "c423cddd",
   "metadata": {
    "papermill": {
     "duration": 0.012239,
     "end_time": "2025-10-08T15:22:59.679622",
     "exception": false,
     "start_time": "2025-10-08T15:22:59.667383",
     "status": "completed"
    },
    "tags": []
   },
   "source": [
    "## Create tensors\n",
    "\n",
    "Tensors are like NumPy arrays, but they can live in GPUs.\n",
    "\n",
    "1. Create a tensor out of a Python list [1, 2, 3].\n",
    "2. Create a tensor out of a NumPy array [[2, 3, 4], [4, 3, 2]] (see method [`.from_numpy()`](https://pytorch.org/docs/stable/generated/torch.from_numpy.html)).\n",
    "3. Convert the tensor of point 2 back to a NumPy array. (see method [`.numpy()`](https://pytorch.org/docs/stable/generated/torch.Tensor.numpy.html))."
   ]
  },
  {
   "cell_type": "code",
   "execution_count": 2,
   "id": "bb1568b0",
   "metadata": {
    "ExecuteTime": {
     "end_time": "2024-09-18T19:44:01.942448Z",
     "start_time": "2024-09-18T19:44:01.939947Z"
    },
    "execution": {
     "iopub.execute_input": "2025-10-08T15:22:59.705495Z",
     "iopub.status.busy": "2025-10-08T15:22:59.704997Z",
     "iopub.status.idle": "2025-10-08T15:22:59.766858Z",
     "shell.execute_reply": "2025-10-08T15:22:59.765415Z"
    },
    "papermill": {
     "duration": 0.07704,
     "end_time": "2025-10-08T15:22:59.768812",
     "exception": false,
     "start_time": "2025-10-08T15:22:59.691772",
     "status": "completed"
    },
    "tags": []
   },
   "outputs": [
    {
     "name": "stdout",
     "output_type": "stream",
     "text": [
      "tensor([1, 2, 3])\n",
      "tensor([[2, 3, 4],\n",
      "        [4, 3, 2]])\n",
      "[[2 3 4]\n",
      " [4 3 2]]\n"
     ]
    }
   ],
   "source": [
    "## 1: create a tensor out of a Python list\n",
    "list1 = [1,2,3]\n",
    "tensor1 = torch.tensor(list1)\n",
    "print (tensor1)\n",
    "\n",
    "## 2: create a tensor out of a NumPy array\n",
    "arr1 = np.array ([[2,3,4],[4,3,2]])\n",
    "tensor2 = torch.from_numpy(arr1)\n",
    "print (tensor2)\n",
    "\n",
    "## 3: Convert the tensor back to NumPy.\n",
    "t= torch.tensor ([[2,3,4], [4,3,2]])\n",
    "arr2 = t.numpy ()\n",
    "print (arr2)"
   ]
  },
  {
   "cell_type": "markdown",
   "id": "8e0f9d22",
   "metadata": {
    "papermill": {
     "duration": 0.011755,
     "end_time": "2025-10-08T15:22:59.792741",
     "exception": false,
     "start_time": "2025-10-08T15:22:59.780986",
     "status": "completed"
    },
    "tags": []
   },
   "source": [
    "1. Check the `.dtype` attribute of the above created tensors. \n",
    "2. Create a tensor of size 3 with values [1, 2, 3] but forcing the dtype to be float64."
   ]
  },
  {
   "cell_type": "markdown",
   "id": "a6b3e9c2",
   "metadata": {
    "papermill": {
     "duration": 0.011614,
     "end_time": "2025-10-08T15:22:59.816028",
     "exception": false,
     "start_time": "2025-10-08T15:22:59.804414",
     "status": "completed"
    },
    "tags": []
   },
   "source": []
  },
  {
   "cell_type": "code",
   "execution_count": 3,
   "id": "52b08264",
   "metadata": {
    "ExecuteTime": {
     "end_time": "2024-09-18T19:45:12.850223Z",
     "start_time": "2024-09-18T19:45:12.847542Z"
    },
    "execution": {
     "iopub.execute_input": "2025-10-08T15:22:59.840732Z",
     "iopub.status.busy": "2025-10-08T15:22:59.840308Z",
     "iopub.status.idle": "2025-10-08T15:22:59.846852Z",
     "shell.execute_reply": "2025-10-08T15:22:59.845826Z"
    },
    "papermill": {
     "duration": 0.02098,
     "end_time": "2025-10-08T15:22:59.848516",
     "exception": false,
     "start_time": "2025-10-08T15:22:59.827536",
     "status": "completed"
    },
    "tags": []
   },
   "outputs": [
    {
     "name": "stdout",
     "output_type": "stream",
     "text": [
      "1:  torch.int64\n",
      "2:  torch.int64\n",
      "3:  int64\n",
      "4:  torch.float64\n"
     ]
    }
   ],
   "source": [
    "## 1: check the dtype attribute\n",
    "print(\"1: \", tensor1.dtype)\n",
    "print(\"2: \", tensor2.dtype)\n",
    "print(\"3: \", arr2.dtype)\n",
    "\n",
    "## 2: create [1, 2, 3] with dtype float64\n",
    "t2 = torch.tensor ([1,2,3] , dtype=torch.float64)\n",
    "print(\"4: \", t2.dtype)"
   ]
  },
  {
   "cell_type": "markdown",
   "id": "9b0ba18e",
   "metadata": {
    "papermill": {
     "duration": 0.011651,
     "end_time": "2025-10-08T15:22:59.872380",
     "exception": false,
     "start_time": "2025-10-08T15:22:59.860729",
     "status": "completed"
    },
    "tags": []
   },
   "source": [
    "##### PyTorch also offers some more advanced functions that can be used to create well-known matrices:\n",
    "\n",
    "1. Create an identity matrix of size (5, 5) (see [`torch.eye()`](https://pytorch.org/docs/stable/generated/torch.eye.html)).\n",
    "2. Create a matrix of all zeros of size (3, 4) (see [`torch.zeros()`](https://pytorch.org/docs/stable/generated/torch.zeros.html).\n",
    "3. Create a matrix of all ones of size (2, 3) (see [`torch.ones()`](https://pytorch.org/docs/stable/generated/torch.ones.html).\n",
    "4. Given a tensor of size (3, 2) of your choice, create a matrix of the same size (3, 2) filled with ones (equivalently zeros) (see [`torch.zeros_like()`](https://pytorch.org/docs/stable/generated/torch.zeros_like.html).\n",
    "5. Create a matrix of size (3, 4) filled with numbers from 0 to 11 inclusive (same as in NumPy). Try both [`torch.arange()`](https://pytorch.org/docs/stable/generated/torch.arange.html) and [`torch.linspace()`](https://pytorch.org/docs/stable/generated/torch.linspace.html)."
   ]
  },
  {
   "cell_type": "code",
   "execution_count": 4,
   "id": "187b991a",
   "metadata": {
    "ExecuteTime": {
     "end_time": "2024-09-18T19:56:37.567665Z",
     "start_time": "2024-09-18T19:56:37.564862Z"
    },
    "execution": {
     "iopub.execute_input": "2025-10-08T15:22:59.897447Z",
     "iopub.status.busy": "2025-10-08T15:22:59.897079Z",
     "iopub.status.idle": "2025-10-08T15:22:59.984769Z",
     "shell.execute_reply": "2025-10-08T15:22:59.983333Z"
    },
    "papermill": {
     "duration": 0.10253,
     "end_time": "2025-10-08T15:22:59.986684",
     "exception": false,
     "start_time": "2025-10-08T15:22:59.884154",
     "status": "completed"
    },
    "tags": []
   },
   "outputs": [
    {
     "name": "stdout",
     "output_type": "stream",
     "text": [
      "m1:\n",
      " tensor([[1., 0., 0., 0., 0.],\n",
      "        [0., 1., 0., 0., 0.],\n",
      "        [0., 0., 1., 0., 0.],\n",
      "        [0., 0., 0., 1., 0.],\n",
      "        [0., 0., 0., 0., 1.]])\n",
      "m2: \n",
      " tensor([[0., 0., 0., 0.],\n",
      "        [0., 0., 0., 0.],\n",
      "        [0., 0., 0., 0.]])\n",
      "m3: \n",
      " tensor([[1., 1., 1.],\n",
      "        [1., 1., 1.]])\n",
      "m4: \n",
      " tensor([[0, 0],\n",
      "        [0, 0],\n",
      "        [0, 0]])\n",
      "m5: \n",
      " tensor([[0, 1, 2],\n",
      "        [3, 4, 5]])\n",
      "m6: \n",
      ": tensor([[0.0000, 1.2000, 2.4000],\n",
      "        [3.6000, 4.8000, 6.0000]])\n"
     ]
    }
   ],
   "source": [
    "## 1: torch.eye()\n",
    "m1= torch.eye(5)\n",
    "print(\"m1:\\n\", m1)\n",
    "\n",
    "## 2: torch.zeros()\n",
    "m2 = torch.zeros(3,4)\n",
    "print(\"m2: \\n\", m2)\n",
    "\n",
    "## 3: torch.ones()\n",
    "m3 = torch.ones(2,3)\n",
    "print(\"m3: \\n\", m3)\n",
    "\n",
    "## 4: torch.zeros_like()\n",
    "t3= torch.tensor ([[1,2],[2,3],[3,4]])\n",
    "m4= torch.zeros_like(t3)\n",
    "print(\"m4: \\n\", m4)\n",
    "## 5:\n",
    "## torch.arange()\n",
    "t4=torch.arange (0,6)\n",
    "m5=t4.reshape (2,3)     #funzione per cambiare forma perche torch.arange restituisce uno di dimensione 1d\n",
    "print (\"m5: \\n\", m5)\n",
    "\n",
    "## torch.linspace()\n",
    "t5=torch.linspace(0,6 , steps=6)\n",
    "m6=t5.reshape (2,3)\n",
    "print (\"m6: \\n:\", m6)"
   ]
  },
  {
   "cell_type": "markdown",
   "id": "55c4b68c",
   "metadata": {
    "papermill": {
     "duration": 0.013282,
     "end_time": "2025-10-08T15:23:00.012577",
     "exception": false,
     "start_time": "2025-10-08T15:22:59.999295",
     "status": "completed"
    },
    "tags": []
   },
   "source": [
    "#### Random tensors\n",
    "\n",
    "As in NumPy, you have a big choice of random distributions to sample you arrays from.\n",
    "Create the same random arrays you did in NumPy in Exercise 1:\n",
    "1) Create a random tensor of size 4 of uniform floating point numbers in the interval [0, 1). (see [`torch.rand`](https://pytorch.org/docs/stable/generated/torch.rand.html)).\n",
    "torch rand ti mette gia numeri copresi tra 0 e 1 \n",
    "\n",
    "2) Create a random tensor of size (3, 2) of uniform floating point numbers in the interval [0, 5). (hint: generate numbers in the interval [0, 1) and scale them up by 5).\n",
    "3) Create a random tensor of size (2, 1, 2) of integers in the interval [10, 20]. (see [`torch.randint`](https://pytorch.org/docs/stable/generated/torch.randint.html), caraful with border conditions).\n",
    "ATTENZIONE: Utilizzando torch.randint low è incluso [, high è escluso (mi riferisco al range di numeri che inserisco. \n",
    "   \n",
    "4) Create a random tensor of size 10 over the normal distribution, mean 3 and std dev 2. (see [`torch.normal`](https://pytorch.org/docs/stable/generated/torch.normal.html))."
   ]
  },
  {
   "cell_type": "code",
   "execution_count": 5,
   "id": "ab764851",
   "metadata": {
    "ExecuteTime": {
     "end_time": "2024-09-18T20:29:56.713417Z",
     "start_time": "2024-09-18T20:29:56.707816Z"
    },
    "execution": {
     "iopub.execute_input": "2025-10-08T15:23:00.040101Z",
     "iopub.status.busy": "2025-10-08T15:23:00.039767Z",
     "iopub.status.idle": "2025-10-08T15:23:00.052080Z",
     "shell.execute_reply": "2025-10-08T15:23:00.051000Z"
    },
    "papermill": {
     "duration": 0.027901,
     "end_time": "2025-10-08T15:23:00.053926",
     "exception": false,
     "start_time": "2025-10-08T15:23:00.026025",
     "status": "completed"
    },
    "tags": []
   },
   "outputs": [
    {
     "name": "stdout",
     "output_type": "stream",
     "text": [
      "t6:\n",
      " tensor([0.8823, 0.9150, 0.3829, 0.9593])\n",
      "m7: \n",
      " tensor([[1.9522, 3.0045],\n",
      "        [1.2829, 3.9682],\n",
      "        [4.7039, 0.6659]])\n",
      "m8: \n",
      " tensor([[[18, 14]],\n",
      "\n",
      "        [[10, 14]]])\n",
      "t7:\n",
      " tensor([3.7531, 2.6384, 3.7861, 3.8654, 0.2746, 5.7129, 4.3376, 1.5846, 2.3466,\n",
      "        2.4424])\n"
     ]
    }
   ],
   "source": [
    "## 1: torch.rand()\n",
    "t6 = torch.rand(4)\n",
    "print (\"t6:\\n\", t6)\n",
    "\n",
    "## 2: torch.rand() scaled up to [0, 5)\n",
    "m7 = torch.rand (3,2)\n",
    "m7=m7*5\n",
    "print (\"m7: \\n\", m7)\n",
    "\n",
    "## 3: torch.randint()\n",
    "m8= torch.randint(10,20,(2,1,2))\n",
    "print (\"m8: \\n\", m8)\n",
    "\n",
    "## 4: torch.normal()\n",
    "t7 = torch.normal(mean=3.0, std=2.0, size=(10,))\n",
    "print(\"t7:\\n\", t7)\n"
   ]
  },
  {
   "cell_type": "markdown",
   "id": "ba4555b5",
   "metadata": {
    "papermill": {
     "duration": 0.011668,
     "end_time": "2025-10-08T15:23:00.077839",
     "exception": false,
     "start_time": "2025-10-08T15:23:00.066171",
     "status": "completed"
    },
    "tags": []
   },
   "source": [
    "## Working with tensors' dimensions\n",
    "\n",
    "In this section we will learn how to manipulate tensor's dimensions. Notice that they are extremely similar to NumPy methods: hence, if you have done exercise 1, this section should be quite straightforward.\n",
    "\n",
    "### Access elements and slicing \n",
    "\n",
    "Create an identity matrix of size (4, 4) and access \n",
    "1. The element in position [0, 0].\n",
    "2. The last element.\n",
    "3. Element in position [2, 3].\n",
    "Check that the returned elements are what you expect."
   ]
  },
  {
   "cell_type": "code",
   "execution_count": 6,
   "id": "4e5b8ff0",
   "metadata": {
    "ExecuteTime": {
     "end_time": "2024-09-19T06:54:09.454500Z",
     "start_time": "2024-09-19T06:54:09.451717Z"
    },
    "execution": {
     "iopub.execute_input": "2025-10-08T15:23:00.103205Z",
     "iopub.status.busy": "2025-10-08T15:23:00.102695Z",
     "iopub.status.idle": "2025-10-08T15:23:00.112577Z",
     "shell.execute_reply": "2025-10-08T15:23:00.111151Z"
    },
    "papermill": {
     "duration": 0.024496,
     "end_time": "2025-10-08T15:23:00.114352",
     "exception": false,
     "start_time": "2025-10-08T15:23:00.089856",
     "status": "completed"
    },
    "tags": []
   },
   "outputs": [
    {
     "name": "stdout",
     "output_type": "stream",
     "text": [
      "elemento 0,0:  tensor(1.)\n",
      "elemento 0,0:  tensor(1.)\n",
      "elemento 0,0:  tensor(0.)\n"
     ]
    }
   ],
   "source": [
    "# Create the identity matrix\n",
    "m9 = torch.eye(4)\n",
    "\n",
    "## 1: access element in [0, 0]\n",
    "print(\"elemento 0,0: \", m9[0][0])\n",
    "## 2: access element in [3, 3]\n",
    "print(\"elemento 0,0: \", m9[3][3])\n",
    "## 3: access element in [2, 3]\n",
    "print(\"elemento 0,0: \", m9[2][3])"
   ]
  },
  {
   "cell_type": "markdown",
   "id": "055c0fbf",
   "metadata": {
    "papermill": {
     "duration": 0.01224,
     "end_time": "2025-10-08T15:23:00.141159",
     "exception": false,
     "start_time": "2025-10-08T15:23:00.128919",
     "status": "completed"
    },
    "tags": []
   },
   "source": [
    "### Slicing\n",
    "\n",
    "1. Create a random tensor of size (3, 4) of integers in the interval [5, 10].\n",
    "2. Print the second row.\n",
    "3. Print the third column.\n",
    "4. Print the sub-matrix spanning from the second to the third row, from the second to the third column."
   ]
  },
  {
   "cell_type": "code",
   "execution_count": 7,
   "id": "d7520252",
   "metadata": {
    "execution": {
     "iopub.execute_input": "2025-10-08T15:23:00.166828Z",
     "iopub.status.busy": "2025-10-08T15:23:00.166495Z",
     "iopub.status.idle": "2025-10-08T15:23:00.186122Z",
     "shell.execute_reply": "2025-10-08T15:23:00.184869Z"
    },
    "papermill": {
     "duration": 0.034447,
     "end_time": "2025-10-08T15:23:00.188067",
     "exception": false,
     "start_time": "2025-10-08T15:23:00.153620",
     "status": "completed"
    },
    "tags": []
   },
   "outputs": [
    {
     "name": "stdout",
     "output_type": "stream",
     "text": [
      "seconda riga:  tensor([7, 9, 7, 8])\n",
      "terza colonna:  tensor([6, 7, 8])\n",
      "sub-matrix:  tensor([[5, 6],\n",
      "        [9, 7]])\n"
     ]
    }
   ],
   "source": [
    "## 1: create a random tensor of size [3, 4].\n",
    "mm1=torch.randint(5,10, (3,4))\n",
    "## 2: print the second row.\n",
    "print (\"seconda riga: \", mm1[2,:])\n",
    "## 3: print the third column.\n",
    "print (\"terza colonna: \", mm1[:,3])\n",
    "## 4: sub-matrix\n",
    "print(\"sub-matrix: \", mm1[1:3,1:3])"
   ]
  },
  {
   "cell_type": "markdown",
   "id": "c0004093",
   "metadata": {
    "papermill": {
     "duration": 0.012525,
     "end_time": "2025-10-08T15:23:00.213372",
     "exception": false,
     "start_time": "2025-10-08T15:23:00.200847",
     "status": "completed"
    },
    "tags": []
   },
   "source": [
    "### Access tensors' dimensions\n",
    "\n",
    "1. Create a tensor $v$ of size (3, 4, 2, 4, 1) of random floats in [0, 1).\n",
    "2. Print its shape. You can use both `.shape` and [`.size()`](https://docs.pytorch.org/docs/stable/generated/torch.Tensor.size.html), try them both.\n",
    "3. Print its third dimension's size (2 in our example). Check [`.size()`](https://docs.pytorch.org/docs/stable/generated/torch.Tensor.size.html) function.\n",
    "4. Print the number of dimensions of our vector (5 in our example). Check [`.dim()`](https://docs.pytorch.org/docs/stable/generated/torch.Tensor.dim.html#torch.Tensor.dim) or [`.ndim`](https://docs.pytorch.org/docs/stable/generated/torch.Tensor.dim.html#torch.Tensor.ndim)."
   ]
  },
  {
   "cell_type": "code",
   "execution_count": 8,
   "id": "e30186d7",
   "metadata": {
    "execution": {
     "iopub.execute_input": "2025-10-08T15:23:00.241025Z",
     "iopub.status.busy": "2025-10-08T15:23:00.240690Z",
     "iopub.status.idle": "2025-10-08T15:23:00.251781Z",
     "shell.execute_reply": "2025-10-08T15:23:00.250537Z"
    },
    "papermill": {
     "duration": 0.027705,
     "end_time": "2025-10-08T15:23:00.253865",
     "exception": false,
     "start_time": "2025-10-08T15:23:00.226160",
     "status": "completed"
    },
    "tags": []
   },
   "outputs": [
    {
     "name": "stdout",
     "output_type": "stream",
     "text": [
      "t8 tensor([[[[[0.7886],\n",
      "           [0.5895],\n",
      "           [0.7539],\n",
      "           [0.1952]],\n",
      "\n",
      "          [[0.0050],\n",
      "           [0.3068],\n",
      "           [0.1165],\n",
      "           [0.9103]]],\n",
      "\n",
      "\n",
      "         [[[0.6440],\n",
      "           [0.7071],\n",
      "           [0.6581],\n",
      "           [0.4913]],\n",
      "\n",
      "          [[0.8913],\n",
      "           [0.1447],\n",
      "           [0.5315],\n",
      "           [0.1587]]],\n",
      "\n",
      "\n",
      "         [[[0.6542],\n",
      "           [0.3278],\n",
      "           [0.6532],\n",
      "           [0.3958]],\n",
      "\n",
      "          [[0.9147],\n",
      "           [0.2036],\n",
      "           [0.2018],\n",
      "           [0.2018]]],\n",
      "\n",
      "\n",
      "         [[[0.9497],\n",
      "           [0.6666],\n",
      "           [0.9811],\n",
      "           [0.0874]],\n",
      "\n",
      "          [[0.0041],\n",
      "           [0.1088],\n",
      "           [0.1637],\n",
      "           [0.7025]]]],\n",
      "\n",
      "\n",
      "\n",
      "        [[[[0.6790],\n",
      "           [0.9155],\n",
      "           [0.2418],\n",
      "           [0.1591]],\n",
      "\n",
      "          [[0.7653],\n",
      "           [0.2979],\n",
      "           [0.8035],\n",
      "           [0.3813]]],\n",
      "\n",
      "\n",
      "         [[[0.7860],\n",
      "           [0.1115],\n",
      "           [0.2477],\n",
      "           [0.6524]],\n",
      "\n",
      "          [[0.6057],\n",
      "           [0.3725],\n",
      "           [0.7980],\n",
      "           [0.8399]]],\n",
      "\n",
      "\n",
      "         [[[0.1374],\n",
      "           [0.2331],\n",
      "           [0.9578],\n",
      "           [0.3313]],\n",
      "\n",
      "          [[0.3227],\n",
      "           [0.0162],\n",
      "           [0.2137],\n",
      "           [0.6249]]],\n",
      "\n",
      "\n",
      "         [[[0.4340],\n",
      "           [0.1371],\n",
      "           [0.5117],\n",
      "           [0.1585]],\n",
      "\n",
      "          [[0.0758],\n",
      "           [0.2247],\n",
      "           [0.0624],\n",
      "           [0.1816]]]],\n",
      "\n",
      "\n",
      "\n",
      "        [[[[0.9998],\n",
      "           [0.5944],\n",
      "           [0.6541],\n",
      "           [0.0337]],\n",
      "\n",
      "          [[0.1716],\n",
      "           [0.3336],\n",
      "           [0.5782],\n",
      "           [0.0600]]],\n",
      "\n",
      "\n",
      "         [[[0.2846],\n",
      "           [0.2007],\n",
      "           [0.5014],\n",
      "           [0.3139]],\n",
      "\n",
      "          [[0.4654],\n",
      "           [0.1612],\n",
      "           [0.1568],\n",
      "           [0.2083]]],\n",
      "\n",
      "\n",
      "         [[[0.3289],\n",
      "           [0.1054],\n",
      "           [0.9192],\n",
      "           [0.4008]],\n",
      "\n",
      "          [[0.9302],\n",
      "           [0.6558],\n",
      "           [0.0766],\n",
      "           [0.8460]]],\n",
      "\n",
      "\n",
      "         [[[0.3624],\n",
      "           [0.3083],\n",
      "           [0.0850],\n",
      "           [0.0029]],\n",
      "\n",
      "          [[0.6431],\n",
      "           [0.3908],\n",
      "           [0.6947],\n",
      "           [0.0897]]]]])\n",
      "t8 shape torch.Size([3, 4, 2, 4, 1])\n",
      "t8 size torch.Size([3, 4, 2, 4, 1])\n",
      "t8 third dimension:  2\n",
      "Numero di dimensioni: 5\n",
      "Numero di dimensioni (con .ndim): 5\n"
     ]
    }
   ],
   "source": [
    "## 1: create a random tensor v of size (3, 4, 2, 4, 1).\n",
    "t8= torch.rand(3,4,2,4,1)\n",
    "print (\"t8\", t8)\n",
    "\n",
    "## 2: print v's shape using .shape and .size().\n",
    "print (\"t8 shape\", t8.shape)\n",
    "print (\"t8 size\", t8.size())\n",
    "\n",
    "## 3: print the size of the third dimension of v.\n",
    "print(\"t8 third dimension: \", t8.size(dim=2))\n",
    "\n",
    "## 4: print the number of dimensions of v.\n",
    "# Stampa il numero totale di dimensioni (commento di chat)\n",
    "print(\"Numero di dimensioni:\", t8.dim())\n",
    "# oppure equivalente (commento di chat)\n",
    "print(\"Numero di dimensioni (con .ndim):\", t8.ndim)"
   ]
  },
  {
   "cell_type": "markdown",
   "id": "606f23a5",
   "metadata": {
    "papermill": {
     "duration": 0.012414,
     "end_time": "2025-10-08T15:23:00.278940",
     "exception": false,
     "start_time": "2025-10-08T15:23:00.266526",
     "status": "completed"
    },
    "tags": []
   },
   "source": [
    "## Permute dimensions\n",
    "\n",
    "You can invert the order of the dimensions of a tensor. Create a random tensor of integers in the interval [0, 10) of size (2, 3, 4) and permute its dimensions so that the final size is (4, 2, 3). See [`torch.permute`](https://pytorch.org/docs/stable/generated/torch.permute.html).\n",
    "\n",
    "Commento: qui ssto invertendo l'ordine delle dimensioni, per averlo in dimensione (4,2,3) devo indicargli l'ordine di disposizione di queste dimensioni!! Non direttamente le dimensioni!!"
   ]
  },
  {
   "cell_type": "code",
   "execution_count": 9,
   "id": "e6ba6de3",
   "metadata": {
    "ExecuteTime": {
     "end_time": "2024-09-19T07:01:03.982170Z",
     "start_time": "2024-09-19T07:01:03.979816Z"
    },
    "execution": {
     "iopub.execute_input": "2025-10-08T15:23:00.305221Z",
     "iopub.status.busy": "2025-10-08T15:23:00.304886Z",
     "iopub.status.idle": "2025-10-08T15:23:00.315974Z",
     "shell.execute_reply": "2025-10-08T15:23:00.314746Z"
    },
    "papermill": {
     "duration": 0.026386,
     "end_time": "2025-10-08T15:23:00.317815",
     "exception": false,
     "start_time": "2025-10-08T15:23:00.291429",
     "status": "completed"
    },
    "tags": []
   },
   "outputs": [
    {
     "name": "stdout",
     "output_type": "stream",
     "text": [
      "t9:  tensor([[[5, 9, 5, 2],\n",
      "         [0, 8, 8, 7],\n",
      "         [2, 2, 6, 8]],\n",
      "\n",
      "        [[2, 7, 6, 3],\n",
      "         [0, 3, 6, 0],\n",
      "         [3, 7, 3, 8]]]) \n",
      "Shape:  torch.Size([2, 3, 4])\n",
      "t10:  tensor([[[5, 2],\n",
      "         [9, 7],\n",
      "         [5, 6],\n",
      "         [2, 3]],\n",
      "\n",
      "        [[0, 0],\n",
      "         [8, 3],\n",
      "         [8, 6],\n",
      "         [7, 0]],\n",
      "\n",
      "        [[2, 3],\n",
      "         [2, 7],\n",
      "         [6, 3],\n",
      "         [8, 8]]]) \n",
      "Shape:  torch.Size([3, 4, 2])\n"
     ]
    }
   ],
   "source": [
    "## 1: Create a random tensor. Check its shape (2, 3, 4)\n",
    "t9= torch.randint (0,10,(2,3,4))\n",
    "print(\"t9: \", t9, \"\\nShape: \", t9.shape)\n",
    "\n",
    "## 2: Permute its dimensions. Check its shape (4, 2, 3)\n",
    "t10= torch.permute(t9, (1,2,0))\n",
    "print(\"t10: \", t10, \"\\nShape: \", t10.shape)\n"
   ]
  },
  {
   "cell_type": "markdown",
   "id": "666161d4",
   "metadata": {
    "papermill": {
     "duration": 0.012453,
     "end_time": "2025-10-08T15:23:00.343416",
     "exception": false,
     "start_time": "2025-10-08T15:23:00.330963",
     "status": "completed"
    },
    "tags": []
   },
   "source": [
    "## Squeeze/unsqueeze\n",
    "\n",
    "If you want increase the number of dimensions of your vector (similar to `np.newaxis`, this might turn useful in the context of broadcasting), you can use [`torch.unsqueeze`](https://pytorch.org/docs/stable/generated/torch.unsqueeze.html). If you want to reduce the number of dimensions of your vector by dropping dimensions of size 1 you can use [`torch.squeeze`](https://pytorch.org/docs/stable/generated/torch.squeeze.html) instead.\n",
    "\n",
    "1. Create a random tensor uniform in [0, 1) of size (2, 2). Insert a new dimension so that the final shape is (2, 1, 2).\n",
    "\n",
    "Torch.unsqueeze aumenta gia di una dimensione il tensore,con dim=0,1..n io gli sto dicendo dove inserirla!!\n",
    "\n",
    "2. Add a dimension to the tensor of point 1, so that the final shape is (2, 1, 2, 1). Try to use negative indices as the argument of `torch.unsqueeze()`.\n",
    "3. Turn the tensor back to its original shape (2, 2) by using `torch.squeeze()`."
   ]
  },
  {
   "cell_type": "code",
   "execution_count": 10,
   "id": "ed3ef3d5",
   "metadata": {
    "ExecuteTime": {
     "end_time": "2024-09-19T07:15:03.127711Z",
     "start_time": "2024-09-19T07:15:03.124690Z"
    },
    "execution": {
     "iopub.execute_input": "2025-10-08T15:23:00.370396Z",
     "iopub.status.busy": "2025-10-08T15:23:00.369163Z",
     "iopub.status.idle": "2025-10-08T15:23:00.382645Z",
     "shell.execute_reply": "2025-10-08T15:23:00.381405Z"
    },
    "papermill": {
     "duration": 0.028717,
     "end_time": "2025-10-08T15:23:00.384477",
     "exception": false,
     "start_time": "2025-10-08T15:23:00.355760",
     "status": "completed"
    },
    "tags": []
   },
   "outputs": [
    {
     "name": "stdout",
     "output_type": "stream",
     "text": [
      "tensor([[0.2709, 0.9295],\n",
      "        [0.6115, 0.2234]])\n",
      "tensor([[[0.2709, 0.9295]],\n",
      "\n",
      "        [[0.6115, 0.2234]]])\n",
      "tensor([[[[0.2709],\n",
      "          [0.9295]]],\n",
      "\n",
      "\n",
      "        [[[0.6115],\n",
      "          [0.2234]]]])\n",
      "tensor([[0.2709, 0.9295],\n",
      "        [0.6115, 0.2234]])\n"
     ]
    }
   ],
   "source": [
    "## 1: Create a tensor of size (2, 2). Unsqueeze it so that its final shape is (2, 1, 2)\n",
    "t10= torch.rand(2,2)\n",
    "print(t10)\n",
    "t11=torch.unsqueeze(t10, dim=1) \n",
    "print(t11)\n",
    "## 2: Add an additional dimension to the tensor so that its shape is (2, 1, 2, 1). Use negative indices\n",
    "t12=torch.unsqueeze(t11, dim=-1) #con dim =-1 mi riferisco all'ultima posizione del tensore, t=-2 alla penultima ecc...\n",
    "print(t12)\n",
    "## 3: Turn the tensor back to shape (2, 2)\n",
    "t13= torch.squeeze(t12, dim=-1)\n",
    "t13=torch.squeeze(t13 , dim=1)\n",
    "print(t13)"
   ]
  },
  {
   "cell_type": "markdown",
   "id": "f6280310",
   "metadata": {
    "papermill": {
     "duration": 0.012188,
     "end_time": "2025-10-08T15:23:00.409662",
     "exception": false,
     "start_time": "2025-10-08T15:23:00.397474",
     "status": "completed"
    },
    "tags": []
   },
   "source": [
    "## Concatenate and stack\n",
    "\n",
    "If you have two tensors of compatible sizes, you can merge them into a unique tensor along one of their axes.\n",
    "In order to get some intuition, think about having 2 2-dimensional tensors of size (3, 4). You can merge them along the first axis and get the final shape be (6, 4), or you can merge them along the second axis and get the final shape to be (3, 8), or you can go in 3D stacking one over the other (along the z-axis) and get a shape of (2, 3, 4). \n",
    "\n",
    "This is precisely what [`torch.concat`](https://pytorch.org/docs/stable/generated/torch.cat.html#torch.cat) (also called `.cat`) and [`torch.stack`](https://pytorch.org/docs/stable/generated/torch.stack) do. \n",
    "You should already be familiar with NumPy `axis` attribute. In PyTorch it is called `dim`. If you try using `axis` instead of `dim`, PyTorch allows you to do so. Though it is not recommended, since it is not written in the official documentation.\n",
    "\n",
    "1. Concat $v$ and $w$ along the first dimension. Check that the final shape is (6, 4).\n",
    "2. Concat $v$ and $w$ along the second dimension. Check that the final shape is (3, 8).\n",
    "3. Concat $v$ and $w$ along a new dimension. Check that the final shape is (2, 3, 4)."
   ]
  },
  {
   "cell_type": "code",
   "execution_count": 11,
   "id": "2bfc8502",
   "metadata": {
    "ExecuteTime": {
     "end_time": "2024-09-19T08:16:40.985443Z",
     "start_time": "2024-09-19T08:16:40.982553Z"
    },
    "execution": {
     "iopub.execute_input": "2025-10-08T15:23:00.436805Z",
     "iopub.status.busy": "2025-10-08T15:23:00.436455Z",
     "iopub.status.idle": "2025-10-08T15:23:00.455076Z",
     "shell.execute_reply": "2025-10-08T15:23:00.453828Z"
    },
    "papermill": {
     "duration": 0.035175,
     "end_time": "2025-10-08T15:23:00.457376",
     "exception": false,
     "start_time": "2025-10-08T15:23:00.422201",
     "status": "completed"
    },
    "tags": []
   },
   "outputs": [
    {
     "name": "stdout",
     "output_type": "stream",
     "text": [
      "y tensor([[5, 4, 8, 1],\n",
      "        [7, 9, 2, 6],\n",
      "        [8, 2, 8, 2],\n",
      "        [1, 0, 0, 6],\n",
      "        [5, 0, 6, 9],\n",
      "        [2, 4, 2, 0]])\n",
      "torch.Size([6, 4])\n",
      "z:  tensor([[5, 4, 8, 1, 1, 0, 0, 6],\n",
      "        [7, 9, 2, 6, 5, 0, 6, 9],\n",
      "        [8, 2, 8, 2, 2, 4, 2, 0]])\n",
      "torch.Size([3, 8])\n",
      "g:  tensor([[[5, 4, 8, 1],\n",
      "         [7, 9, 2, 6],\n",
      "         [8, 2, 8, 2]],\n",
      "\n",
      "        [[1, 0, 0, 6],\n",
      "         [5, 0, 6, 9],\n",
      "         [2, 4, 2, 0]]])\n",
      "torch.Size([2, 3, 4])\n"
     ]
    }
   ],
   "source": [
    "v = torch.randint(0, 10, (3,4))\n",
    "w = torch.randint(0, 10, (3,4))\n",
    "\n",
    "## 1: concat along first dimension.\n",
    "y = torch.cat((v,w) , dim=0)\n",
    "print(\"y\", y)\n",
    "print(y.shape)\n",
    "\n",
    "## 2: concat along second dimension.\n",
    "z= torch.cat((v,w), dim=1)\n",
    "print(\"z: \", z)\n",
    "print(z.shape)\n",
    "## 3: concat along new dimension.  per aggiungere una nuova dimensione devo usare stack, dim indica sempre dove aggiungere la nuova dimensione\n",
    "g= torch.stack((v,w), dim=0)\n",
    "print(\"g: \", g)\n",
    "print(g.shape)"
   ]
  },
  {
   "cell_type": "markdown",
   "id": "e3511752",
   "metadata": {
    "editable": true,
    "papermill": {
     "duration": 0.012882,
     "end_time": "2025-10-08T15:23:00.483452",
     "exception": false,
     "start_time": "2025-10-08T15:23:00.470570",
     "status": "completed"
    },
    "slideshow": {
     "slide_type": ""
    },
    "tags": []
   },
   "source": [
    "### Reshape and View\n",
    "\n",
    "PyTorch lets you reshape your tensors, by keeping the same data, but re-arranging its dimensions.\n",
    "\n",
    "Create a random vector of size (2, 3, 4), and make a new vector of size (6, 4) using [``torch.reshape``](https://docs.pytorch.org/docs/stable/generated/torch.Tensor.reshape.html) and [``torch.view``](https://www.geeksforgeeks.org/python/how-does-the-view-method-work-in-python-pytorch/).\n",
    "\n",
    "- `torch.reshape` works on all vectors, but it might be less efficient when working on contiguous data.\n",
    "- `torch.view` only works on contiguous data (see [``torch.is_contiguous``](https://docs.pytorch.org/docs/stable/generated/torch.Tensor.is_contiguous.html)), but it is more efficient.\n",
    "- \n",
    "*Un tensore non contiguo è un tensore che è stato permutato, cioè significa che ha cambiato le sue dimensioni*\n",
    "\n",
    "In general, ``torch.reshape`` is the safest option to use."
   ]
  },
  {
   "cell_type": "code",
   "execution_count": 12,
   "id": "86830558",
   "metadata": {
    "execution": {
     "iopub.execute_input": "2025-10-08T15:23:00.511473Z",
     "iopub.status.busy": "2025-10-08T15:23:00.510149Z",
     "iopub.status.idle": "2025-10-08T15:23:00.521099Z",
     "shell.execute_reply": "2025-10-08T15:23:00.519628Z"
    },
    "papermill": {
     "duration": 0.026777,
     "end_time": "2025-10-08T15:23:00.522910",
     "exception": false,
     "start_time": "2025-10-08T15:23:00.496133",
     "status": "completed"
    },
    "tags": []
   },
   "outputs": [
    {
     "name": "stdout",
     "output_type": "stream",
     "text": [
      "tensor([[[0.4505, 0.3881, 0.5073, 0.4701],\n",
      "         [0.6202, 0.6401, 0.0459, 0.3155],\n",
      "         [0.9211, 0.6948, 0.4751, 0.1985]],\n",
      "\n",
      "        [[0.1941, 0.0521, 0.3370, 0.6689],\n",
      "         [0.8188, 0.7308, 0.0580, 0.1993],\n",
      "         [0.4211, 0.9837, 0.5723, 0.3705]]]) \n",
      " tensor([[0.4505, 0.3881, 0.5073, 0.4701],\n",
      "        [0.6202, 0.6401, 0.0459, 0.3155],\n",
      "        [0.9211, 0.6948, 0.4751, 0.1985],\n",
      "        [0.1941, 0.0521, 0.3370, 0.6689],\n",
      "        [0.8188, 0.7308, 0.0580, 0.1993],\n",
      "        [0.4211, 0.9837, 0.5723, 0.3705]])\n",
      "tensor([[0.4505, 0.3881, 0.5073, 0.4701],\n",
      "        [0.6202, 0.6401, 0.0459, 0.3155],\n",
      "        [0.9211, 0.6948, 0.4751, 0.1985],\n",
      "        [0.1941, 0.0521, 0.3370, 0.6689],\n",
      "        [0.8188, 0.7308, 0.0580, 0.1993],\n",
      "        [0.4211, 0.9837, 0.5723, 0.3705]])\n",
      "v is contiguous:  False\n"
     ]
    }
   ],
   "source": [
    "## 1: create a random tensor of size (2, 3, 4)\n",
    "g1= torch.rand(2,3,4)\n",
    "\n",
    "## 2: reshape it so that its size is (6, 4) using torch.reshape\n",
    "g2= torch.reshape (g1, (6,4))\n",
    "print (g1, \"\\n\", g2)\n",
    "# Is v altered by reshape?\n",
    "\n",
    "## 3: reshape v so that its size is (6, 4) using torch.view\n",
    "# Is v altered by view?\n",
    "g3=g1.view(6,4)\n",
    "print (g3)\n",
    "\n",
    "## 4: as a final step, try to make a tensor not contiguous: e.g., permuting its dimensions\n",
    "v = torch.rand(2, 3, 4)\n",
    "\n",
    "# Permute v's dimensions by using torch.permute, so that the final shape is (3, 2, 4). Do it inplace.\n",
    "v= v.permute(1,0,2)\n",
    "# Make sure that v is not contiguous anymore.\n",
    "print (\"v is contiguous: \", v.is_contiguous())\n",
    "# print(v.view(6, 4)) would yield an error.\n",
    "\n",
    "#v=v.view(6,4)        chiaramenta da errore perchè non è contiguo\n"
   ]
  },
  {
   "cell_type": "markdown",
   "id": "f2f0e9cd",
   "metadata": {
    "papermill": {
     "duration": 0.012676,
     "end_time": "2025-10-08T15:23:00.548586",
     "exception": false,
     "start_time": "2025-10-08T15:23:00.535910",
     "status": "completed"
    },
    "tags": []
   },
   "source": [
    "## Broadcasting\n",
    "\n",
    "Same as in NumPy, also PyTorch tensors allow [broadcasting](https://pytorch.org/docs/stable/notes/broadcasting.html).\n",
    "When performing element-wise operations (like sums) on two tensors of mismatching sizes, the smaller tensor can adapt to the size of the larger tensor in case these simple rules apply:\n",
    "\n",
    "- Each tensor has at least one dimension.\n",
    "- When iterating over the dimension sizes, starting at the trailing (right-most) dimension, the dimension sizes must be\n",
    "    -  equal\n",
    "    -  one of them is 1\n",
    "    -  one of them does not exist.\n",
    "\n",
    "Let us see an example:\n",
    "\n",
    "Assume you have $v = [[1, 2, 3], [4, 5, 6]]$ shape (2, 3) and $w=[3, 2, 1]$ shape (3). If we want to perform $v + w$ (element by element sum), it is clear that the dimensions don't match, but with the help of broadcasting we can still do it: $w$ is simply enlarged to reach size (2, 3) by copying itself twice on the first axis. Then, it is possible to perform element by element sum $v+w$.\n",
    "\n",
    "Let's put broadcasting in practice:\n",
    "\n",
    "1. Perform the above described example $v+w$ using tensors, check that the result size is (2, 3) and that numbers add up.\n",
    "2. $r = [[1, 2], [3, 4], [5, 6]]$ and $l=[1, 2, 3]$. Compute $r + l$. It should raise errors. Why?\n",
    "3. Adjust the size of $l$ in example 2 so that the sum works. What size should $l$ have in order for broadcasting to work on $r + l$? RISPOSTA: DEVE ESSERE DI DIMENSIONE [3,2], NON [2,3]\n",
    "4. Create random integers tensors $s$ of size (2, 1, 3, 1) and $t$ of size (1, 3, 1, 3). Does broadcasting work here in order to compute $s+t$? In case it does, predict the final shape of the result. \n",
    " \n",
    " "
   ]
  },
  {
   "cell_type": "code",
   "execution_count": 13,
   "id": "33cdf289",
   "metadata": {
    "ExecuteTime": {
     "end_time": "2024-09-19T08:58:04.389094Z",
     "start_time": "2024-09-19T08:58:04.387183Z"
    },
    "execution": {
     "iopub.execute_input": "2025-10-08T15:23:00.576367Z",
     "iopub.status.busy": "2025-10-08T15:23:00.575970Z",
     "iopub.status.idle": "2025-10-08T15:23:00.588822Z",
     "shell.execute_reply": "2025-10-08T15:23:00.587572Z"
    },
    "papermill": {
     "duration": 0.029347,
     "end_time": "2025-10-08T15:23:00.590744",
     "exception": false,
     "start_time": "2025-10-08T15:23:00.561397",
     "status": "completed"
    },
    "tags": []
   },
   "outputs": [
    {
     "name": "stdout",
     "output_type": "stream",
     "text": [
      "tensor([[4, 4, 4],\n",
      "        [7, 7, 7]]) \n",
      " torch.Size([2, 3])\n",
      "tensor([[2, 3],\n",
      "        [5, 6],\n",
      "        [8, 9]]) \n",
      " torch.Size([3, 2])\n",
      "tensor([[[[43],\n",
      "          [76],\n",
      "          [ 2]]],\n",
      "\n",
      "\n",
      "        [[[25],\n",
      "          [ 8],\n",
      "          [ 4]]]]) \n",
      " tensor([[[[72, 98, 13]],\n",
      "\n",
      "         [[ 0, 75, 92]],\n",
      "\n",
      "         [[ 4, 38, 74]]]])\n"
     ]
    }
   ],
   "source": [
    "## 1: compute v + w\n",
    "v= torch.tensor([[1,2,3],[4,5,6]])\n",
    "w= torch.tensor([3,2,1])\n",
    "t=v+w\n",
    "print (t, \"\\n\", t.shape)\n",
    "\n",
    "## 2: compute r + l. It doesn't work, why?\n",
    "r=torch.tensor([[1,2],[3,4],[5,6]])\n",
    "l=torch.tensor([1,2,3])\n",
    "#t=r+l\n",
    "#print (t, \"\\n\", t.shape)\n",
    "## 3: adjust the size of l, and compute r + l\n",
    "l=l.unsqueeze(dim=1)\n",
    "t=r+l\n",
    "print (t, \"\\n\", t.shape)\n",
    "\n",
    "## 4: compute s + t\n",
    "s=torch.randint(0,100,(2,1,3,1))\n",
    "t=torch.randint(0,100,(1,3,1,3))\n",
    "print (s, \"\\n\", t)\n",
    "t=s+t"
   ]
  },
  {
   "cell_type": "markdown",
   "id": "192467cf",
   "metadata": {
    "papermill": {
     "duration": 0.012659,
     "end_time": "2025-10-08T15:23:00.617221",
     "exception": false,
     "start_time": "2025-10-08T15:23:00.604562",
     "status": "completed"
    },
    "tags": []
   },
   "source": [
    "## PyTorch functions\n",
    "\n",
    "In this section we are going to learn the basic functions of PyTorch.\n",
    "\n",
    "### Mean, min, max, sum ...\n",
    "\n",
    "These functions are quite self-explanatory, and they work the same way as in NumPy. The only detail we ought to pay attention to is the axis we want to perform the function along (in NumPy it was called `axis`, in PyTorch `dim`).\n",
    "\n",
    "Create a random tensor $v$ of ints of size (3, 2, 4) and print it.\n",
    "\n",
    "In order to be sure you have understood what is going on, try to predict the result and then check that your prediction is wrong/correct.\n",
    "\n",
    "1. Compute the min value in the entire tensor.\n",
    "2. Compute the max value along axis 0.\n",
    "3. Compute the min along axis 1.\n",
    "4. Multi-dimensional axes: take the sum over axes (0, 1). \n"
   ]
  },
  {
   "cell_type": "code",
   "execution_count": 14,
   "id": "ecfcc3d8",
   "metadata": {
    "execution": {
     "iopub.execute_input": "2025-10-08T15:23:00.644215Z",
     "iopub.status.busy": "2025-10-08T15:23:00.643891Z",
     "iopub.status.idle": "2025-10-08T15:23:00.651243Z",
     "shell.execute_reply": "2025-10-08T15:23:00.650208Z"
    },
    "papermill": {
     "duration": 0.022973,
     "end_time": "2025-10-08T15:23:00.652870",
     "exception": false,
     "start_time": "2025-10-08T15:23:00.629897",
     "status": "completed"
    },
    "tags": []
   },
   "outputs": [
    {
     "name": "stdout",
     "output_type": "stream",
     "text": [
      "tensor([[[93, 51,  2,  0],\n",
      "         [93, 64, 12, 42]],\n",
      "\n",
      "        [[61, 23, 27, 50],\n",
      "         [38, 37, 83, 67]],\n",
      "\n",
      "        [[47, 32, 55, 64],\n",
      "         [77, 72, 93, 67]]])\n"
     ]
    }
   ],
   "source": [
    "# Create v of shape (3, 2, 4)\n",
    "v=torch.randint(0,100, (3,2,4))\n",
    "print (v)"
   ]
  },
  {
   "cell_type": "code",
   "execution_count": 15,
   "id": "fa09c758",
   "metadata": {
    "ExecuteTime": {
     "end_time": "2024-09-19T09:11:40.284320Z",
     "start_time": "2024-09-19T09:11:40.281917Z"
    },
    "execution": {
     "iopub.execute_input": "2025-10-08T15:23:00.680016Z",
     "iopub.status.busy": "2025-10-08T15:23:00.679662Z",
     "iopub.status.idle": "2025-10-08T15:23:00.694704Z",
     "shell.execute_reply": "2025-10-08T15:23:00.693709Z"
    },
    "papermill": {
     "duration": 0.031042,
     "end_time": "2025-10-08T15:23:00.696841",
     "exception": false,
     "start_time": "2025-10-08T15:23:00.665799",
     "status": "completed"
    },
    "tags": []
   },
   "outputs": [
    {
     "name": "stdout",
     "output_type": "stream",
     "text": [
      "minimo:  tensor(0)\n",
      "Max along dim=0:\n",
      " torch.return_types.max(\n",
      "values=tensor([[93, 51, 55, 64],\n",
      "        [93, 72, 93, 67]]),\n",
      "indices=tensor([[0, 0, 2, 2],\n",
      "        [0, 2, 2, 1]]))\n",
      "Min along dim=1:\n",
      " torch.return_types.min(\n",
      "values=tensor([[93, 51,  2,  0],\n",
      "        [38, 23, 27, 50],\n",
      "        [47, 32, 55, 64]]),\n",
      "indices=tensor([[0, 0, 0, 0],\n",
      "        [1, 0, 0, 0],\n",
      "        [0, 0, 0, 0]]))\n"
     ]
    }
   ],
   "source": [
    "## 1: Compute the min value of v.\n",
    "print(\"minimo: \", v.min())\n",
    "\n",
    "## 2: Compute the max along axis 0.\n",
    "print(\"Max along dim=0:\\n\",v.max(dim=0))\n",
    "\n",
    "## 3: Compute the min along axis 1.\n",
    "print(\"Min along dim=1:\\n\",v.min(dim=1))\n",
    "\n",
    "## 4: Compute the sum over axes (0, 1)\n",
    "#s=t.sum(dim=0)+t.sum(dim=1)\n",
    "#print(\"Somma tra asse 0 e asse 1\", s)"
   ]
  },
  {
   "cell_type": "markdown",
   "id": "6ec6c21d",
   "metadata": {
    "papermill": {
     "duration": 0.013209,
     "end_time": "2025-10-08T15:23:00.723933",
     "exception": false,
     "start_time": "2025-10-08T15:23:00.710724",
     "status": "completed"
    },
    "tags": []
   },
   "source": [
    "### [`torch.dot`](https://docs.pytorch.org/docs/stable/generated/torch.dot.html#torch.dot), [`torch.matmul`](https://docs.pytorch.org/docs/stable/generated/torch.matmul), *\n",
    "\n",
    "Unlike NumPy, Torch has a stricter policy on these operands:\n",
    "\n",
    "- `*`: is the Hadamard product. I.e., element-wise product. --> prodotto elemento per elemento\n",
    "- [`torch.dot`](https://docs.pytorch.org/docs/stable/generated/torch.dot.html#torch.dot): only used to compute the dot product of two 1-dimensional tensors. Remember how confusing the dot product between multi-dimension NumPy vectors is (see Exercise 1)? PyTorch avoids this issue by simply forbidding the dimension of the input tensors to be greater than 1.\n",
    "- [`torch.matmul`](https://docs.pytorch.org/docs/stable/generated/torch.matmul): or its alias `@` computes the matrix product. Can be used for larger than 2-dimensional tensors (it applies broadcasting, as much as in NumPy). Notice that the complexity of multiplying two $n\\times n$ matrices is $O(n^3)$. We will take advantage of its relatively high time-complexity in order to show how much faster are GPUs with respect to CPUs later on in the notebook.\n",
    "\n",
    "1. Create two random integer tensors $A$ and $B$ of compatible sizes and perform their Hadamard product (element by element product). Try these sizes (predict whether they work or not):\n",
    "    - $A$ size (3, 4), $B$ size (3, 4).  si\n",
    "    - $A$ size (3, 4), $B$ size (4, 4).  no\n",
    "    - $A$ size (3, 4), $B$ size (1, 4).  si\n",
    "2. Create two random 1-dimensional tensors $v, w$ and compute their dot product. If you can use multiple ways to compute it, check that indeed they return the same value.\n",
    "3. Create $C$ of size (3, 4) and $D$ of size (4, 3). Compute the matrix product. Are the sizes compatible? no\n",
    "4. Create $E$ of size (3, 3) and $F$ of size (4, 3). Compute the matrix product. Are the sizes compatible? If not, use the transpose operator [`torch.t()`](https://docs.pytorch.org/docs/stable/generated/torch.t.html#torch.t) to adjust the dimensions of one of the two matrices and compute the matrix product.\n",
    "\n",
    "\n"
   ]
  },
  {
   "cell_type": "code",
   "execution_count": 16,
   "id": "35a6ef73",
   "metadata": {
    "execution": {
     "iopub.execute_input": "2025-10-08T15:23:00.751668Z",
     "iopub.status.busy": "2025-10-08T15:23:00.751351Z",
     "iopub.status.idle": "2025-10-08T15:23:00.782899Z",
     "shell.execute_reply": "2025-10-08T15:23:00.781082Z"
    },
    "papermill": {
     "duration": 0.047415,
     "end_time": "2025-10-08T15:23:00.784844",
     "exception": false,
     "start_time": "2025-10-08T15:23:00.737429",
     "status": "completed"
    },
    "tags": []
   },
   "outputs": [
    {
     "name": "stdout",
     "output_type": "stream",
     "text": [
      "1a:  tensor([[1539, 1749, 3850, 3577],\n",
      "        [2460,  528,  432, 5152],\n",
      "        [5400, 3280, 2926, 1344]])\n",
      "1c:  tensor([[1932, 4590,  693,    0],\n",
      "        [3276, 4050,  473, 5922],\n",
      "        [4158, 4212, 1023,  882]])\n",
      "2:  tensor(17024)\n",
      "3:  tensor([[ 8070,  6183,  4359],\n",
      "        [11290,  7798,  5844],\n",
      "        [ 9980,  6908,  5490]])\n",
      "4:  tensor([[  330, 10491,  2421,  7020],\n",
      "        [ 6776, 12448,  6982, 11778],\n",
      "        [ 3518, 13256,  5094,  9936]])\n"
     ]
    }
   ],
   "source": [
    "## 1: Create A, B and perform hadamard product\n",
    "# A (3,4), B (3,4)\n",
    "a= torch.randint (0,100, (3,4))\n",
    "b= torch.randint (0,100, (3,4))\n",
    "c=a*b\n",
    "print(\"1a: \", c)\n",
    "\n",
    "# A (3,4), B (4,4)\n",
    "a= torch.randint (0,100, (3,4))\n",
    "b= torch.randint (0,100, (4,4))\n",
    "#c=a*b\n",
    "#print(\"1b: \", c)\n",
    "\n",
    "# A (3,4), B (1,4)\n",
    "a= torch.randint (0,100, (3,4))\n",
    "b= torch.randint (0,100, (1,4))\n",
    "c=a*b\n",
    "print(\"1c: \", c)\n",
    "\n",
    "## 2: Create 1-dimensional tensors v, w and compute their dot product.\n",
    "v=torch.randint(0,100, (5,))\n",
    "w=torch.randint(0,100, (5,))\n",
    "c=torch.dot(v,w)\n",
    "print(\"2: \", c)\n",
    "\n",
    "## 3: Compute matrix product of C and D.\n",
    "c= torch.randint (0,100, (3,4))\n",
    "d= torch.randint (0,100, (4,3))\n",
    "f=c@d\n",
    "print(\"3: \", f)\n",
    "\n",
    "## 4: adjust dimensions using .T, and compute the matrix product E @ F\n",
    "e= torch.randint (0,100, (3,3))\n",
    "f= torch.randint (0,100, (4,3))\n",
    "ft=f.T\n",
    "g=e@ft\n",
    "print (\"4: \", g)"
   ]
  },
  {
   "cell_type": "markdown",
   "id": "5df7aa6c",
   "metadata": {
    "papermill": {
     "duration": 0.013292,
     "end_time": "2025-10-08T15:23:00.812022",
     "exception": false,
     "start_time": "2025-10-08T15:23:00.798730",
     "status": "completed"
    },
    "tags": []
   },
   "source": [
    "## Gradients\n",
    "\n",
    "One of the useful features of PyTorch (that NumPy doesn't have) is that it is possible to compute automatically the gradient of functions. \n",
    "As you will see, the gradient of a function is one of the key ingredients of the backpropagation algorithm, used to train neural nets.\n",
    "This is also one of the reason why PyTorch is so ubiquitous to neural nets applications.\n",
    "\n",
    "Assume we have tensor $x = [2], y = [2]$. We have $z = 2x^2 + 3y = [14]$.\n",
    "\n",
    "We know that $\\frac{\\delta z}{\\delta x} = 4x$, $\\frac{\\delta z}{\\delta y} = 3$. Since we are evaluating the point $x=2, y=2$, we get that the gradient is (8, 3). The gradients are going to be stored in `x.grad` and `y.grad` if we specify the option `requires_grad=True`. We can let PyTorch compute the gradients by invoking `z.backward()`. Check that indeed `x.grad` and `y.grad` hold the desired values.\n"
   ]
  },
  {
   "cell_type": "code",
   "execution_count": 17,
   "id": "2170eb9e",
   "metadata": {
    "ExecuteTime": {
     "end_time": "2024-09-19T10:25:06.967129Z",
     "start_time": "2024-09-19T10:25:06.961072Z"
    },
    "execution": {
     "iopub.execute_input": "2025-10-08T15:23:00.841385Z",
     "iopub.status.busy": "2025-10-08T15:23:00.841041Z",
     "iopub.status.idle": "2025-10-08T15:23:00.861008Z",
     "shell.execute_reply": "2025-10-08T15:23:00.859955Z"
    },
    "papermill": {
     "duration": 0.036593,
     "end_time": "2025-10-08T15:23:00.862816",
     "exception": false,
     "start_time": "2025-10-08T15:23:00.826223",
     "status": "completed"
    },
    "tags": []
   },
   "outputs": [
    {
     "name": "stdout",
     "output_type": "stream",
     "text": [
      "tensor([8.], dtype=torch.float64)\n",
      "tensor([3.], dtype=torch.float64)\n"
     ]
    }
   ],
   "source": [
    "x = torch.tensor([2], dtype=torch.float64, requires_grad=True)\n",
    "y = torch.tensor([2], dtype=torch.float64, requires_grad=True)\n",
    "z = 2 * x*x + 3 * y\n",
    "z.backward()\n",
    "print(x.grad)\n",
    "print(y.grad)"
   ]
  },
  {
   "cell_type": "markdown",
   "id": "903b8638",
   "metadata": {
    "papermill": {
     "duration": 0.013053,
     "end_time": "2025-10-08T15:23:00.889745",
     "exception": false,
     "start_time": "2025-10-08T15:23:00.876692",
     "status": "completed"
    },
    "tags": []
   },
   "source": [
    "1. Create tensors $s = [1]$ and $t = [1]$, define a new tensor $w = 5s + 6$ and compute its gradient. What is the gradient associated to $t$? (Notice that $w$ does not depend on $t$). \n",
    "2. What happens if we try to define an integer tensor with `requires_grad=True`?\n",
    "3. What happens if we call `numpy()` on a tensor that has `requires_grad=True`?"
   ]
  },
  {
   "cell_type": "code",
   "execution_count": 18,
   "id": "6ab934d3",
   "metadata": {
    "ExecuteTime": {
     "end_time": "2024-09-19T12:03:47.093944Z",
     "start_time": "2024-09-19T12:03:47.091851Z"
    },
    "execution": {
     "iopub.execute_input": "2025-10-08T15:23:00.917755Z",
     "iopub.status.busy": "2025-10-08T15:23:00.917197Z",
     "iopub.status.idle": "2025-10-08T15:23:00.926378Z",
     "shell.execute_reply": "2025-10-08T15:23:00.925185Z"
    },
    "papermill": {
     "duration": 0.024929,
     "end_time": "2025-10-08T15:23:00.927937",
     "exception": false,
     "start_time": "2025-10-08T15:23:00.903008",
     "status": "completed"
    },
    "tags": []
   },
   "outputs": [
    {
     "name": "stdout",
     "output_type": "stream",
     "text": [
      "tensor([5.], dtype=torch.float64)\n",
      "None\n"
     ]
    }
   ],
   "source": [
    "## 1: gradient of t for w = 5s + 6.\n",
    "s = torch.tensor([1], dtype=torch.float64, requires_grad=True)\n",
    "t = torch.tensor([1], dtype=torch.float64, requires_grad=True)\n",
    "w = 5*s + 6\n",
    "w.backward()\n",
    "print(s.grad)\n",
    "print(t.grad)\n",
    "\n",
    "## 2: integer tensor with requires_grad.\n",
    "#s = torch.tensor([1], dtype=torch.int, requires_grad=True)\n",
    "#t = torch.tensor([1], dtype=torch.int, requires_grad=True)\n",
    "#w = 5*s + 6\n",
    "#w.backward()\n",
    "#print(s.grad)\n",
    "#print(t.grad)\n",
    "## 3: compute .numpy() of a tensor with requires_grad.\n"
   ]
  },
  {
   "cell_type": "markdown",
   "id": "9eed194c",
   "metadata": {
    "papermill": {
     "duration": 0.012636,
     "end_time": "2025-10-08T15:23:00.954653",
     "exception": false,
     "start_time": "2025-10-08T15:23:00.942017",
     "status": "completed"
    },
    "tags": []
   },
   "source": [
    "In this section we point out a very important feature of gradients, namely that they are *cumulative*! In order to see what does that mean, let's see in practice the example that was given in class:\n",
    "\n",
    "1. Create tensors $x=[2], y=[3]$ (with flag `requires_grad=True`).\n",
    "2. Compute $z = x * x + y$ and perform the backward pass.\n",
    "3. Check that the gradients are as expected: $\\frac{\\delta z}{\\delta x}=2x=4$, $\\frac{\\delta z}{\\delta y} = 1$.\n",
    "4. Compute $g = xy + 3x$ and perform che backward pass.\n",
    "5. Check out the gradients: $\\frac{\\delta g}{\\delta x}=y + 3=6$, $\\frac{\\delta g}{\\delta y} = x = 2$.\n",
    "6. Do you see the expected value? Can you explain why? (hint: gradients are *cumulative*).\n",
    "\n",
    "RISPOSTA:   In PyTorch, i gradienti sono cumulativi per impostazione predefinita.\n",
    "Ciò significa che ogni volta che chiami .backward(), il nuovo gradiente si somma a quello già presente nel tensore (.grad), invece di sostituirlo.\n",
    "Va azzerato ogni volta se no diventa cumulativo!!\n",
    "7. In order to fix this potential issue, use [`torch.zero_grad()`](https://docs.pytorch.org/docs/stable/generated/torch.optim.Optimizer.zero_grad.html) in between the computation of $z$ and $g$. Do you observe the expected gradient now?"
   ]
  },
  {
   "cell_type": "code",
   "execution_count": 19,
   "id": "2004d793",
   "metadata": {
    "execution": {
     "iopub.execute_input": "2025-10-08T15:23:00.982322Z",
     "iopub.status.busy": "2025-10-08T15:23:00.981970Z",
     "iopub.status.idle": "2025-10-08T15:23:00.994927Z",
     "shell.execute_reply": "2025-10-08T15:23:00.993865Z"
    },
    "papermill": {
     "duration": 0.028876,
     "end_time": "2025-10-08T15:23:00.996787",
     "exception": false,
     "start_time": "2025-10-08T15:23:00.967911",
     "status": "completed"
    },
    "tags": []
   },
   "outputs": [
    {
     "name": "stdout",
     "output_type": "stream",
     "text": [
      "tensor([4.], dtype=torch.float64)\n",
      "tensor([1.], dtype=torch.float64)\n",
      "tensor([6.], dtype=torch.float64)\n",
      "tensor([2.], dtype=torch.float64)\n"
     ]
    }
   ],
   "source": [
    "## 1: create x, y.\n",
    "x = torch.tensor([2], dtype=torch.float64, requires_grad=True)\n",
    "y = torch.tensor([3], dtype=torch.float64, requires_grad=True)\n",
    "## 2: compute z.\n",
    "z=x*x + y\n",
    "## 3: check out gradients of x, y.\n",
    "z.backward()\n",
    "print(x.grad)\n",
    "print(y.grad)\n",
    "## 4: compute g.\n",
    "g= x*y + 3*x\n",
    "g.backward()\n",
    "## 5: check out gradients of x, y\n",
    "g= x*y + 3*x\n",
    "g.backward()\n",
    "## 7: Repeat 1-5 using torch.zero_grad()\n",
    "x.grad.zero_()\n",
    "y.grad.zero_()\n",
    "g= x*y + 3*x\n",
    "g.backward()\n",
    "print(x.grad)\n",
    "print(y.grad)"
   ]
  },
  {
   "cell_type": "markdown",
   "id": "984c995f",
   "metadata": {
    "papermill": {
     "duration": 0.012927,
     "end_time": "2025-10-08T15:23:01.023469",
     "exception": false,
     "start_time": "2025-10-08T15:23:01.010542",
     "status": "completed"
    },
    "tags": []
   },
   "source": [
    "## Device (GPU vs CPU)\n",
    "\n",
    "In this section we will learn how do computation using the GPU instead of the CPU: notice that this is the main reason why, in Deep Learning applications, PyTorch is used over NumPy.\n",
    "\n",
    "By default, tensors are accessed by the CPU. You can check it easily using the [`.device()`](https://pytorch.org/docs/stable/tensor_attributes.html#torch.device) method.\n",
    "1) Create an identity matrix of size (4, 4) and access its device attribute."
   ]
  },
  {
   "cell_type": "code",
   "execution_count": 20,
   "id": "dc2c4e62",
   "metadata": {
    "ExecuteTime": {
     "end_time": "2024-09-18T20:17:23.060931Z",
     "start_time": "2024-09-18T20:17:23.055769Z"
    },
    "execution": {
     "iopub.execute_input": "2025-10-08T15:23:01.050806Z",
     "iopub.status.busy": "2025-10-08T15:23:01.050462Z",
     "iopub.status.idle": "2025-10-08T15:23:01.056829Z",
     "shell.execute_reply": "2025-10-08T15:23:01.055685Z"
    },
    "papermill": {
     "duration": 0.021969,
     "end_time": "2025-10-08T15:23:01.058442",
     "exception": false,
     "start_time": "2025-10-08T15:23:01.036473",
     "status": "completed"
    },
    "tags": []
   },
   "outputs": [
    {
     "name": "stdout",
     "output_type": "stream",
     "text": [
      "cpu\n"
     ]
    }
   ],
   "source": [
    "## 1: see .device of a matrix\n",
    "\n",
    "v = torch.eye(4) # create a tensor\n",
    "print(v.device)"
   ]
  },
  {
   "cell_type": "markdown",
   "id": "a98886fe",
   "metadata": {
    "papermill": {
     "duration": 0.013635,
     "end_time": "2025-10-08T15:23:01.092329",
     "exception": false,
     "start_time": "2025-10-08T15:23:01.078694",
     "status": "completed"
    },
    "tags": []
   },
   "source": [
    "Hence, every time we want to use the GPU, we need to explicitly move the tensors to the desired device. Careful here: your laptop doesn't necessarily have a dedicated GPU. And, even if it has one, it might not be compatible with CUDA (the NVIDIA interface that allows computations to be performed on the GPU).\n",
    "\n",
    "You can check if CUDA is available on your machine by simply using [`cuda.is_available()`](https://pytorch.org/docs/stable/generated/torch.cuda.is_available.html)."
   ]
  },
  {
   "cell_type": "code",
   "execution_count": 21,
   "id": "dc7420a6",
   "metadata": {
    "ExecuteTime": {
     "end_time": "2024-09-18T20:08:57.159307Z",
     "start_time": "2024-09-18T20:08:57.154986Z"
    },
    "execution": {
     "iopub.execute_input": "2025-10-08T15:23:01.121020Z",
     "iopub.status.busy": "2025-10-08T15:23:01.120708Z",
     "iopub.status.idle": "2025-10-08T15:23:01.127242Z",
     "shell.execute_reply": "2025-10-08T15:23:01.126217Z"
    },
    "papermill": {
     "duration": 0.02269,
     "end_time": "2025-10-08T15:23:01.128890",
     "exception": false,
     "start_time": "2025-10-08T15:23:01.106200",
     "status": "completed"
    },
    "tags": []
   },
   "outputs": [
    {
     "data": {
      "text/plain": [
       "False"
      ]
     },
     "execution_count": 21,
     "metadata": {},
     "output_type": "execute_result"
    }
   ],
   "source": [
    "torch.cuda.is_available()"
   ]
  },
  {
   "cell_type": "markdown",
   "id": "48d5101b",
   "metadata": {
    "papermill": {
     "duration": 0.01321,
     "end_time": "2025-10-08T15:23:01.156603",
     "exception": false,
     "start_time": "2025-10-08T15:23:01.143393",
     "status": "completed"
    },
    "tags": []
   },
   "source": [
    "If the above returns False, it could be either because you didn't install correctly CUDA, or because you laptop doesn't have a GPU compatible with it. \n",
    "If you have a MacBook with Apple Silicon processors, you can still use the device `mps`:"
   ]
  },
  {
   "cell_type": "code",
   "execution_count": 22,
   "id": "71a5a03f",
   "metadata": {
    "ExecuteTime": {
     "end_time": "2024-09-18T20:12:06.271423Z",
     "start_time": "2024-09-18T20:12:06.267589Z"
    },
    "execution": {
     "iopub.execute_input": "2025-10-08T15:23:01.184720Z",
     "iopub.status.busy": "2025-10-08T15:23:01.184290Z",
     "iopub.status.idle": "2025-10-08T15:23:01.190498Z",
     "shell.execute_reply": "2025-10-08T15:23:01.189494Z"
    },
    "papermill": {
     "duration": 0.022085,
     "end_time": "2025-10-08T15:23:01.192150",
     "exception": false,
     "start_time": "2025-10-08T15:23:01.170065",
     "status": "completed"
    },
    "tags": []
   },
   "outputs": [
    {
     "data": {
      "text/plain": [
       "False"
      ]
     },
     "execution_count": 22,
     "metadata": {},
     "output_type": "execute_result"
    }
   ],
   "source": [
    "# For mac M1/2/3/* users\n",
    "torch.backends.mps.is_available()"
   ]
  },
  {
   "cell_type": "markdown",
   "id": "66bbff3d",
   "metadata": {
    "papermill": {
     "duration": 0.01768,
     "end_time": "2025-10-08T15:23:01.230835",
     "exception": false,
     "start_time": "2025-10-08T15:23:01.213155",
     "status": "completed"
    },
    "tags": []
   },
   "source": [
    "We can set the device to one of these three options:\n",
    "- `cuda` (if you have a NVIDIA graphics card). Might be `cuda:0` etc if you have more than one.\n",
    "- `mps` (if you have a MacBook with M1/2/3/* processor)\n",
    "- `cpu` otherwise\n",
    "\n",
    "If your laptop doesn't have any of the above-mentioned devices apart from the CPU, you can use Kaggle's notebooks: they offer free hours of GPU per week (they count the hours the kernel is running, not if you are actually using the notebook. Hence, remember to shut the kernel down when you don't use it!!!)"
   ]
  },
  {
   "cell_type": "markdown",
   "id": "b550149d",
   "metadata": {
    "papermill": {
     "duration": 0.015773,
     "end_time": "2025-10-08T15:23:01.270383",
     "exception": false,
     "start_time": "2025-10-08T15:23:01.254610",
     "status": "completed"
    },
    "tags": []
   },
   "source": [
    "If you are using Kaggle platform for your projects (we recommend you to do that), you have at your disposal 30h/week of free GPUs: in order to activate it, you need to open a notebook, go to settings -> accelerator and you can select a GPU from there. If the GPU options are non-clickable, it is because you have to verify you account using your phone number. Go to home -> your picture (top right border) -> settings -> phone verification. Before the options become actually clickable you will need to wait a few minutes (<5')."
   ]
  },
  {
   "cell_type": "code",
   "execution_count": 23,
   "id": "2a056400",
   "metadata": {
    "ExecuteTime": {
     "end_time": "2024-09-18T20:17:26.711323Z",
     "start_time": "2024-09-18T20:17:26.707268Z"
    },
    "execution": {
     "iopub.execute_input": "2025-10-08T15:23:01.308622Z",
     "iopub.status.busy": "2025-10-08T15:23:01.307203Z",
     "iopub.status.idle": "2025-10-08T15:23:01.315082Z",
     "shell.execute_reply": "2025-10-08T15:23:01.314225Z"
    },
    "papermill": {
     "duration": 0.028885,
     "end_time": "2025-10-08T15:23:01.316870",
     "exception": false,
     "start_time": "2025-10-08T15:23:01.287985",
     "status": "completed"
    },
    "tags": []
   },
   "outputs": [
    {
     "data": {
      "text/plain": [
       "device(type='cpu')"
      ]
     },
     "execution_count": 23,
     "metadata": {},
     "output_type": "execute_result"
    }
   ],
   "source": [
    "device = torch.device('cuda' if torch.cuda.is_available() else 'mps' if torch.backends.mps.is_available() else 'cpu')\n",
    "device"
   ]
  },
  {
   "cell_type": "markdown",
   "id": "4da008f5",
   "metadata": {
    "papermill": {
     "duration": 0.013838,
     "end_time": "2025-10-08T15:23:01.344976",
     "exception": false,
     "start_time": "2025-10-08T15:23:01.331138",
     "status": "completed"
    },
    "tags": []
   },
   "source": [
    "Finally, move the tensor `v` you created earlier to the most convenient device. Use function [`.to`](https://pytorch.org/docs/stable/generated/torch.Tensor.to.html). Careful: is it an in-place method? Check that the device is indeed correct."
   ]
  },
  {
   "cell_type": "code",
   "execution_count": 24,
   "id": "abf5ccb9",
   "metadata": {
    "ExecuteTime": {
     "end_time": "2024-09-18T20:24:40.156801Z",
     "start_time": "2024-09-18T20:24:40.153872Z"
    },
    "execution": {
     "iopub.execute_input": "2025-10-08T15:23:01.373411Z",
     "iopub.status.busy": "2025-10-08T15:23:01.373057Z",
     "iopub.status.idle": "2025-10-08T15:23:01.377443Z",
     "shell.execute_reply": "2025-10-08T15:23:01.376455Z"
    },
    "papermill": {
     "duration": 0.020653,
     "end_time": "2025-10-08T15:23:01.379087",
     "exception": false,
     "start_time": "2025-10-08T15:23:01.358434",
     "status": "completed"
    },
    "tags": []
   },
   "outputs": [],
   "source": [
    "# Move vector v to the correct device. Check it is indeed on the desired device.\n"
   ]
  },
  {
   "cell_type": "markdown",
   "id": "61ce6d0d",
   "metadata": {
    "papermill": {
     "duration": 0.013637,
     "end_time": "2025-10-08T15:23:01.406814",
     "exception": false,
     "start_time": "2025-10-08T15:23:01.393177",
     "status": "completed"
    },
    "tags": []
   },
   "source": [
    "You can also create a tensor and send it directly to the correct device. \n",
    "1. Create a tensor of ones of size (3, 3) and specify in its constructor the `device` attribute. Check that, indeed, the tensor has been initialized with the correct device."
   ]
  },
  {
   "cell_type": "code",
   "execution_count": 25,
   "id": "502122ba",
   "metadata": {
    "ExecuteTime": {
     "end_time": "2024-09-19T06:49:34.057350Z",
     "start_time": "2024-09-19T06:49:34.051445Z"
    },
    "execution": {
     "iopub.execute_input": "2025-10-08T15:23:01.436098Z",
     "iopub.status.busy": "2025-10-08T15:23:01.435792Z",
     "iopub.status.idle": "2025-10-08T15:23:01.440303Z",
     "shell.execute_reply": "2025-10-08T15:23:01.439216Z"
    },
    "papermill": {
     "duration": 0.021348,
     "end_time": "2025-10-08T15:23:01.442116",
     "exception": false,
     "start_time": "2025-10-08T15:23:01.420768",
     "status": "completed"
    },
    "tags": []
   },
   "outputs": [],
   "source": [
    "## 1: Create a tensor and initialize it to the correct device."
   ]
  },
  {
   "cell_type": "markdown",
   "id": "76d56677",
   "metadata": {
    "papermill": {
     "duration": 0.013386,
     "end_time": "2025-10-08T15:23:01.469574",
     "exception": false,
     "start_time": "2025-10-08T15:23:01.456188",
     "status": "completed"
    },
    "tags": []
   },
   "source": [
    "### GPUs vs CPUs"
   ]
  },
  {
   "cell_type": "markdown",
   "id": "40f6d8ad",
   "metadata": {
    "papermill": {
     "duration": 0.013436,
     "end_time": "2025-10-08T15:23:01.496739",
     "exception": false,
     "start_time": "2025-10-08T15:23:01.483303",
     "status": "completed"
    },
    "tags": []
   },
   "source": [
    "Now, we prove empirically that GPUs are much faster than CPUs at doing large calculations.\n",
    "\n",
    "Create large tensors $G, H$ both of size (15000, 15000). Take their matrix product and measure how long it takes (use [`%%time`](https://ipython.readthedocs.io/en/9.2.0/interactive/magics.html) cell magic notebook function)."
   ]
  },
  {
   "cell_type": "code",
   "execution_count": 26,
   "id": "62b7b9b6",
   "metadata": {
    "ExecuteTime": {
     "end_time": "2024-09-18T20:17:26.711323Z",
     "start_time": "2024-09-18T20:17:26.707268Z"
    },
    "execution": {
     "iopub.execute_input": "2025-10-08T15:23:01.525905Z",
     "iopub.status.busy": "2025-10-08T15:23:01.525511Z",
     "iopub.status.idle": "2025-10-08T15:23:01.532404Z",
     "shell.execute_reply": "2025-10-08T15:23:01.531440Z"
    },
    "papermill": {
     "duration": 0.023704,
     "end_time": "2025-10-08T15:23:01.534654",
     "exception": false,
     "start_time": "2025-10-08T15:23:01.510950",
     "status": "completed"
    },
    "tags": []
   },
   "outputs": [
    {
     "data": {
      "text/plain": [
       "device(type='cpu')"
      ]
     },
     "execution_count": 26,
     "metadata": {},
     "output_type": "execute_result"
    }
   ],
   "source": [
    "device = torch.device('cuda' if torch.cuda.is_available() else 'mps' if torch.backends.mps.is_available() else 'cpu')\n",
    "device"
   ]
  },
  {
   "cell_type": "code",
   "execution_count": 27,
   "id": "1ae04965",
   "metadata": {
    "ExecuteTime": {
     "end_time": "2024-09-19T09:49:37.404396Z",
     "start_time": "2024-09-19T09:49:35.677903Z"
    },
    "execution": {
     "iopub.execute_input": "2025-10-08T15:23:01.563123Z",
     "iopub.status.busy": "2025-10-08T15:23:01.562806Z",
     "iopub.status.idle": "2025-10-08T15:23:06.265233Z",
     "shell.execute_reply": "2025-10-08T15:23:06.264342Z"
    },
    "papermill": {
     "duration": 4.718689,
     "end_time": "2025-10-08T15:23:06.267079",
     "exception": false,
     "start_time": "2025-10-08T15:23:01.548390",
     "status": "completed"
    },
    "tags": []
   },
   "outputs": [],
   "source": [
    "# Create E and F\n",
    "G = torch.rand(15000, 15000)\n",
    "H = torch.rand(15000, 15000)"
   ]
  },
  {
   "cell_type": "code",
   "execution_count": 28,
   "id": "f6ebfd62",
   "metadata": {
    "ExecuteTime": {
     "end_time": "2024-09-19T09:49:55.733265Z",
     "start_time": "2024-09-19T09:49:45.723855Z"
    },
    "execution": {
     "iopub.execute_input": "2025-10-08T15:23:06.295621Z",
     "iopub.status.busy": "2025-10-08T15:23:06.295109Z",
     "iopub.status.idle": "2025-10-08T15:23:57.434083Z",
     "shell.execute_reply": "2025-10-08T15:23:57.433178Z"
    },
    "papermill": {
     "duration": 51.169102,
     "end_time": "2025-10-08T15:23:57.449832",
     "exception": false,
     "start_time": "2025-10-08T15:23:06.280730",
     "status": "completed"
    },
    "scrolled": true,
    "tags": []
   },
   "outputs": [
    {
     "name": "stdout",
     "output_type": "stream",
     "text": [
      "CPU times: user 1min 41s, sys: 1.02 s, total: 1min 42s\n",
      "Wall time: 51.1 s\n"
     ]
    },
    {
     "data": {
      "text/plain": [
       "tensor([[3790.1150, 3745.1707, 3745.6272,  ..., 3768.5308, 3743.0227,\n",
       "         3706.6721],\n",
       "        [3773.6392, 3750.3528, 3765.0349,  ..., 3775.5669, 3731.9001,\n",
       "         3706.0330],\n",
       "        [3796.0645, 3770.6890, 3796.6648,  ..., 3794.4744, 3766.8022,\n",
       "         3745.0215],\n",
       "        ...,\n",
       "        [3798.8555, 3762.8057, 3786.7295,  ..., 3788.0398, 3797.0149,\n",
       "         3742.0872],\n",
       "        [3805.7043, 3766.7046, 3786.0449,  ..., 3801.5793, 3755.0752,\n",
       "         3732.4275],\n",
       "        [3805.4290, 3738.7937, 3763.7856,  ..., 3791.2998, 3757.9194,\n",
       "         3735.1331]])"
      ]
     },
     "execution_count": 28,
     "metadata": {},
     "output_type": "execute_result"
    }
   ],
   "source": [
    "%%time\n",
    "G @ H"
   ]
  },
  {
   "cell_type": "markdown",
   "id": "911f12cf",
   "metadata": {
    "papermill": {
     "duration": 0.013506,
     "end_time": "2025-10-08T15:23:57.477616",
     "exception": false,
     "start_time": "2025-10-08T15:23:57.464110",
     "status": "completed"
    },
    "tags": []
   },
   "source": [
    "Move $E$ and $F$ to the most convenient device at your disposal (different from CPU, if possible), and compute the same matrix product."
   ]
  },
  {
   "cell_type": "code",
   "execution_count": 29,
   "id": "d61c42d6",
   "metadata": {
    "ExecuteTime": {
     "end_time": "2024-09-19T09:50:02.144090Z",
     "start_time": "2024-09-19T09:50:01.448426Z"
    },
    "execution": {
     "iopub.execute_input": "2025-10-08T15:23:57.507754Z",
     "iopub.status.busy": "2025-10-08T15:23:57.507245Z",
     "iopub.status.idle": "2025-10-08T15:23:57.512315Z",
     "shell.execute_reply": "2025-10-08T15:23:57.511204Z"
    },
    "papermill": {
     "duration": 0.022262,
     "end_time": "2025-10-08T15:23:57.513962",
     "exception": false,
     "start_time": "2025-10-08T15:23:57.491700",
     "status": "completed"
    },
    "tags": []
   },
   "outputs": [],
   "source": [
    "# Move the tensors to GPU in another cell, so that the time is not counted.\n",
    "G = G.to(device)\n",
    "H = H.to(device)"
   ]
  },
  {
   "cell_type": "code",
   "execution_count": 30,
   "id": "ce45a307",
   "metadata": {
    "ExecuteTime": {
     "end_time": "2024-09-19T09:50:05.795896Z",
     "start_time": "2024-09-19T09:50:04.017497Z"
    },
    "execution": {
     "iopub.execute_input": "2025-10-08T15:23:57.542904Z",
     "iopub.status.busy": "2025-10-08T15:23:57.542557Z",
     "iopub.status.idle": "2025-10-08T15:24:48.666017Z",
     "shell.execute_reply": "2025-10-08T15:24:48.665050Z"
    },
    "jupyter": {
     "source_hidden": true
    },
    "papermill": {
     "duration": 51.153994,
     "end_time": "2025-10-08T15:24:48.681834",
     "exception": false,
     "start_time": "2025-10-08T15:23:57.527840",
     "status": "completed"
    },
    "tags": []
   },
   "outputs": [
    {
     "name": "stdout",
     "output_type": "stream",
     "text": [
      "CPU times: user 1min 41s, sys: 1.02 s, total: 1min 42s\n",
      "Wall time: 51.1 s\n"
     ]
    },
    {
     "data": {
      "text/plain": [
       "tensor([[3790.1150, 3745.1707, 3745.6272,  ..., 3768.5308, 3743.0227,\n",
       "         3706.6721],\n",
       "        [3773.6392, 3750.3528, 3765.0349,  ..., 3775.5669, 3731.9001,\n",
       "         3706.0330],\n",
       "        [3796.0645, 3770.6890, 3796.6648,  ..., 3794.4744, 3766.8022,\n",
       "         3745.0215],\n",
       "        ...,\n",
       "        [3798.8555, 3762.8057, 3786.7295,  ..., 3788.0398, 3797.0149,\n",
       "         3742.0872],\n",
       "        [3805.7043, 3766.7046, 3786.0449,  ..., 3801.5793, 3755.0752,\n",
       "         3732.4275],\n",
       "        [3805.4290, 3738.7937, 3763.7856,  ..., 3791.2998, 3757.9194,\n",
       "         3735.1331]])"
      ]
     },
     "execution_count": 30,
     "metadata": {},
     "output_type": "execute_result"
    }
   ],
   "source": [
    "%%time\n",
    "G @ H"
   ]
  },
  {
   "cell_type": "markdown",
   "id": "94bc58de",
   "metadata": {
    "papermill": {
     "duration": 0.013721,
     "end_time": "2025-10-08T15:24:48.709574",
     "exception": false,
     "start_time": "2025-10-08T15:24:48.695853",
     "status": "completed"
    },
    "tags": []
   },
   "source": [
    "Side note: on my laptop (MacBook) I noticed a performance improvement by $\\approx\\times 10$. On Kaggle the performance improvement is much larger (from >20'' to <<1').\n",
    "\n",
    "At the end of this task, if you are using Kaggle, remember to shut down your kernel (or Kaggle will continue charging you GPU time)."
   ]
  },
  {
   "cell_type": "markdown",
   "id": "846b0a57",
   "metadata": {
    "papermill": {
     "duration": 0.013411,
     "end_time": "2025-10-08T15:24:48.736812",
     "exception": false,
     "start_time": "2025-10-08T15:24:48.723401",
     "status": "completed"
    },
    "tags": []
   },
   "source": [
    "# A super quick introduction to pandas\n",
    "\n",
    "[Pandas](https://pandas.pydata.org/) is the equivalent of a Python database (but it is also a \"data analysis and manipulation tool\"). Or Python's version of Excel, if you prefer.\n",
    "\n",
    "Install it in your environment (using your IDE's GUI, or by typing in your command line `conda install pandas`).\n",
    "\n",
    "Next, we will see the most basic usage of pandas: making queries and modifying your data. Keep in mind that pandas does much more than that: see this simple [cheatsheet](https://pandas.pydata.org/docs/user_guide/10min.html) for reference.\n",
    "\n",
    "It is best practice, in pandas, to use the shortcut `pd` on import."
   ]
  },
  {
   "cell_type": "code",
   "execution_count": 31,
   "id": "c9058ffb",
   "metadata": {
    "execution": {
     "iopub.execute_input": "2025-10-08T15:24:48.766126Z",
     "iopub.status.busy": "2025-10-08T15:24:48.765392Z",
     "iopub.status.idle": "2025-10-08T15:24:50.823967Z",
     "shell.execute_reply": "2025-10-08T15:24:50.822880Z"
    },
    "papermill": {
     "duration": 2.075264,
     "end_time": "2025-10-08T15:24:50.825821",
     "exception": false,
     "start_time": "2025-10-08T15:24:48.750557",
     "status": "completed"
    },
    "tags": []
   },
   "outputs": [],
   "source": [
    "import pandas as pd"
   ]
  },
  {
   "cell_type": "markdown",
   "id": "ace7446c",
   "metadata": {
    "papermill": {
     "duration": 0.013579,
     "end_time": "2025-10-08T15:24:50.853929",
     "exception": false,
     "start_time": "2025-10-08T15:24:50.840350",
     "status": "completed"
    },
    "tags": []
   },
   "source": [
    "A table in pandas is called `pd.DataFrame`. Single columns, instead, are called `pd.Series` (a `pd.Series` is the pandas equivalent of a `torch.tensor` or `np.array`).\n",
    "You can create a table using some data in a dictionary, or importing it from any well-formatted file (see, e.g., [`pd.read_csv`](https://pandas.pydata.org/docs/reference/api/pandas.read_csv.html#pandas.read_csv))."
   ]
  },
  {
   "cell_type": "code",
   "execution_count": 32,
   "id": "ef228f31",
   "metadata": {
    "execution": {
     "iopub.execute_input": "2025-10-08T15:24:50.883504Z",
     "iopub.status.busy": "2025-10-08T15:24:50.882883Z",
     "iopub.status.idle": "2025-10-08T15:24:50.912757Z",
     "shell.execute_reply": "2025-10-08T15:24:50.911644Z"
    },
    "papermill": {
     "duration": 0.046938,
     "end_time": "2025-10-08T15:24:50.914718",
     "exception": false,
     "start_time": "2025-10-08T15:24:50.867780",
     "status": "completed"
    },
    "tags": []
   },
   "outputs": [
    {
     "data": {
      "text/html": [
       "<div>\n",
       "<style scoped>\n",
       "    .dataframe tbody tr th:only-of-type {\n",
       "        vertical-align: middle;\n",
       "    }\n",
       "\n",
       "    .dataframe tbody tr th {\n",
       "        vertical-align: top;\n",
       "    }\n",
       "\n",
       "    .dataframe thead th {\n",
       "        text-align: right;\n",
       "    }\n",
       "</style>\n",
       "<table border=\"1\" class=\"dataframe\">\n",
       "  <thead>\n",
       "    <tr style=\"text-align: right;\">\n",
       "      <th></th>\n",
       "      <th>Name</th>\n",
       "      <th>Department</th>\n",
       "      <th>Salary</th>\n",
       "      <th>Years_at_Company</th>\n",
       "    </tr>\n",
       "  </thead>\n",
       "  <tbody>\n",
       "    <tr>\n",
       "      <th>a</th>\n",
       "      <td>Alice</td>\n",
       "      <td>HR</td>\n",
       "      <td>50000</td>\n",
       "      <td>2</td>\n",
       "    </tr>\n",
       "    <tr>\n",
       "      <th>b</th>\n",
       "      <td>Bob</td>\n",
       "      <td>IT</td>\n",
       "      <td>60000</td>\n",
       "      <td>5</td>\n",
       "    </tr>\n",
       "    <tr>\n",
       "      <th>c</th>\n",
       "      <td>Charlie</td>\n",
       "      <td>Finance</td>\n",
       "      <td>55000</td>\n",
       "      <td>3</td>\n",
       "    </tr>\n",
       "    <tr>\n",
       "      <th>d</th>\n",
       "      <td>Diana</td>\n",
       "      <td>IT</td>\n",
       "      <td>65000</td>\n",
       "      <td>7</td>\n",
       "    </tr>\n",
       "    <tr>\n",
       "      <th>e</th>\n",
       "      <td>Ethan</td>\n",
       "      <td>HR</td>\n",
       "      <td>52000</td>\n",
       "      <td>1</td>\n",
       "    </tr>\n",
       "  </tbody>\n",
       "</table>\n",
       "</div>"
      ],
      "text/plain": [
       "      Name Department  Salary  Years_at_Company\n",
       "a    Alice         HR   50000                 2\n",
       "b      Bob         IT   60000                 5\n",
       "c  Charlie    Finance   55000                 3\n",
       "d    Diana         IT   65000                 7\n",
       "e    Ethan         HR   52000                 1"
      ]
     },
     "execution_count": 32,
     "metadata": {},
     "output_type": "execute_result"
    }
   ],
   "source": [
    "data = {\n",
    "    \"Name\": [\"Alice\", \"Bob\", \"Charlie\", \"Diana\", \"Ethan\"],\n",
    "    \"Department\": [\"HR\", \"IT\", \"Finance\", \"IT\", \"HR\"],\n",
    "    \"Salary\": [50000, 60000, 55000, 65000, 52000],\n",
    "    \"Years_at_Company\": [2, 5, 3, 7, 1],\n",
    "}\n",
    "\n",
    "# Create a DataFrame\n",
    "df = pd.DataFrame(data, index=['a', 'b', 'c', 'd', 'e'])\n",
    "df"
   ]
  },
  {
   "cell_type": "markdown",
   "id": "7dc43d7f",
   "metadata": {
    "papermill": {
     "duration": 0.013607,
     "end_time": "2025-10-08T15:24:50.942393",
     "exception": false,
     "start_time": "2025-10-08T15:24:50.928786",
     "status": "completed"
    },
    "tags": []
   },
   "source": [
    "As you see, the data is nicely displayed in a table. The additional column (without a title) is the index: namely, the name of every row. By default it is an increasing number, but you can change it to be anything (in our case, we used letters)."
   ]
  },
  {
   "cell_type": "markdown",
   "id": "49ec0531",
   "metadata": {
    "papermill": {
     "duration": 0.013622,
     "end_time": "2025-10-08T15:24:50.970198",
     "exception": false,
     "start_time": "2025-10-08T15:24:50.956576",
     "status": "completed"
    },
    "tags": []
   },
   "source": [
    "## Queries\n",
    "\n",
    "You can select columns using the usual `[]` notation (this returns a `pd.Series`):"
   ]
  },
  {
   "cell_type": "code",
   "execution_count": 33,
   "id": "ad42718b",
   "metadata": {
    "execution": {
     "iopub.execute_input": "2025-10-08T15:24:50.999693Z",
     "iopub.status.busy": "2025-10-08T15:24:50.999355Z",
     "iopub.status.idle": "2025-10-08T15:24:51.008261Z",
     "shell.execute_reply": "2025-10-08T15:24:51.007405Z"
    },
    "papermill": {
     "duration": 0.025715,
     "end_time": "2025-10-08T15:24:51.010008",
     "exception": false,
     "start_time": "2025-10-08T15:24:50.984293",
     "status": "completed"
    },
    "tags": []
   },
   "outputs": [
    {
     "data": {
      "text/plain": [
       "a         HR\n",
       "b         IT\n",
       "c    Finance\n",
       "d         IT\n",
       "e         HR\n",
       "Name: Department, dtype: object"
      ]
     },
     "execution_count": 33,
     "metadata": {},
     "output_type": "execute_result"
    }
   ],
   "source": [
    "df['Department']"
   ]
  },
  {
   "cell_type": "markdown",
   "id": "779bcbe4",
   "metadata": {
    "papermill": {
     "duration": 0.014287,
     "end_time": "2025-10-08T15:24:51.038799",
     "exception": false,
     "start_time": "2025-10-08T15:24:51.024512",
     "status": "completed"
    },
    "tags": []
   },
   "source": [
    "Or, multiple columns with the ``[[]]`` notation (this returns a `pd.DataFrame`):"
   ]
  },
  {
   "cell_type": "code",
   "execution_count": 34,
   "id": "b2656b13",
   "metadata": {
    "execution": {
     "iopub.execute_input": "2025-10-08T15:24:51.071091Z",
     "iopub.status.busy": "2025-10-08T15:24:51.069921Z",
     "iopub.status.idle": "2025-10-08T15:24:51.089677Z",
     "shell.execute_reply": "2025-10-08T15:24:51.088734Z"
    },
    "papermill": {
     "duration": 0.038462,
     "end_time": "2025-10-08T15:24:51.091220",
     "exception": false,
     "start_time": "2025-10-08T15:24:51.052758",
     "status": "completed"
    },
    "tags": []
   },
   "outputs": [
    {
     "data": {
      "text/html": [
       "<div>\n",
       "<style scoped>\n",
       "    .dataframe tbody tr th:only-of-type {\n",
       "        vertical-align: middle;\n",
       "    }\n",
       "\n",
       "    .dataframe tbody tr th {\n",
       "        vertical-align: top;\n",
       "    }\n",
       "\n",
       "    .dataframe thead th {\n",
       "        text-align: right;\n",
       "    }\n",
       "</style>\n",
       "<table border=\"1\" class=\"dataframe\">\n",
       "  <thead>\n",
       "    <tr style=\"text-align: right;\">\n",
       "      <th></th>\n",
       "      <th>Department</th>\n",
       "      <th>Salary</th>\n",
       "    </tr>\n",
       "  </thead>\n",
       "  <tbody>\n",
       "    <tr>\n",
       "      <th>a</th>\n",
       "      <td>HR</td>\n",
       "      <td>50000</td>\n",
       "    </tr>\n",
       "    <tr>\n",
       "      <th>b</th>\n",
       "      <td>IT</td>\n",
       "      <td>60000</td>\n",
       "    </tr>\n",
       "    <tr>\n",
       "      <th>c</th>\n",
       "      <td>Finance</td>\n",
       "      <td>55000</td>\n",
       "    </tr>\n",
       "    <tr>\n",
       "      <th>d</th>\n",
       "      <td>IT</td>\n",
       "      <td>65000</td>\n",
       "    </tr>\n",
       "    <tr>\n",
       "      <th>e</th>\n",
       "      <td>HR</td>\n",
       "      <td>52000</td>\n",
       "    </tr>\n",
       "  </tbody>\n",
       "</table>\n",
       "</div>"
      ],
      "text/plain": [
       "  Department  Salary\n",
       "a         HR   50000\n",
       "b         IT   60000\n",
       "c    Finance   55000\n",
       "d         IT   65000\n",
       "e         HR   52000"
      ]
     },
     "execution_count": 34,
     "metadata": {},
     "output_type": "execute_result"
    }
   ],
   "source": [
    "df[['Department','Salary']]"
   ]
  },
  {
   "cell_type": "markdown",
   "id": "69bb759d",
   "metadata": {
    "papermill": {
     "duration": 0.014214,
     "end_time": "2025-10-08T15:24:51.120116",
     "exception": false,
     "start_time": "2025-10-08T15:24:51.105902",
     "status": "completed"
    },
    "tags": []
   },
   "source": [
    "You can select rows (as much as in SQL) according to any condition: it is enough to create a boolean vector with the rows to select, and use the following syntax:"
   ]
  },
  {
   "cell_type": "code",
   "execution_count": 35,
   "id": "5f632497",
   "metadata": {
    "execution": {
     "iopub.execute_input": "2025-10-08T15:24:51.149771Z",
     "iopub.status.busy": "2025-10-08T15:24:51.149398Z",
     "iopub.status.idle": "2025-10-08T15:24:51.162199Z",
     "shell.execute_reply": "2025-10-08T15:24:51.161207Z"
    },
    "papermill": {
     "duration": 0.029661,
     "end_time": "2025-10-08T15:24:51.163886",
     "exception": false,
     "start_time": "2025-10-08T15:24:51.134225",
     "status": "completed"
    },
    "tags": []
   },
   "outputs": [
    {
     "data": {
      "text/html": [
       "<div>\n",
       "<style scoped>\n",
       "    .dataframe tbody tr th:only-of-type {\n",
       "        vertical-align: middle;\n",
       "    }\n",
       "\n",
       "    .dataframe tbody tr th {\n",
       "        vertical-align: top;\n",
       "    }\n",
       "\n",
       "    .dataframe thead th {\n",
       "        text-align: right;\n",
       "    }\n",
       "</style>\n",
       "<table border=\"1\" class=\"dataframe\">\n",
       "  <thead>\n",
       "    <tr style=\"text-align: right;\">\n",
       "      <th></th>\n",
       "      <th>Name</th>\n",
       "      <th>Department</th>\n",
       "      <th>Salary</th>\n",
       "      <th>Years_at_Company</th>\n",
       "    </tr>\n",
       "  </thead>\n",
       "  <tbody>\n",
       "    <tr>\n",
       "      <th>a</th>\n",
       "      <td>Alice</td>\n",
       "      <td>HR</td>\n",
       "      <td>50000</td>\n",
       "      <td>2</td>\n",
       "    </tr>\n",
       "    <tr>\n",
       "      <th>b</th>\n",
       "      <td>Bob</td>\n",
       "      <td>IT</td>\n",
       "      <td>60000</td>\n",
       "      <td>5</td>\n",
       "    </tr>\n",
       "    <tr>\n",
       "      <th>e</th>\n",
       "      <td>Ethan</td>\n",
       "      <td>HR</td>\n",
       "      <td>52000</td>\n",
       "      <td>1</td>\n",
       "    </tr>\n",
       "  </tbody>\n",
       "</table>\n",
       "</div>"
      ],
      "text/plain": [
       "    Name Department  Salary  Years_at_Company\n",
       "a  Alice         HR   50000                 2\n",
       "b    Bob         IT   60000                 5\n",
       "e  Ethan         HR   52000                 1"
      ]
     },
     "execution_count": 35,
     "metadata": {},
     "output_type": "execute_result"
    }
   ],
   "source": [
    "df[[True, True, False, False, True]]"
   ]
  },
  {
   "cell_type": "markdown",
   "id": "b7cbf9f7",
   "metadata": {
    "papermill": {
     "duration": 0.014057,
     "end_time": "2025-10-08T15:24:51.192633",
     "exception": false,
     "start_time": "2025-10-08T15:24:51.178576",
     "status": "completed"
    },
    "tags": []
   },
   "source": [
    "You can create boolean vectors according to any condition using element-wise boolean operators:"
   ]
  },
  {
   "cell_type": "code",
   "execution_count": 36,
   "id": "8feef2d7",
   "metadata": {
    "execution": {
     "iopub.execute_input": "2025-10-08T15:24:51.236950Z",
     "iopub.status.busy": "2025-10-08T15:24:51.236488Z",
     "iopub.status.idle": "2025-10-08T15:24:51.246516Z",
     "shell.execute_reply": "2025-10-08T15:24:51.245358Z"
    },
    "papermill": {
     "duration": 0.032739,
     "end_time": "2025-10-08T15:24:51.248703",
     "exception": false,
     "start_time": "2025-10-08T15:24:51.215964",
     "status": "completed"
    },
    "tags": []
   },
   "outputs": [
    {
     "data": {
      "text/plain": [
       "a    False\n",
       "b     True\n",
       "c     True\n",
       "d     True\n",
       "e    False\n",
       "Name: Salary, dtype: bool"
      ]
     },
     "execution_count": 36,
     "metadata": {},
     "output_type": "execute_result"
    }
   ],
   "source": [
    "df['Salary'] > 53000"
   ]
  },
  {
   "cell_type": "markdown",
   "id": "6ca25c3a",
   "metadata": {
    "papermill": {
     "duration": 0.017984,
     "end_time": "2025-10-08T15:24:51.285140",
     "exception": false,
     "start_time": "2025-10-08T15:24:51.267156",
     "status": "completed"
    },
    "tags": []
   },
   "source": [
    "Putting everything together, write a query to select the names of the people that earn more than 53000."
   ]
  },
  {
   "cell_type": "code",
   "execution_count": 37,
   "id": "76db0418",
   "metadata": {
    "execution": {
     "iopub.execute_input": "2025-10-08T15:24:51.322273Z",
     "iopub.status.busy": "2025-10-08T15:24:51.321158Z",
     "iopub.status.idle": "2025-10-08T15:24:51.330366Z",
     "shell.execute_reply": "2025-10-08T15:24:51.329549Z"
    },
    "papermill": {
     "duration": 0.026353,
     "end_time": "2025-10-08T15:24:51.331821",
     "exception": false,
     "start_time": "2025-10-08T15:24:51.305468",
     "status": "completed"
    },
    "scrolled": true,
    "tags": []
   },
   "outputs": [
    {
     "data": {
      "text/html": [
       "<div>\n",
       "<style scoped>\n",
       "    .dataframe tbody tr th:only-of-type {\n",
       "        vertical-align: middle;\n",
       "    }\n",
       "\n",
       "    .dataframe tbody tr th {\n",
       "        vertical-align: top;\n",
       "    }\n",
       "\n",
       "    .dataframe thead th {\n",
       "        text-align: right;\n",
       "    }\n",
       "</style>\n",
       "<table border=\"1\" class=\"dataframe\">\n",
       "  <thead>\n",
       "    <tr style=\"text-align: right;\">\n",
       "      <th></th>\n",
       "      <th>Name</th>\n",
       "      <th>Department</th>\n",
       "      <th>Salary</th>\n",
       "      <th>Years_at_Company</th>\n",
       "    </tr>\n",
       "  </thead>\n",
       "  <tbody>\n",
       "    <tr>\n",
       "      <th>a</th>\n",
       "      <td>Alice</td>\n",
       "      <td>HR</td>\n",
       "      <td>50000</td>\n",
       "      <td>2</td>\n",
       "    </tr>\n",
       "    <tr>\n",
       "      <th>b</th>\n",
       "      <td>Bob</td>\n",
       "      <td>IT</td>\n",
       "      <td>60000</td>\n",
       "      <td>5</td>\n",
       "    </tr>\n",
       "    <tr>\n",
       "      <th>c</th>\n",
       "      <td>Charlie</td>\n",
       "      <td>Finance</td>\n",
       "      <td>55000</td>\n",
       "      <td>3</td>\n",
       "    </tr>\n",
       "    <tr>\n",
       "      <th>d</th>\n",
       "      <td>Diana</td>\n",
       "      <td>IT</td>\n",
       "      <td>65000</td>\n",
       "      <td>7</td>\n",
       "    </tr>\n",
       "    <tr>\n",
       "      <th>e</th>\n",
       "      <td>Ethan</td>\n",
       "      <td>HR</td>\n",
       "      <td>52000</td>\n",
       "      <td>1</td>\n",
       "    </tr>\n",
       "  </tbody>\n",
       "</table>\n",
       "</div>"
      ],
      "text/plain": [
       "      Name Department  Salary  Years_at_Company\n",
       "a    Alice         HR   50000                 2\n",
       "b      Bob         IT   60000                 5\n",
       "c  Charlie    Finance   55000                 3\n",
       "d    Diana         IT   65000                 7\n",
       "e    Ethan         HR   52000                 1"
      ]
     },
     "execution_count": 37,
     "metadata": {},
     "output_type": "execute_result"
    }
   ],
   "source": [
    "# Write a query to select the names of the people that earn more than 53000.\n",
    "df"
   ]
  },
  {
   "cell_type": "markdown",
   "id": "2e16ceeb",
   "metadata": {
    "papermill": {
     "duration": 0.014503,
     "end_time": "2025-10-08T15:24:51.360968",
     "exception": false,
     "start_time": "2025-10-08T15:24:51.346465",
     "status": "completed"
    },
    "tags": []
   },
   "source": [
    "# [`pd.loc`](https://pandas.pydata.org/pandas-docs/stable/reference/api/pandas.DataFrame.loc.html) and [`pd.iloc`](https://pandas.pydata.org/pandas-docs/stable/reference/api/pandas.DataFrame.iloc.html) functions\n",
    "\n",
    "Pandas offers additional ways to select rows and columns:\n",
    "\n",
    "- [`pd.loc`](https://pandas.pydata.org/pandas-docs/stable/reference/api/pandas.DataFrame.loc.html): allows you to select rows and columns by the index value.\n",
    "- [`pd.iloc`](https://pandas.pydata.org/pandas-docs/stable/reference/api/pandas.DataFrame.iloc.html): allows you to select rows and columns by the integer position. It is actually deprecated.\n",
    "\n",
    "You can access the second row by either using the index value `'b'` (and function `.loc`) or by integer position 1 (and function `.iloc`) as in the following example."
   ]
  },
  {
   "cell_type": "code",
   "execution_count": 38,
   "id": "a6c8435f",
   "metadata": {
    "execution": {
     "iopub.execute_input": "2025-10-08T15:24:51.391448Z",
     "iopub.status.busy": "2025-10-08T15:24:51.391067Z",
     "iopub.status.idle": "2025-10-08T15:24:51.398301Z",
     "shell.execute_reply": "2025-10-08T15:24:51.397342Z"
    },
    "papermill": {
     "duration": 0.024178,
     "end_time": "2025-10-08T15:24:51.399884",
     "exception": false,
     "start_time": "2025-10-08T15:24:51.375706",
     "status": "completed"
    },
    "tags": []
   },
   "outputs": [
    {
     "data": {
      "text/plain": [
       "Name                  Bob\n",
       "Department             IT\n",
       "Salary              60000\n",
       "Years_at_Company        5\n",
       "Name: b, dtype: object"
      ]
     },
     "execution_count": 38,
     "metadata": {},
     "output_type": "execute_result"
    }
   ],
   "source": [
    "df.loc['b']"
   ]
  },
  {
   "cell_type": "code",
   "execution_count": 39,
   "id": "92c76b33",
   "metadata": {
    "execution": {
     "iopub.execute_input": "2025-10-08T15:24:51.431769Z",
     "iopub.status.busy": "2025-10-08T15:24:51.431478Z",
     "iopub.status.idle": "2025-10-08T15:24:51.439936Z",
     "shell.execute_reply": "2025-10-08T15:24:51.438768Z"
    },
    "papermill": {
     "duration": 0.025815,
     "end_time": "2025-10-08T15:24:51.441616",
     "exception": false,
     "start_time": "2025-10-08T15:24:51.415801",
     "status": "completed"
    },
    "tags": []
   },
   "outputs": [
    {
     "data": {
      "text/plain": [
       "Name                  Bob\n",
       "Department             IT\n",
       "Salary              60000\n",
       "Years_at_Company        5\n",
       "Name: b, dtype: object"
      ]
     },
     "execution_count": 39,
     "metadata": {},
     "output_type": "execute_result"
    }
   ],
   "source": [
    "df.iloc[1]"
   ]
  },
  {
   "cell_type": "markdown",
   "id": "256825df",
   "metadata": {
    "papermill": {
     "duration": 0.01474,
     "end_time": "2025-10-08T15:24:51.471971",
     "exception": false,
     "start_time": "2025-10-08T15:24:51.457231",
     "status": "completed"
    },
    "tags": []
   },
   "source": [
    "If you read more carefully the documentation of the two functions, you will see that, indeed, both [`pd.loc`](https://pandas.pydata.org/pandas-docs/stable/reference/api/pandas.DataFrame.loc.html) and [`pd.iloc`](https://pandas.pydata.org/pandas-docs/stable/reference/api/pandas.DataFrame.iloc.html) allow more flexibility like selecting intervals, arrays of booleans and so on."
   ]
  },
  {
   "cell_type": "markdown",
   "id": "94c9f7bf",
   "metadata": {
    "papermill": {
     "duration": 0.017248,
     "end_time": "2025-10-08T15:24:51.503897",
     "exception": false,
     "start_time": "2025-10-08T15:24:51.486649",
     "status": "completed"
    },
    "tags": []
   },
   "source": [
    "## Apply functions"
   ]
  },
  {
   "cell_type": "markdown",
   "id": "2715e3f4",
   "metadata": {
    "papermill": {
     "duration": 0.01469,
     "end_time": "2025-10-08T15:24:51.533876",
     "exception": false,
     "start_time": "2025-10-08T15:24:51.519186",
     "status": "completed"
    },
    "tags": []
   },
   "source": [
    "Anothe common feature of pandas, is applying functions element-wise to columns: see below for an example."
   ]
  },
  {
   "cell_type": "code",
   "execution_count": 40,
   "id": "d95d32cb",
   "metadata": {
    "execution": {
     "iopub.execute_input": "2025-10-08T15:24:51.565312Z",
     "iopub.status.busy": "2025-10-08T15:24:51.564985Z",
     "iopub.status.idle": "2025-10-08T15:24:51.572273Z",
     "shell.execute_reply": "2025-10-08T15:24:51.571449Z"
    },
    "papermill": {
     "duration": 0.024771,
     "end_time": "2025-10-08T15:24:51.573718",
     "exception": false,
     "start_time": "2025-10-08T15:24:51.548947",
     "status": "completed"
    },
    "tags": []
   },
   "outputs": [
    {
     "data": {
      "text/plain": [
       "a    100000\n",
       "b    120000\n",
       "c    110000\n",
       "d    130000\n",
       "e    104000\n",
       "Name: Salary, dtype: int64"
      ]
     },
     "execution_count": 40,
     "metadata": {},
     "output_type": "execute_result"
    }
   ],
   "source": [
    "# Double every salary:\n",
    "df['Salary'].apply(lambda x: x * 2)"
   ]
  },
  {
   "cell_type": "markdown",
   "id": "10033c4d",
   "metadata": {
    "papermill": {
     "duration": 0.01438,
     "end_time": "2025-10-08T15:24:51.603174",
     "exception": false,
     "start_time": "2025-10-08T15:24:51.588794",
     "status": "completed"
    },
    "tags": []
   },
   "source": [
    "What is [`lambda`](https://www.w3schools.com/python/python_lambda.asp) above?"
   ]
  },
  {
   "cell_type": "markdown",
   "id": "912dca72",
   "metadata": {
    "papermill": {
     "duration": 0.014308,
     "end_time": "2025-10-08T15:24:51.632219",
     "exception": false,
     "start_time": "2025-10-08T15:24:51.617911",
     "status": "completed"
    },
    "tags": []
   },
   "source": [
    "As a final exercise, write a query for the names of the employees with a salary above 51000 and below 56000 using the `.apply` operator."
   ]
  },
  {
   "cell_type": "code",
   "execution_count": 41,
   "id": "ff5f77d3",
   "metadata": {
    "execution": {
     "iopub.execute_input": "2025-10-08T15:24:51.664071Z",
     "iopub.status.busy": "2025-10-08T15:24:51.663762Z",
     "iopub.status.idle": "2025-10-08T15:24:51.672671Z",
     "shell.execute_reply": "2025-10-08T15:24:51.671539Z"
    },
    "papermill": {
     "duration": 0.026745,
     "end_time": "2025-10-08T15:24:51.674317",
     "exception": false,
     "start_time": "2025-10-08T15:24:51.647572",
     "status": "completed"
    },
    "tags": []
   },
   "outputs": [
    {
     "data": {
      "text/html": [
       "<div>\n",
       "<style scoped>\n",
       "    .dataframe tbody tr th:only-of-type {\n",
       "        vertical-align: middle;\n",
       "    }\n",
       "\n",
       "    .dataframe tbody tr th {\n",
       "        vertical-align: top;\n",
       "    }\n",
       "\n",
       "    .dataframe thead th {\n",
       "        text-align: right;\n",
       "    }\n",
       "</style>\n",
       "<table border=\"1\" class=\"dataframe\">\n",
       "  <thead>\n",
       "    <tr style=\"text-align: right;\">\n",
       "      <th></th>\n",
       "      <th>Name</th>\n",
       "      <th>Department</th>\n",
       "      <th>Salary</th>\n",
       "      <th>Years_at_Company</th>\n",
       "    </tr>\n",
       "  </thead>\n",
       "  <tbody>\n",
       "    <tr>\n",
       "      <th>a</th>\n",
       "      <td>Alice</td>\n",
       "      <td>HR</td>\n",
       "      <td>50000</td>\n",
       "      <td>2</td>\n",
       "    </tr>\n",
       "    <tr>\n",
       "      <th>b</th>\n",
       "      <td>Bob</td>\n",
       "      <td>IT</td>\n",
       "      <td>60000</td>\n",
       "      <td>5</td>\n",
       "    </tr>\n",
       "    <tr>\n",
       "      <th>c</th>\n",
       "      <td>Charlie</td>\n",
       "      <td>Finance</td>\n",
       "      <td>55000</td>\n",
       "      <td>3</td>\n",
       "    </tr>\n",
       "    <tr>\n",
       "      <th>d</th>\n",
       "      <td>Diana</td>\n",
       "      <td>IT</td>\n",
       "      <td>65000</td>\n",
       "      <td>7</td>\n",
       "    </tr>\n",
       "    <tr>\n",
       "      <th>e</th>\n",
       "      <td>Ethan</td>\n",
       "      <td>HR</td>\n",
       "      <td>52000</td>\n",
       "      <td>1</td>\n",
       "    </tr>\n",
       "  </tbody>\n",
       "</table>\n",
       "</div>"
      ],
      "text/plain": [
       "      Name Department  Salary  Years_at_Company\n",
       "a    Alice         HR   50000                 2\n",
       "b      Bob         IT   60000                 5\n",
       "c  Charlie    Finance   55000                 3\n",
       "d    Diana         IT   65000                 7\n",
       "e    Ethan         HR   52000                 1"
      ]
     },
     "execution_count": 41,
     "metadata": {},
     "output_type": "execute_result"
    }
   ],
   "source": [
    "# Write a query to select the names of the people that earn a salary between 51000 and 56000. Use the .apply() operator.\n",
    "df\n"
   ]
  }
 ],
 "metadata": {
  "kaggle": {
   "accelerator": "none",
   "dataSources": [],
   "dockerImageVersionId": 31153,
   "isGpuEnabled": false,
   "isInternetEnabled": true,
   "language": "python",
   "sourceType": "notebook"
  },
  "kernelspec": {
   "display_name": "Python 3",
   "language": "python",
   "name": "python3"
  },
  "language_info": {
   "codemirror_mode": {
    "name": "ipython",
    "version": 3
   },
   "file_extension": ".py",
   "mimetype": "text/x-python",
   "name": "python",
   "nbconvert_exporter": "python",
   "pygments_lexer": "ipython3",
   "version": "3.11.13"
  },
  "papermill": {
   "default_parameters": {},
   "duration": 125.025754,
   "end_time": "2025-10-08T15:24:53.717354",
   "environment_variables": {},
   "exception": null,
   "input_path": "__notebook__.ipynb",
   "output_path": "__notebook__.ipynb",
   "parameters": {},
   "start_time": "2025-10-08T15:22:48.691600",
   "version": "2.6.0"
  }
 },
 "nbformat": 4,
 "nbformat_minor": 5
}

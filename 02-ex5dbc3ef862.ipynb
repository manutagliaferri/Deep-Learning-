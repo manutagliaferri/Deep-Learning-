{
 "cells": [
  {
   "cell_type": "markdown",
   "id": "3e4c27d3",
   "metadata": {
    "papermill": {
     "duration": 0.014062,
     "end_time": "2025-10-08T09:41:16.606823",
     "exception": false,
     "start_time": "2025-10-08T09:41:16.592761",
     "status": "completed"
    },
    "tags": []
   },
   "source": [
    "# Exercise 2\n",
    "## Authors: E. Vercesi; A. Dei Rossi, S. Huber*, L. Scarciglia.\n",
    "\n",
    "In this exercise session you are going to learn the basics of PyTorch and pandas. We will start with PyTorch.\n",
    "\n",
    "[PyTorch](https://pytorch.org/) is a Python library for scientific computing (as much as NumPy), but which can additionally run on GPUs. \n",
    "Hence, this is the computing library of choice for Deep Learning applications. \n",
    "PyTorch is developed by Meta. You might have also heard of its main competitor TensorFlow (Google). Although both have basically the same functionalities, in this course we would like you to stick to PyTorch (assignments made using TensorFlow won't be evaluated).\n",
    "\n",
    "If you haven't done Exercise 1 on NumPy yet, we highly encourage to do it first: NumPy and PyTorch offer a vast overlap of functionalities, so understanding NumPy first is going to boost greatly your understanding of PyTorch.\n",
    "To begin with, make sure you have installed it. If not, please do so (by typing `conda/pip install torch` from your environment, or using the GUI of your IDE). Also make sure that the version installed is 2.8.\n",
    "\n",
    "In addition to that, also install [pandas](https://pandas.pydata.org/docs/getting_started/install.html). We will use it at the end of the notebook."
   ]
  },
  {
   "cell_type": "code",
   "execution_count": 1,
   "id": "1b020ba7",
   "metadata": {
    "ExecuteTime": {
     "end_time": "2024-09-18T19:31:50.547971Z",
     "start_time": "2024-09-18T19:31:50.545559Z"
    },
    "editable": true,
    "execution": {
     "iopub.execute_input": "2025-10-08T09:41:16.633876Z",
     "iopub.status.busy": "2025-10-08T09:41:16.633563Z",
     "iopub.status.idle": "2025-10-08T09:41:21.807458Z",
     "shell.execute_reply": "2025-10-08T09:41:21.806423Z"
    },
    "papermill": {
     "duration": 5.188885,
     "end_time": "2025-10-08T09:41:21.809130",
     "exception": false,
     "start_time": "2025-10-08T09:41:16.620245",
     "status": "completed"
    },
    "slideshow": {
     "slide_type": ""
    },
    "tags": []
   },
   "outputs": [
    {
     "data": {
      "text/plain": [
       "<torch._C.Generator at 0x7da8f292f1b0>"
      ]
     },
     "execution_count": 1,
     "metadata": {},
     "output_type": "execute_result"
    }
   ],
   "source": [
    "import torch  # If you see errors, use conda or pip to install torch in your virtual environment.\n",
    "import numpy as np\n",
    "\n",
    "torch.manual_seed(42)  # manual seed is to ensure repeatability of random numbers. "
   ]
  },
  {
   "cell_type": "markdown",
   "id": "bd47e0b5",
   "metadata": {
    "papermill": {
     "duration": 0.012158,
     "end_time": "2025-10-08T09:41:21.836093",
     "exception": false,
     "start_time": "2025-10-08T09:41:21.823935",
     "status": "completed"
    },
    "tags": []
   },
   "source": [
    "## Create tensors\n",
    "\n",
    "Tensors are like NumPy arrays, but they can live in GPUs.\n",
    "\n",
    "1. Create a tensor out of a Python list [1, 2, 3].\n",
    "2. Create a tensor out of a NumPy array [[2, 3, 4], [4, 3, 2]] (see method [`.from_numpy()`](https://pytorch.org/docs/stable/generated/torch.from_numpy.html)).\n",
    "3. Convert the tensor of point 2 back to a NumPy array. (see method [`.numpy()`](https://pytorch.org/docs/stable/generated/torch.Tensor.numpy.html))."
   ]
  },
  {
   "cell_type": "code",
   "execution_count": 2,
   "id": "e8d7cb13",
   "metadata": {
    "ExecuteTime": {
     "end_time": "2024-09-18T19:44:01.942448Z",
     "start_time": "2024-09-18T19:44:01.939947Z"
    },
    "execution": {
     "iopub.execute_input": "2025-10-08T09:41:21.862060Z",
     "iopub.status.busy": "2025-10-08T09:41:21.861523Z",
     "iopub.status.idle": "2025-10-08T09:41:21.919115Z",
     "shell.execute_reply": "2025-10-08T09:41:21.917844Z"
    },
    "papermill": {
     "duration": 0.072857,
     "end_time": "2025-10-08T09:41:21.920960",
     "exception": false,
     "start_time": "2025-10-08T09:41:21.848103",
     "status": "completed"
    },
    "tags": []
   },
   "outputs": [
    {
     "name": "stdout",
     "output_type": "stream",
     "text": [
      "tensor([1, 2, 3])\n",
      "tensor([[2, 3, 4],\n",
      "        [4, 3, 2]])\n",
      "[[2 3 4]\n",
      " [4 3 2]]\n"
     ]
    }
   ],
   "source": [
    "## 1: create a tensor out of a Python list\n",
    "list1 = [1,2,3]\n",
    "tensor1 = torch.tensor(list1)\n",
    "print (tensor1)\n",
    "\n",
    "## 2: create a tensor out of a NumPy array\n",
    "arr1 = np.array ([[2,3,4],[4,3,2]])\n",
    "tensor2 = torch.from_numpy(arr1)\n",
    "print (tensor2)\n",
    "\n",
    "## 3: Convert the tensor back to NumPy.\n",
    "t= torch.tensor ([[2,3,4], [4,3,2]])\n",
    "arr2 = t.numpy ()\n",
    "print (arr2)"
   ]
  },
  {
   "cell_type": "markdown",
   "id": "d316b004",
   "metadata": {
    "papermill": {
     "duration": 0.011767,
     "end_time": "2025-10-08T09:41:21.944917",
     "exception": false,
     "start_time": "2025-10-08T09:41:21.933150",
     "status": "completed"
    },
    "tags": []
   },
   "source": [
    "1. Check the `.dtype` attribute of the above created tensors. \n",
    "2. Create a tensor of size 3 with values [1, 2, 3] but forcing the dtype to be float64."
   ]
  },
  {
   "cell_type": "markdown",
   "id": "170c6705",
   "metadata": {
    "papermill": {
     "duration": 0.011794,
     "end_time": "2025-10-08T09:41:21.968550",
     "exception": false,
     "start_time": "2025-10-08T09:41:21.956756",
     "status": "completed"
    },
    "tags": []
   },
   "source": []
  },
  {
   "cell_type": "code",
   "execution_count": 3,
   "id": "f9a99e98",
   "metadata": {
    "ExecuteTime": {
     "end_time": "2024-09-18T19:45:12.850223Z",
     "start_time": "2024-09-18T19:45:12.847542Z"
    },
    "execution": {
     "iopub.execute_input": "2025-10-08T09:41:21.994129Z",
     "iopub.status.busy": "2025-10-08T09:41:21.993331Z",
     "iopub.status.idle": "2025-10-08T09:41:22.000182Z",
     "shell.execute_reply": "2025-10-08T09:41:21.999179Z"
    },
    "papermill": {
     "duration": 0.02185,
     "end_time": "2025-10-08T09:41:22.001950",
     "exception": false,
     "start_time": "2025-10-08T09:41:21.980100",
     "status": "completed"
    },
    "tags": []
   },
   "outputs": [
    {
     "name": "stdout",
     "output_type": "stream",
     "text": [
      "1:  torch.int64\n",
      "2:  torch.int64\n",
      "3:  int64\n",
      "4:  torch.float64\n"
     ]
    }
   ],
   "source": [
    "## 1: check the dtype attribute\n",
    "print(\"1: \", tensor1.dtype)\n",
    "print(\"2: \", tensor2.dtype)\n",
    "print(\"3: \", arr2.dtype)\n",
    "\n",
    "## 2: create [1, 2, 3] with dtype float64\n",
    "t2 = torch.tensor ([1,2,3] , dtype=torch.float64)\n",
    "print(\"4: \", t2.dtype)"
   ]
  },
  {
   "cell_type": "markdown",
   "id": "97a64ea4",
   "metadata": {
    "papermill": {
     "duration": 0.011072,
     "end_time": "2025-10-08T09:41:22.025556",
     "exception": false,
     "start_time": "2025-10-08T09:41:22.014484",
     "status": "completed"
    },
    "tags": []
   },
   "source": [
    "##### PyTorch also offers some more advanced functions that can be used to create well-known matrices:\n",
    "\n",
    "1. Create an identity matrix of size (5, 5) (see [`torch.eye()`](https://pytorch.org/docs/stable/generated/torch.eye.html)).\n",
    "2. Create a matrix of all zeros of size (3, 4) (see [`torch.zeros()`](https://pytorch.org/docs/stable/generated/torch.zeros.html).\n",
    "3. Create a matrix of all ones of size (2, 3) (see [`torch.ones()`](https://pytorch.org/docs/stable/generated/torch.ones.html).\n",
    "4. Given a tensor of size (3, 2) of your choice, create a matrix of the same size (3, 2) filled with ones (equivalently zeros) (see [`torch.zeros_like()`](https://pytorch.org/docs/stable/generated/torch.zeros_like.html).\n",
    "5. Create a matrix of size (3, 4) filled with numbers from 0 to 11 inclusive (same as in NumPy). Try both [`torch.arange()`](https://pytorch.org/docs/stable/generated/torch.arange.html) and [`torch.linspace()`](https://pytorch.org/docs/stable/generated/torch.linspace.html)."
   ]
  },
  {
   "cell_type": "code",
   "execution_count": 4,
   "id": "ce756404",
   "metadata": {
    "ExecuteTime": {
     "end_time": "2024-09-18T19:56:37.567665Z",
     "start_time": "2024-09-18T19:56:37.564862Z"
    },
    "execution": {
     "iopub.execute_input": "2025-10-08T09:41:22.050641Z",
     "iopub.status.busy": "2025-10-08T09:41:22.050251Z",
     "iopub.status.idle": "2025-10-08T09:41:22.140734Z",
     "shell.execute_reply": "2025-10-08T09:41:22.139563Z"
    },
    "papermill": {
     "duration": 0.105285,
     "end_time": "2025-10-08T09:41:22.142480",
     "exception": false,
     "start_time": "2025-10-08T09:41:22.037195",
     "status": "completed"
    },
    "tags": []
   },
   "outputs": [
    {
     "name": "stdout",
     "output_type": "stream",
     "text": [
      "m1:\n",
      " tensor([[1., 0., 0., 0., 0.],\n",
      "        [0., 1., 0., 0., 0.],\n",
      "        [0., 0., 1., 0., 0.],\n",
      "        [0., 0., 0., 1., 0.],\n",
      "        [0., 0., 0., 0., 1.]])\n",
      "m2: \n",
      " tensor([[0., 0., 0., 0.],\n",
      "        [0., 0., 0., 0.],\n",
      "        [0., 0., 0., 0.]])\n",
      "m3: \n",
      " tensor([[1., 1., 1.],\n",
      "        [1., 1., 1.]])\n",
      "m4: \n",
      " tensor([[0, 0],\n",
      "        [0, 0],\n",
      "        [0, 0]])\n",
      "m5: \n",
      " tensor([[0, 1, 2],\n",
      "        [3, 4, 5]])\n",
      "m6: \n",
      ": tensor([[0.0000, 1.2000, 2.4000],\n",
      "        [3.6000, 4.8000, 6.0000]])\n"
     ]
    }
   ],
   "source": [
    "## 1: torch.eye()\n",
    "m1= torch.eye(5)\n",
    "print(\"m1:\\n\", m1)\n",
    "\n",
    "## 2: torch.zeros()\n",
    "m2 = torch.zeros(3,4)\n",
    "print(\"m2: \\n\", m2)\n",
    "\n",
    "## 3: torch.ones()\n",
    "m3 = torch.ones(2,3)\n",
    "print(\"m3: \\n\", m3)\n",
    "\n",
    "## 4: torch.zeros_like()\n",
    "t3= torch.tensor ([[1,2],[2,3],[3,4]])\n",
    "m4= torch.zeros_like(t3)\n",
    "print(\"m4: \\n\", m4)\n",
    "## 5:\n",
    "## torch.arange()\n",
    "t4=torch.arange (0,6)\n",
    "m5=t4.reshape (2,3)     #funzione per cambiare forma perche torch.arange restituisce uno di dimensione 1d\n",
    "print (\"m5: \\n\", m5)\n",
    "\n",
    "## torch.linspace()\n",
    "t5=torch.linspace(0,6 , steps=6)\n",
    "m6=t5.reshape (2,3)\n",
    "print (\"m6: \\n:\", m6)"
   ]
  },
  {
   "cell_type": "markdown",
   "id": "8ad0ac6c",
   "metadata": {
    "papermill": {
     "duration": 0.011734,
     "end_time": "2025-10-08T09:41:22.166556",
     "exception": false,
     "start_time": "2025-10-08T09:41:22.154822",
     "status": "completed"
    },
    "tags": []
   },
   "source": [
    "#### Random tensors\n",
    "\n",
    "As in NumPy, you have a big choice of random distributions to sample you arrays from.\n",
    "Create the same random arrays you did in NumPy in Exercise 1:\n",
    "1) Create a random tensor of size 4 of uniform floating point numbers in the interval [0, 1). (see [`torch.rand`](https://pytorch.org/docs/stable/generated/torch.rand.html)).\n",
    "torch rand ti mette gia numeri copresi tra 0 e 1 \n",
    "\n",
    "2) Create a random tensor of size (3, 2) of uniform floating point numbers in the interval [0, 5). (hint: generate numbers in the interval [0, 1) and scale them up by 5).\n",
    "3) Create a random tensor of size (2, 1, 2) of integers in the interval [10, 20]. (see [`torch.randint`](https://pytorch.org/docs/stable/generated/torch.randint.html), caraful with border conditions).\n",
    "ATTENZIONE: Utilizzando torch.randint low è incluso [, high è escluso (mi riferisco al range di numeri che inserisco. \n",
    "   \n",
    "4) Create a random tensor of size 10 over the normal distribution, mean 3 and std dev 2. (see [`torch.normal`](https://pytorch.org/docs/stable/generated/torch.normal.html))."
   ]
  },
  {
   "cell_type": "code",
   "execution_count": 5,
   "id": "cc30a8f9",
   "metadata": {
    "ExecuteTime": {
     "end_time": "2024-09-18T20:29:56.713417Z",
     "start_time": "2024-09-18T20:29:56.707816Z"
    },
    "execution": {
     "iopub.execute_input": "2025-10-08T09:41:22.192059Z",
     "iopub.status.busy": "2025-10-08T09:41:22.191706Z",
     "iopub.status.idle": "2025-10-08T09:41:22.205950Z",
     "shell.execute_reply": "2025-10-08T09:41:22.204764Z"
    },
    "papermill": {
     "duration": 0.029005,
     "end_time": "2025-10-08T09:41:22.207691",
     "exception": false,
     "start_time": "2025-10-08T09:41:22.178686",
     "status": "completed"
    },
    "tags": []
   },
   "outputs": [
    {
     "name": "stdout",
     "output_type": "stream",
     "text": [
      "t6:\n",
      " tensor([0.8823, 0.9150, 0.3829, 0.9593])\n",
      "m7: \n",
      " tensor([[1.9522, 3.0045],\n",
      "        [1.2829, 3.9682],\n",
      "        [4.7039, 0.6659]])\n",
      "m8: \n",
      " tensor([[[18, 14]],\n",
      "\n",
      "        [[10, 14]]])\n",
      "t7:\n",
      " tensor([3.7531, 2.6384, 3.7861, 3.8654, 0.2746, 5.7129, 4.3376, 1.5846, 2.3466,\n",
      "        2.4424])\n"
     ]
    }
   ],
   "source": [
    "## 1: torch.rand()\n",
    "t6 = torch.rand(4)\n",
    "print (\"t6:\\n\", t6)\n",
    "\n",
    "## 2: torch.rand() scaled up to [0, 5)\n",
    "m7 = torch.rand (3,2)\n",
    "m7=m7*5\n",
    "print (\"m7: \\n\", m7)\n",
    "\n",
    "## 3: torch.randint()\n",
    "m8= torch.randint(10,20,(2,1,2))\n",
    "print (\"m8: \\n\", m8)\n",
    "\n",
    "## 4: torch.normal()\n",
    "t7 = torch.normal(mean=3.0, std=2.0, size=(10,))\n",
    "print(\"t7:\\n\", t7)\n"
   ]
  },
  {
   "cell_type": "markdown",
   "id": "64fe31fa",
   "metadata": {
    "papermill": {
     "duration": 0.011923,
     "end_time": "2025-10-08T09:41:22.232180",
     "exception": false,
     "start_time": "2025-10-08T09:41:22.220257",
     "status": "completed"
    },
    "tags": []
   },
   "source": [
    "## Working with tensors' dimensions\n",
    "\n",
    "In this section we will learn how to manipulate tensor's dimensions. Notice that they are extremely similar to NumPy methods: hence, if you have done exercise 1, this section should be quite straightforward.\n",
    "\n",
    "### Access elements and slicing \n",
    "\n",
    "Create an identity matrix of size (4, 4) and access \n",
    "1. The element in position [0, 0].\n",
    "2. The last element.\n",
    "3. Element in position [2, 3].\n",
    "Check that the returned elements are what you expect."
   ]
  },
  {
   "cell_type": "code",
   "execution_count": 6,
   "id": "fe6561f6",
   "metadata": {
    "ExecuteTime": {
     "end_time": "2024-09-19T06:54:09.454500Z",
     "start_time": "2024-09-19T06:54:09.451717Z"
    },
    "execution": {
     "iopub.execute_input": "2025-10-08T09:41:22.259186Z",
     "iopub.status.busy": "2025-10-08T09:41:22.258810Z",
     "iopub.status.idle": "2025-10-08T09:41:22.267739Z",
     "shell.execute_reply": "2025-10-08T09:41:22.266800Z"
    },
    "papermill": {
     "duration": 0.024634,
     "end_time": "2025-10-08T09:41:22.269125",
     "exception": false,
     "start_time": "2025-10-08T09:41:22.244491",
     "status": "completed"
    },
    "tags": []
   },
   "outputs": [
    {
     "name": "stdout",
     "output_type": "stream",
     "text": [
      "elemento 0,0:  tensor(1.)\n",
      "elemento 0,0:  tensor(1.)\n",
      "elemento 0,0:  tensor(0.)\n"
     ]
    }
   ],
   "source": [
    "# Create the identity matrix\n",
    "m9 = torch.eye(4)\n",
    "\n",
    "## 1: access element in [0, 0]\n",
    "print(\"elemento 0,0: \", m9[0][0])\n",
    "## 2: access element in [3, 3]\n",
    "print(\"elemento 0,0: \", m9[3][3])\n",
    "## 3: access element in [2, 3]\n",
    "print(\"elemento 0,0: \", m9[2][3])"
   ]
  },
  {
   "cell_type": "markdown",
   "id": "52ad9d87",
   "metadata": {
    "papermill": {
     "duration": 0.011718,
     "end_time": "2025-10-08T09:41:22.293120",
     "exception": false,
     "start_time": "2025-10-08T09:41:22.281402",
     "status": "completed"
    },
    "tags": []
   },
   "source": [
    "### Slicing\n",
    "\n",
    "1. Create a random tensor of size (3, 4) of integers in the interval [5, 10].\n",
    "2. Print the second row.\n",
    "3. Print the third column.\n",
    "4. Print the sub-matrix spanning from the second to the third row, from the second to the third column."
   ]
  },
  {
   "cell_type": "code",
   "execution_count": 7,
   "id": "0621dc8e",
   "metadata": {
    "execution": {
     "iopub.execute_input": "2025-10-08T09:41:22.317820Z",
     "iopub.status.busy": "2025-10-08T09:41:22.317467Z",
     "iopub.status.idle": "2025-10-08T09:41:22.338653Z",
     "shell.execute_reply": "2025-10-08T09:41:22.337285Z"
    },
    "papermill": {
     "duration": 0.035523,
     "end_time": "2025-10-08T09:41:22.340331",
     "exception": false,
     "start_time": "2025-10-08T09:41:22.304808",
     "status": "completed"
    },
    "tags": []
   },
   "outputs": [
    {
     "name": "stdout",
     "output_type": "stream",
     "text": [
      "seconda riga:  tensor([7, 9, 7, 8])\n",
      "terza colonna:  tensor([6, 7, 8])\n",
      "sub-matrix:  tensor([[5, 6],\n",
      "        [9, 7]])\n"
     ]
    }
   ],
   "source": [
    "## 1: create a random tensor of size [3, 4].\n",
    "mm1=torch.randint(5,10, (3,4))\n",
    "## 2: print the second row.\n",
    "print (\"seconda riga: \", mm1[2,:])\n",
    "## 3: print the third column.\n",
    "print (\"terza colonna: \", mm1[:,3])\n",
    "## 4: sub-matrix\n",
    "print(\"sub-matrix: \", mm1[1:3,1:3])"
   ]
  },
  {
   "cell_type": "markdown",
   "id": "cd83e897",
   "metadata": {
    "papermill": {
     "duration": 0.012526,
     "end_time": "2025-10-08T09:41:22.365849",
     "exception": false,
     "start_time": "2025-10-08T09:41:22.353323",
     "status": "completed"
    },
    "tags": []
   },
   "source": [
    "### Access tensors' dimensions\n",
    "\n",
    "1. Create a tensor $v$ of size (3, 4, 2, 4, 1) of random floats in [0, 1).\n",
    "2. Print its shape. You can use both `.shape` and [`.size()`](https://docs.pytorch.org/docs/stable/generated/torch.Tensor.size.html), try them both.\n",
    "3. Print its third dimension's size (2 in our example). Check [`.size()`](https://docs.pytorch.org/docs/stable/generated/torch.Tensor.size.html) function.\n",
    "4. Print the number of dimensions of our vector (5 in our example). Check [`.dim()`](https://docs.pytorch.org/docs/stable/generated/torch.Tensor.dim.html#torch.Tensor.dim) or [`.ndim`](https://docs.pytorch.org/docs/stable/generated/torch.Tensor.dim.html#torch.Tensor.ndim)."
   ]
  },
  {
   "cell_type": "code",
   "execution_count": 8,
   "id": "f43663f8",
   "metadata": {
    "execution": {
     "iopub.execute_input": "2025-10-08T09:41:22.392855Z",
     "iopub.status.busy": "2025-10-08T09:41:22.392502Z",
     "iopub.status.idle": "2025-10-08T09:41:22.404577Z",
     "shell.execute_reply": "2025-10-08T09:41:22.403310Z"
    },
    "papermill": {
     "duration": 0.027983,
     "end_time": "2025-10-08T09:41:22.406236",
     "exception": false,
     "start_time": "2025-10-08T09:41:22.378253",
     "status": "completed"
    },
    "tags": []
   },
   "outputs": [
    {
     "name": "stdout",
     "output_type": "stream",
     "text": [
      "t8 tensor([[[[[0.7886],\n",
      "           [0.5895],\n",
      "           [0.7539],\n",
      "           [0.1952]],\n",
      "\n",
      "          [[0.0050],\n",
      "           [0.3068],\n",
      "           [0.1165],\n",
      "           [0.9103]]],\n",
      "\n",
      "\n",
      "         [[[0.6440],\n",
      "           [0.7071],\n",
      "           [0.6581],\n",
      "           [0.4913]],\n",
      "\n",
      "          [[0.8913],\n",
      "           [0.1447],\n",
      "           [0.5315],\n",
      "           [0.1587]]],\n",
      "\n",
      "\n",
      "         [[[0.6542],\n",
      "           [0.3278],\n",
      "           [0.6532],\n",
      "           [0.3958]],\n",
      "\n",
      "          [[0.9147],\n",
      "           [0.2036],\n",
      "           [0.2018],\n",
      "           [0.2018]]],\n",
      "\n",
      "\n",
      "         [[[0.9497],\n",
      "           [0.6666],\n",
      "           [0.9811],\n",
      "           [0.0874]],\n",
      "\n",
      "          [[0.0041],\n",
      "           [0.1088],\n",
      "           [0.1637],\n",
      "           [0.7025]]]],\n",
      "\n",
      "\n",
      "\n",
      "        [[[[0.6790],\n",
      "           [0.9155],\n",
      "           [0.2418],\n",
      "           [0.1591]],\n",
      "\n",
      "          [[0.7653],\n",
      "           [0.2979],\n",
      "           [0.8035],\n",
      "           [0.3813]]],\n",
      "\n",
      "\n",
      "         [[[0.7860],\n",
      "           [0.1115],\n",
      "           [0.2477],\n",
      "           [0.6524]],\n",
      "\n",
      "          [[0.6057],\n",
      "           [0.3725],\n",
      "           [0.7980],\n",
      "           [0.8399]]],\n",
      "\n",
      "\n",
      "         [[[0.1374],\n",
      "           [0.2331],\n",
      "           [0.9578],\n",
      "           [0.3313]],\n",
      "\n",
      "          [[0.3227],\n",
      "           [0.0162],\n",
      "           [0.2137],\n",
      "           [0.6249]]],\n",
      "\n",
      "\n",
      "         [[[0.4340],\n",
      "           [0.1371],\n",
      "           [0.5117],\n",
      "           [0.1585]],\n",
      "\n",
      "          [[0.0758],\n",
      "           [0.2247],\n",
      "           [0.0624],\n",
      "           [0.1816]]]],\n",
      "\n",
      "\n",
      "\n",
      "        [[[[0.9998],\n",
      "           [0.5944],\n",
      "           [0.6541],\n",
      "           [0.0337]],\n",
      "\n",
      "          [[0.1716],\n",
      "           [0.3336],\n",
      "           [0.5782],\n",
      "           [0.0600]]],\n",
      "\n",
      "\n",
      "         [[[0.2846],\n",
      "           [0.2007],\n",
      "           [0.5014],\n",
      "           [0.3139]],\n",
      "\n",
      "          [[0.4654],\n",
      "           [0.1612],\n",
      "           [0.1568],\n",
      "           [0.2083]]],\n",
      "\n",
      "\n",
      "         [[[0.3289],\n",
      "           [0.1054],\n",
      "           [0.9192],\n",
      "           [0.4008]],\n",
      "\n",
      "          [[0.9302],\n",
      "           [0.6558],\n",
      "           [0.0766],\n",
      "           [0.8460]]],\n",
      "\n",
      "\n",
      "         [[[0.3624],\n",
      "           [0.3083],\n",
      "           [0.0850],\n",
      "           [0.0029]],\n",
      "\n",
      "          [[0.6431],\n",
      "           [0.3908],\n",
      "           [0.6947],\n",
      "           [0.0897]]]]])\n",
      "t8 shape torch.Size([3, 4, 2, 4, 1])\n",
      "t8 size torch.Size([3, 4, 2, 4, 1])\n",
      "t8 third dimension:  2\n",
      "Numero di dimensioni: 5\n",
      "Numero di dimensioni (con .ndim): 5\n"
     ]
    }
   ],
   "source": [
    "## 1: create a random tensor v of size (3, 4, 2, 4, 1).\n",
    "t8= torch.rand(3,4,2,4,1)\n",
    "print (\"t8\", t8)\n",
    "\n",
    "## 2: print v's shape using .shape and .size().\n",
    "print (\"t8 shape\", t8.shape)\n",
    "print (\"t8 size\", t8.size())\n",
    "\n",
    "## 3: print the size of the third dimension of v.\n",
    "print(\"t8 third dimension: \", t8.size(dim=2))\n",
    "\n",
    "## 4: print the number of dimensions of v.\n",
    "# Stampa il numero totale di dimensioni (commento di chat)\n",
    "print(\"Numero di dimensioni:\", t8.dim())\n",
    "# oppure equivalente (commento di chat)\n",
    "print(\"Numero di dimensioni (con .ndim):\", t8.ndim)"
   ]
  },
  {
   "cell_type": "markdown",
   "id": "411c3ae6",
   "metadata": {
    "papermill": {
     "duration": 0.012108,
     "end_time": "2025-10-08T09:41:22.431389",
     "exception": false,
     "start_time": "2025-10-08T09:41:22.419281",
     "status": "completed"
    },
    "tags": []
   },
   "source": [
    "## Permute dimensions\n",
    "\n",
    "You can invert the order of the dimensions of a tensor. Create a random tensor of integers in the interval [0, 10) of size (2, 3, 4) and permute its dimensions so that the final size is (4, 2, 3). See [`torch.permute`](https://pytorch.org/docs/stable/generated/torch.permute.html).\n",
    "\n",
    "Commento: qui ssto invertendo l'ordine delle dimensioni, per averlo in dimensione (4,2,3) devo indicargli l'ordine di disposizione di queste dimensioni!! Non direttamente le dimensioni!!"
   ]
  },
  {
   "cell_type": "code",
   "execution_count": 9,
   "id": "87a042c9",
   "metadata": {
    "ExecuteTime": {
     "end_time": "2024-09-19T07:01:03.982170Z",
     "start_time": "2024-09-19T07:01:03.979816Z"
    },
    "execution": {
     "iopub.execute_input": "2025-10-08T09:41:22.458865Z",
     "iopub.status.busy": "2025-10-08T09:41:22.458543Z",
     "iopub.status.idle": "2025-10-08T09:41:22.471642Z",
     "shell.execute_reply": "2025-10-08T09:41:22.470375Z"
    },
    "papermill": {
     "duration": 0.028005,
     "end_time": "2025-10-08T09:41:22.473190",
     "exception": false,
     "start_time": "2025-10-08T09:41:22.445185",
     "status": "completed"
    },
    "tags": []
   },
   "outputs": [
    {
     "name": "stdout",
     "output_type": "stream",
     "text": [
      "t9:  tensor([[[5, 9, 5, 2],\n",
      "         [0, 8, 8, 7],\n",
      "         [2, 2, 6, 8]],\n",
      "\n",
      "        [[2, 7, 6, 3],\n",
      "         [0, 3, 6, 0],\n",
      "         [3, 7, 3, 8]]]) \n",
      "Shape:  torch.Size([2, 3, 4])\n",
      "t10:  tensor([[[5, 2],\n",
      "         [9, 7],\n",
      "         [5, 6],\n",
      "         [2, 3]],\n",
      "\n",
      "        [[0, 0],\n",
      "         [8, 3],\n",
      "         [8, 6],\n",
      "         [7, 0]],\n",
      "\n",
      "        [[2, 3],\n",
      "         [2, 7],\n",
      "         [6, 3],\n",
      "         [8, 8]]]) \n",
      "Shape:  torch.Size([3, 4, 2])\n"
     ]
    }
   ],
   "source": [
    "## 1: Create a random tensor. Check its shape (2, 3, 4)\n",
    "t9= torch.randint (0,10,(2,3,4))\n",
    "print(\"t9: \", t9, \"\\nShape: \", t9.shape)\n",
    "\n",
    "## 2: Permute its dimensions. Check its shape (4, 2, 3)\n",
    "t10= torch.permute(t9, (1,2,0))\n",
    "print(\"t10: \", t10, \"\\nShape: \", t10.shape)\n"
   ]
  },
  {
   "cell_type": "markdown",
   "id": "fdce873c",
   "metadata": {
    "papermill": {
     "duration": 0.011718,
     "end_time": "2025-10-08T09:41:22.497854",
     "exception": false,
     "start_time": "2025-10-08T09:41:22.486136",
     "status": "completed"
    },
    "tags": []
   },
   "source": [
    "## Squeeze/unsqueeze\n",
    "\n",
    "If you want increase the number of dimensions of your vector (similar to `np.newaxis`, this might turn useful in the context of broadcasting), you can use [`torch.unsqueeze`](https://pytorch.org/docs/stable/generated/torch.unsqueeze.html). If you want to reduce the number of dimensions of your vector by dropping dimensions of size 1 you can use [`torch.squeeze`](https://pytorch.org/docs/stable/generated/torch.squeeze.html) instead.\n",
    "\n",
    "1. Create a random tensor uniform in [0, 1) of size (2, 2). Insert a new dimension so that the final shape is (2, 1, 2).\n",
    "\n",
    "Torch.unsqueeze aumenta gia di una dimensione il tensore,con dim=0,1..n io gli sto dicendo dove inserirla!!\n",
    "\n",
    "2. Add a dimension to the tensor of point 1, so that the final shape is (2, 1, 2, 1). Try to use negative indices as the argument of `torch.unsqueeze()`.\n",
    "3. Turn the tensor back to its original shape (2, 2) by using `torch.squeeze()`."
   ]
  },
  {
   "cell_type": "code",
   "execution_count": 10,
   "id": "f752a4be",
   "metadata": {
    "ExecuteTime": {
     "end_time": "2024-09-19T07:15:03.127711Z",
     "start_time": "2024-09-19T07:15:03.124690Z"
    },
    "execution": {
     "iopub.execute_input": "2025-10-08T09:41:22.523791Z",
     "iopub.status.busy": "2025-10-08T09:41:22.523460Z",
     "iopub.status.idle": "2025-10-08T09:41:22.536431Z",
     "shell.execute_reply": "2025-10-08T09:41:22.535434Z"
    },
    "papermill": {
     "duration": 0.028554,
     "end_time": "2025-10-08T09:41:22.538398",
     "exception": false,
     "start_time": "2025-10-08T09:41:22.509844",
     "status": "completed"
    },
    "tags": []
   },
   "outputs": [
    {
     "name": "stdout",
     "output_type": "stream",
     "text": [
      "tensor([[0.2709, 0.9295],\n",
      "        [0.6115, 0.2234]])\n",
      "tensor([[[0.2709, 0.9295]],\n",
      "\n",
      "        [[0.6115, 0.2234]]])\n",
      "tensor([[[[0.2709],\n",
      "          [0.9295]]],\n",
      "\n",
      "\n",
      "        [[[0.6115],\n",
      "          [0.2234]]]])\n",
      "tensor([[0.2709, 0.9295],\n",
      "        [0.6115, 0.2234]])\n"
     ]
    }
   ],
   "source": [
    "## 1: Create a tensor of size (2, 2). Unsqueeze it so that its final shape is (2, 1, 2)\n",
    "t10= torch.rand(2,2)\n",
    "print(t10)\n",
    "t11=torch.unsqueeze(t10, dim=1) \n",
    "print(t11)\n",
    "## 2: Add an additional dimension to the tensor so that its shape is (2, 1, 2, 1). Use negative indices\n",
    "t12=torch.unsqueeze(t11, dim=-1) #con dim =-1 mi riferisco all'ultima posizione del tensore, t=-2 alla penultima ecc...\n",
    "print(t12)\n",
    "## 3: Turn the tensor back to shape (2, 2)\n",
    "t13= torch.squeeze(t12, dim=-1)\n",
    "t13=torch.squeeze(t13 , dim=1)\n",
    "print(t13)"
   ]
  },
  {
   "cell_type": "markdown",
   "id": "4b2fbad1",
   "metadata": {
    "papermill": {
     "duration": 0.012394,
     "end_time": "2025-10-08T09:41:22.564033",
     "exception": false,
     "start_time": "2025-10-08T09:41:22.551639",
     "status": "completed"
    },
    "tags": []
   },
   "source": [
    "## Concatenate and stack\n",
    "\n",
    "If you have two tensors of compatible sizes, you can merge them into a unique tensor along one of their axes.\n",
    "In order to get some intuition, think about having 2 2-dimensional tensors of size (3, 4). You can merge them along the first axis and get the final shape be (6, 4), or you can merge them along the second axis and get the final shape to be (3, 8), or you can go in 3D stacking one over the other (along the z-axis) and get a shape of (2, 3, 4). \n",
    "\n",
    "This is precisely what [`torch.concat`](https://pytorch.org/docs/stable/generated/torch.cat.html#torch.cat) (also called `.cat`) and [`torch.stack`](https://pytorch.org/docs/stable/generated/torch.stack) do. \n",
    "You should already be familiar with NumPy `axis` attribute. In PyTorch it is called `dim`. If you try using `axis` instead of `dim`, PyTorch allows you to do so. Though it is not recommended, since it is not written in the official documentation.\n",
    "\n",
    "1. Concat $v$ and $w$ along the first dimension. Check that the final shape is (6, 4).\n",
    "2. Concat $v$ and $w$ along the second dimension. Check that the final shape is (3, 8).\n",
    "3. Concat $v$ and $w$ along a new dimension. Check that the final shape is (2, 3, 4)."
   ]
  },
  {
   "cell_type": "code",
   "execution_count": 11,
   "id": "ea76a24a",
   "metadata": {
    "ExecuteTime": {
     "end_time": "2024-09-19T08:16:40.985443Z",
     "start_time": "2024-09-19T08:16:40.982553Z"
    },
    "execution": {
     "iopub.execute_input": "2025-10-08T09:41:22.590329Z",
     "iopub.status.busy": "2025-10-08T09:41:22.589996Z",
     "iopub.status.idle": "2025-10-08T09:41:22.604690Z",
     "shell.execute_reply": "2025-10-08T09:41:22.603253Z"
    },
    "papermill": {
     "duration": 0.029851,
     "end_time": "2025-10-08T09:41:22.606638",
     "exception": false,
     "start_time": "2025-10-08T09:41:22.576787",
     "status": "completed"
    },
    "tags": []
   },
   "outputs": [
    {
     "name": "stdout",
     "output_type": "stream",
     "text": [
      "y tensor([[5, 4, 8, 1],\n",
      "        [7, 9, 2, 6],\n",
      "        [8, 2, 8, 2],\n",
      "        [1, 0, 0, 6],\n",
      "        [5, 0, 6, 9],\n",
      "        [2, 4, 2, 0]])\n",
      "torch.Size([6, 4])\n",
      "z:  tensor([[5, 4, 8, 1, 1, 0, 0, 6],\n",
      "        [7, 9, 2, 6, 5, 0, 6, 9],\n",
      "        [8, 2, 8, 2, 2, 4, 2, 0]])\n",
      "torch.Size([3, 8])\n",
      "g:  tensor([[[5, 4, 8, 1],\n",
      "         [7, 9, 2, 6],\n",
      "         [8, 2, 8, 2]],\n",
      "\n",
      "        [[1, 0, 0, 6],\n",
      "         [5, 0, 6, 9],\n",
      "         [2, 4, 2, 0]]])\n",
      "torch.Size([2, 3, 4])\n"
     ]
    }
   ],
   "source": [
    "v = torch.randint(0, 10, (3,4))\n",
    "w = torch.randint(0, 10, (3,4))\n",
    "\n",
    "## 1: concat along first dimension.\n",
    "y = torch.cat((v,w) , dim=0)\n",
    "print(\"y\", y)\n",
    "print(y.shape)\n",
    "\n",
    "## 2: concat along second dimension.\n",
    "z= torch.cat((v,w), dim=1)\n",
    "print(\"z: \", z)\n",
    "print(z.shape)\n",
    "## 3: concat along new dimension.  per aggiungere una nuova dimensione devo usare stack, dim indica sempre dove aggiungere la nuova dimensione\n",
    "g= torch.stack((v,w), dim=0)\n",
    "print(\"g: \", g)\n",
    "print(g.shape)"
   ]
  },
  {
   "cell_type": "markdown",
   "id": "6f8db179",
   "metadata": {
    "editable": true,
    "papermill": {
     "duration": 0.012716,
     "end_time": "2025-10-08T09:41:22.632826",
     "exception": false,
     "start_time": "2025-10-08T09:41:22.620110",
     "status": "completed"
    },
    "slideshow": {
     "slide_type": ""
    },
    "tags": []
   },
   "source": [
    "### Reshape and View\n",
    "\n",
    "PyTorch lets you reshape your tensors, by keeping the same data, but re-arranging its dimensions.\n",
    "\n",
    "Create a random vector of size (2, 3, 4), and make a new vector of size (6, 4) using [``torch.reshape``](https://docs.pytorch.org/docs/stable/generated/torch.Tensor.reshape.html) and [``torch.view``](https://www.geeksforgeeks.org/python/how-does-the-view-method-work-in-python-pytorch/).\n",
    "\n",
    "- `torch.reshape` works on all vectors, but it might be less efficient when working on contiguous data.\n",
    "- `torch.view` only works on contiguous data (see [``torch.is_contiguous``](https://docs.pytorch.org/docs/stable/generated/torch.Tensor.is_contiguous.html)), but it is more efficient.\n",
    "- \n",
    "*Un tensore non contiguo è un tensore che è stato permutato, cioè significa che ha cambiato le sue dimensioni*\n",
    "\n",
    "In general, ``torch.reshape`` is the safest option to use."
   ]
  },
  {
   "cell_type": "code",
   "execution_count": 12,
   "id": "63108b62",
   "metadata": {
    "execution": {
     "iopub.execute_input": "2025-10-08T09:41:22.660522Z",
     "iopub.status.busy": "2025-10-08T09:41:22.660047Z",
     "iopub.status.idle": "2025-10-08T09:41:22.669771Z",
     "shell.execute_reply": "2025-10-08T09:41:22.668635Z"
    },
    "papermill": {
     "duration": 0.02523,
     "end_time": "2025-10-08T09:41:22.671381",
     "exception": false,
     "start_time": "2025-10-08T09:41:22.646151",
     "status": "completed"
    },
    "tags": []
   },
   "outputs": [
    {
     "name": "stdout",
     "output_type": "stream",
     "text": [
      "tensor([[[0.4505, 0.3881, 0.5073, 0.4701],\n",
      "         [0.6202, 0.6401, 0.0459, 0.3155],\n",
      "         [0.9211, 0.6948, 0.4751, 0.1985]],\n",
      "\n",
      "        [[0.1941, 0.0521, 0.3370, 0.6689],\n",
      "         [0.8188, 0.7308, 0.0580, 0.1993],\n",
      "         [0.4211, 0.9837, 0.5723, 0.3705]]]) \n",
      " tensor([[0.4505, 0.3881, 0.5073, 0.4701],\n",
      "        [0.6202, 0.6401, 0.0459, 0.3155],\n",
      "        [0.9211, 0.6948, 0.4751, 0.1985],\n",
      "        [0.1941, 0.0521, 0.3370, 0.6689],\n",
      "        [0.8188, 0.7308, 0.0580, 0.1993],\n",
      "        [0.4211, 0.9837, 0.5723, 0.3705]])\n",
      "tensor([[0.4505, 0.3881, 0.5073, 0.4701],\n",
      "        [0.6202, 0.6401, 0.0459, 0.3155],\n",
      "        [0.9211, 0.6948, 0.4751, 0.1985],\n",
      "        [0.1941, 0.0521, 0.3370, 0.6689],\n",
      "        [0.8188, 0.7308, 0.0580, 0.1993],\n",
      "        [0.4211, 0.9837, 0.5723, 0.3705]])\n",
      "v is contiguous:  False\n"
     ]
    }
   ],
   "source": [
    "## 1: create a random tensor of size (2, 3, 4)\n",
    "g1= torch.rand(2,3,4)\n",
    "\n",
    "## 2: reshape it so that its size is (6, 4) using torch.reshape\n",
    "g2= torch.reshape (g1, (6,4))\n",
    "print (g1, \"\\n\", g2)\n",
    "# Is v altered by reshape?\n",
    "\n",
    "## 3: reshape v so that its size is (6, 4) using torch.view\n",
    "# Is v altered by view?\n",
    "g3=g1.view(6,4)\n",
    "print (g3)\n",
    "\n",
    "## 4: as a final step, try to make a tensor not contiguous: e.g., permuting its dimensions\n",
    "v = torch.rand(2, 3, 4)\n",
    "\n",
    "# Permute v's dimensions by using torch.permute, so that the final shape is (3, 2, 4). Do it inplace.\n",
    "v= v.permute(1,0,2)\n",
    "# Make sure that v is not contiguous anymore.\n",
    "print (\"v is contiguous: \", v.is_contiguous())\n",
    "# print(v.view(6, 4)) would yield an error.\n",
    "\n",
    "#v=v.view(6,4)        chiaramenta da errore perchè non è contiguo\n"
   ]
  },
  {
   "cell_type": "markdown",
   "id": "d0cb9523",
   "metadata": {
    "papermill": {
     "duration": 0.012375,
     "end_time": "2025-10-08T09:41:22.697067",
     "exception": false,
     "start_time": "2025-10-08T09:41:22.684692",
     "status": "completed"
    },
    "tags": []
   },
   "source": [
    "## Broadcasting\n",
    "\n",
    "Same as in NumPy, also PyTorch tensors allow [broadcasting](https://pytorch.org/docs/stable/notes/broadcasting.html).\n",
    "When performing element-wise operations (like sums) on two tensors of mismatching sizes, the smaller tensor can adapt to the size of the larger tensor in case these simple rules apply:\n",
    "\n",
    "- Each tensor has at least one dimension.\n",
    "- When iterating over the dimension sizes, starting at the trailing (right-most) dimension, the dimension sizes must be\n",
    "    -  equal\n",
    "    -  one of them is 1\n",
    "    -  one of them does not exist.\n",
    "\n",
    "Let us see an example:\n",
    "\n",
    "Assume you have $v = [[1, 2, 3], [4, 5, 6]]$ shape (2, 3) and $w=[3, 2, 1]$ shape (3). If we want to perform $v + w$ (element by element sum), it is clear that the dimensions don't match, but with the help of broadcasting we can still do it: $w$ is simply enlarged to reach size (2, 3) by copying itself twice on the first axis. Then, it is possible to perform element by element sum $v+w$.\n",
    "\n",
    "Let's put broadcasting in practice:\n",
    "\n",
    "1. Perform the above described example $v+w$ using tensors, check that the result size is (2, 3) and that numbers add up.\n",
    "2. $r = [[1, 2], [3, 4], [5, 6]]$ and $l=[1, 2, 3]$. Compute $r + l$. It should raise errors. Why?\n",
    "3. Adjust the size of $l$ in example 2 so that the sum works. What size should $l$ have in order for broadcasting to work on $r + l$?\n",
    "4. Create random integers tensors $s$ of size (2, 1, 3, 1) and $t$ of size (1, 3, 1, 3). Does broadcasting work here in order to compute $s+t$? In case it does, predict the final shape of the result. \n",
    " \n",
    " "
   ]
  },
  {
   "cell_type": "code",
   "execution_count": 13,
   "id": "caadda20",
   "metadata": {
    "ExecuteTime": {
     "end_time": "2024-09-19T08:58:04.389094Z",
     "start_time": "2024-09-19T08:58:04.387183Z"
    },
    "execution": {
     "iopub.execute_input": "2025-10-08T09:41:22.725912Z",
     "iopub.status.busy": "2025-10-08T09:41:22.724896Z",
     "iopub.status.idle": "2025-10-08T09:41:22.729708Z",
     "shell.execute_reply": "2025-10-08T09:41:22.728702Z"
    },
    "papermill": {
     "duration": 0.021152,
     "end_time": "2025-10-08T09:41:22.731272",
     "exception": false,
     "start_time": "2025-10-08T09:41:22.710120",
     "status": "completed"
    },
    "tags": []
   },
   "outputs": [],
   "source": [
    "## 1: compute v + w\n",
    "\n",
    "## 2: compute r + l. It doesn't work, why?\n",
    "\n",
    "## 3: adjust the size of l, and compute r + l\n",
    "\n",
    "## 4: compute s + t\n"
   ]
  },
  {
   "cell_type": "markdown",
   "id": "13977169",
   "metadata": {
    "papermill": {
     "duration": 0.012245,
     "end_time": "2025-10-08T09:41:22.756225",
     "exception": false,
     "start_time": "2025-10-08T09:41:22.743980",
     "status": "completed"
    },
    "tags": []
   },
   "source": [
    "## PyTorch functions\n",
    "\n",
    "In this section we are going to learn the basic functions of PyTorch.\n",
    "\n",
    "### Mean, min, max, sum ...\n",
    "\n",
    "These functions are quite self-explanatory, and they work the same way as in NumPy. The only detail we ought to pay attention to is the axis we want to perform the function along (in NumPy it was called `axis`, in PyTorch `dim`).\n",
    "\n",
    "Create a random tensor $v$ of ints of size (3, 2, 4) and print it.\n",
    "\n",
    "In order to be sure you have understood what is going on, try to predict the result and then check that your prediction is wrong/correct.\n",
    "\n",
    "1. Compute the min value in the entire tensor.\n",
    "2. Compute the max value along axis 0.\n",
    "3. Compute the min along axis 1.\n",
    "4. Multi-dimensional axes: take the sum over axes (0, 1). \n"
   ]
  },
  {
   "cell_type": "code",
   "execution_count": 14,
   "id": "cc9d0d7b",
   "metadata": {
    "execution": {
     "iopub.execute_input": "2025-10-08T09:41:22.782958Z",
     "iopub.status.busy": "2025-10-08T09:41:22.782680Z",
     "iopub.status.idle": "2025-10-08T09:41:22.787501Z",
     "shell.execute_reply": "2025-10-08T09:41:22.786445Z"
    },
    "papermill": {
     "duration": 0.019557,
     "end_time": "2025-10-08T09:41:22.789098",
     "exception": false,
     "start_time": "2025-10-08T09:41:22.769541",
     "status": "completed"
    },
    "tags": []
   },
   "outputs": [],
   "source": [
    "# Create v of shape (3, 2, 4)\n"
   ]
  },
  {
   "cell_type": "code",
   "execution_count": 15,
   "id": "d08cdf82",
   "metadata": {
    "ExecuteTime": {
     "end_time": "2024-09-19T09:11:40.284320Z",
     "start_time": "2024-09-19T09:11:40.281917Z"
    },
    "execution": {
     "iopub.execute_input": "2025-10-08T09:41:22.821583Z",
     "iopub.status.busy": "2025-10-08T09:41:22.821243Z",
     "iopub.status.idle": "2025-10-08T09:41:22.825451Z",
     "shell.execute_reply": "2025-10-08T09:41:22.824582Z"
    },
    "papermill": {
     "duration": 0.022812,
     "end_time": "2025-10-08T09:41:22.826921",
     "exception": false,
     "start_time": "2025-10-08T09:41:22.804109",
     "status": "completed"
    },
    "tags": []
   },
   "outputs": [],
   "source": [
    "## 1: Compute the min value of v.\n",
    "\n",
    "## 2: Compute the max along axis 0.\n",
    "\n",
    "## 3: Compute the min along axis 1.\n",
    "\n",
    "## 4: Compute the sum over axes (0, 1)"
   ]
  },
  {
   "cell_type": "markdown",
   "id": "d6b20bf7",
   "metadata": {
    "papermill": {
     "duration": 0.012923,
     "end_time": "2025-10-08T09:41:22.852895",
     "exception": false,
     "start_time": "2025-10-08T09:41:22.839972",
     "status": "completed"
    },
    "tags": []
   },
   "source": [
    "### [`torch.dot`](https://docs.pytorch.org/docs/stable/generated/torch.dot.html#torch.dot), [`torch.matmul`](https://docs.pytorch.org/docs/stable/generated/torch.matmul), *\n",
    "\n",
    "Unlike NumPy, Torch has a stricter policy on these operands:\n",
    "\n",
    "- `*`: is the Hadamard product. I.e., element-wise product.\n",
    "- [`torch.dot`](https://docs.pytorch.org/docs/stable/generated/torch.dot.html#torch.dot): only used to compute the dot product of two 1-dimensional tensors. Remember how confusing the dot product between multi-dimension NumPy vectors is (see Exercise 1)? PyTorch avoids this issue by simply forbidding the dimension of the input tensors to be greater than 1.\n",
    "- [`torch.matmul`](https://docs.pytorch.org/docs/stable/generated/torch.matmul): or its alias `@` computes the matrix product. Can be used for larger than 2-dimensional tensors (it applies broadcasting, as much as in NumPy). Notice that the complexity of multiplying two $n\\times n$ matrices is $O(n^3)$. We will take advantage of its relatively high time-complexity in order to show how much faster are GPUs with respect to CPUs later on in the notebook.\n",
    "\n",
    "1. Create two random integer tensors $A$ and $B$ of compatible sizes and perform their Hadamard product (element by element product). Try these sizes (predict whether they work or not):\n",
    "    - $A$ size (3, 4), $B$ size (3, 4).\n",
    "    - $A$ size (3, 4), $B$ size (4, 4).\n",
    "    - $A$ size (3, 4), $B$ size (1, 4).\n",
    "2. Create two random 1-dimensional tensors $v, w$ and compute their dot product. If you can use multiple ways to compute it, check that indeed they return the same value.\n",
    "3. Create $C$ of size (3, 4) and $D$ of size (4, 3). Compute the matrix product. Are the sizes compatible?\n",
    "4. Create $E$ of size (3, 3) and $F$ of size (4, 3). Compute the matrix product. Are the sizes compatible? If not, use the transpose operator [`torch.t()`](https://docs.pytorch.org/docs/stable/generated/torch.t.html#torch.t) to adjust the dimensions of one of the two matrices and compute the matrix product.\n",
    "\n",
    "\n"
   ]
  },
  {
   "cell_type": "code",
   "execution_count": 16,
   "id": "ade555b2",
   "metadata": {
    "execution": {
     "iopub.execute_input": "2025-10-08T09:41:22.879047Z",
     "iopub.status.busy": "2025-10-08T09:41:22.878735Z",
     "iopub.status.idle": "2025-10-08T09:41:22.883206Z",
     "shell.execute_reply": "2025-10-08T09:41:22.882144Z"
    },
    "papermill": {
     "duration": 0.019699,
     "end_time": "2025-10-08T09:41:22.885111",
     "exception": false,
     "start_time": "2025-10-08T09:41:22.865412",
     "status": "completed"
    },
    "tags": []
   },
   "outputs": [],
   "source": [
    "## 1: Create A, B and perform hadamard product\n",
    "# A (3,4), B (3,4)\n",
    "\n",
    "# A (3,4), B (4,4)\n",
    "\n",
    "# A (3,4), B (1,4)\n",
    "\n",
    "## 2: Create 1-dimensional tensors v, w and compute their dot product.\n",
    "\n",
    "## 3: Compute matrix product of C and D.\n",
    "\n",
    "## 4: adjust dimensions using .T, and compute the matrix product E @ F"
   ]
  },
  {
   "cell_type": "markdown",
   "id": "5bdf8efb",
   "metadata": {
    "papermill": {
     "duration": 0.012079,
     "end_time": "2025-10-08T09:41:22.909668",
     "exception": false,
     "start_time": "2025-10-08T09:41:22.897589",
     "status": "completed"
    },
    "tags": []
   },
   "source": [
    "## Gradients\n",
    "\n",
    "One of the useful features of PyTorch (that NumPy doesn't have) is that it is possible to compute automatically the gradient of functions. \n",
    "As you will see, the gradient of a function is one of the key ingredients of the backpropagation algorithm, used to train neural nets.\n",
    "This is also one of the reason why PyTorch is so ubiquitous to neural nets applications.\n",
    "\n",
    "Assume we have tensor $x = [2], y = [2]$. We have $z = 2x^2 + 3y = [14]$.\n",
    "\n",
    "We know that $\\frac{\\delta z}{\\delta x} = 4x$, $\\frac{\\delta z}{\\delta y} = 3$. Since we are evaluating the point $x=2, y=2$, we get that the gradient is (8, 3). The gradients are going to be stored in `x.grad` and `y.grad` if we specify the option `requires_grad=True`. We can let PyTorch compute the gradients by invoking `z.backward()`. Check that indeed `x.grad` and `y.grad` hold the desired values.\n"
   ]
  },
  {
   "cell_type": "code",
   "execution_count": 17,
   "id": "af226314",
   "metadata": {
    "ExecuteTime": {
     "end_time": "2024-09-19T10:25:06.967129Z",
     "start_time": "2024-09-19T10:25:06.961072Z"
    },
    "execution": {
     "iopub.execute_input": "2025-10-08T09:41:22.936098Z",
     "iopub.status.busy": "2025-10-08T09:41:22.935774Z",
     "iopub.status.idle": "2025-10-08T09:41:22.956404Z",
     "shell.execute_reply": "2025-10-08T09:41:22.955201Z"
    },
    "papermill": {
     "duration": 0.036425,
     "end_time": "2025-10-08T09:41:22.958407",
     "exception": false,
     "start_time": "2025-10-08T09:41:22.921982",
     "status": "completed"
    },
    "tags": []
   },
   "outputs": [
    {
     "name": "stdout",
     "output_type": "stream",
     "text": [
      "tensor([8.], dtype=torch.float64)\n",
      "tensor([3.], dtype=torch.float64)\n"
     ]
    }
   ],
   "source": [
    "x = torch.tensor([2], dtype=torch.float64, requires_grad=True)\n",
    "y = torch.tensor([2], dtype=torch.float64, requires_grad=True)\n",
    "z = 2 * x*x + 3 * y\n",
    "z.backward()\n",
    "print(x.grad)\n",
    "print(y.grad)"
   ]
  },
  {
   "cell_type": "markdown",
   "id": "8c12613d",
   "metadata": {
    "papermill": {
     "duration": 0.012791,
     "end_time": "2025-10-08T09:41:22.985462",
     "exception": false,
     "start_time": "2025-10-08T09:41:22.972671",
     "status": "completed"
    },
    "tags": []
   },
   "source": [
    "1. Create tensors $s = [1]$ and $t = [1]$, define a new tensor $w = 5s + 6$ and compute its gradient. What is the gradient associated to $t$? (Notice that $w$ does not depend on $t$). \n",
    "2. What happens if we try to define an integer tensor with `requires_grad=True`?\n",
    "3. What happens if we call `numpy()` on a tensor that has `requires_grad=True`?"
   ]
  },
  {
   "cell_type": "code",
   "execution_count": 18,
   "id": "7d3f3218",
   "metadata": {
    "ExecuteTime": {
     "end_time": "2024-09-19T12:03:47.093944Z",
     "start_time": "2024-09-19T12:03:47.091851Z"
    },
    "execution": {
     "iopub.execute_input": "2025-10-08T09:41:23.014471Z",
     "iopub.status.busy": "2025-10-08T09:41:23.013323Z",
     "iopub.status.idle": "2025-10-08T09:41:23.018186Z",
     "shell.execute_reply": "2025-10-08T09:41:23.017180Z"
    },
    "papermill": {
     "duration": 0.022076,
     "end_time": "2025-10-08T09:41:23.020076",
     "exception": false,
     "start_time": "2025-10-08T09:41:22.998000",
     "status": "completed"
    },
    "tags": []
   },
   "outputs": [],
   "source": [
    "## 1: gradient of t for w = 5s + 6.\n",
    "\n",
    "## 2: integer tensor with requires_grad.\n",
    "\n",
    "## 3: compute .numpy() of a tensor with requires_grad."
   ]
  },
  {
   "cell_type": "markdown",
   "id": "d5838cc9",
   "metadata": {
    "papermill": {
     "duration": 0.012099,
     "end_time": "2025-10-08T09:41:23.045147",
     "exception": false,
     "start_time": "2025-10-08T09:41:23.033048",
     "status": "completed"
    },
    "tags": []
   },
   "source": [
    "In this section we point out a very important feature of gradients, namely that they are *cumulative*! In order to see what does that mean, let's see in practice the example that was given in class:\n",
    "\n",
    "1. Create tensors $x=[2], y=[3]$ (with flag `requires_grad=True`).\n",
    "2. Compute $z = x * x + y$ and perform the backward pass.\n",
    "3. Check that the gradients are as expected: $\\frac{\\delta z}{\\delta x}=2x=4$, $\\frac{\\delta z}{\\delta y} = 1$.\n",
    "4. Compute $g = xy + 3x$ and perform che backward pass.\n",
    "5. Check out the gradients: $\\frac{\\delta g}{\\delta x}=y + 3=6$, $\\frac{\\delta g}{\\delta y} = x = 2$.\n",
    "6. Do you see the expected value? Can you explain why? (hint: gradients are *cumulative*).\n",
    "7. In order to fix this potential issue, use [`torch.zero_grad()`](https://docs.pytorch.org/docs/stable/generated/torch.optim.Optimizer.zero_grad.html) in between the computation of $z$ and $g$. Do you observe the expected gradient now?"
   ]
  },
  {
   "cell_type": "code",
   "execution_count": 19,
   "id": "4578ee8b",
   "metadata": {
    "execution": {
     "iopub.execute_input": "2025-10-08T09:41:23.072644Z",
     "iopub.status.busy": "2025-10-08T09:41:23.071148Z",
     "iopub.status.idle": "2025-10-08T09:41:23.076575Z",
     "shell.execute_reply": "2025-10-08T09:41:23.075590Z"
    },
    "papermill": {
     "duration": 0.020701,
     "end_time": "2025-10-08T09:41:23.078255",
     "exception": false,
     "start_time": "2025-10-08T09:41:23.057554",
     "status": "completed"
    },
    "tags": []
   },
   "outputs": [],
   "source": [
    "## 1: create x, y.\n",
    "\n",
    "## 2: compute z.\n",
    "\n",
    "## 3: check out gradients of x, y.\n",
    "\n",
    "## 4: compute g.\n",
    "\n",
    "## 5: check out gradients of x, y\n",
    "\n",
    "## 7: Repeat 1-5 using torch.zero_grad()\n"
   ]
  },
  {
   "cell_type": "markdown",
   "id": "25280527",
   "metadata": {
    "papermill": {
     "duration": 0.012654,
     "end_time": "2025-10-08T09:41:23.104800",
     "exception": false,
     "start_time": "2025-10-08T09:41:23.092146",
     "status": "completed"
    },
    "tags": []
   },
   "source": [
    "## Device (GPU vs CPU)\n",
    "\n",
    "In this section we will learn how do computation using the GPU instead of the CPU: notice that this is the main reason why, in Deep Learning applications, PyTorch is used over NumPy.\n",
    "\n",
    "By default, tensors are accessed by the CPU. You can check it easily using the [`.device()`](https://pytorch.org/docs/stable/tensor_attributes.html#torch.device) method.\n",
    "1) Create an identity matrix of size (4, 4) and access its device attribute."
   ]
  },
  {
   "cell_type": "code",
   "execution_count": 20,
   "id": "75e2e620",
   "metadata": {
    "ExecuteTime": {
     "end_time": "2024-09-18T20:17:23.060931Z",
     "start_time": "2024-09-18T20:17:23.055769Z"
    },
    "execution": {
     "iopub.execute_input": "2025-10-08T09:41:23.134234Z",
     "iopub.status.busy": "2025-10-08T09:41:23.133264Z",
     "iopub.status.idle": "2025-10-08T09:41:23.138507Z",
     "shell.execute_reply": "2025-10-08T09:41:23.137423Z"
    },
    "papermill": {
     "duration": 0.022043,
     "end_time": "2025-10-08T09:41:23.140336",
     "exception": false,
     "start_time": "2025-10-08T09:41:23.118293",
     "status": "completed"
    },
    "tags": []
   },
   "outputs": [],
   "source": [
    "## 1: see .device of a matrix\n",
    "\n",
    "v = []  # create a tensor"
   ]
  },
  {
   "cell_type": "markdown",
   "id": "823d8b1c",
   "metadata": {
    "papermill": {
     "duration": 0.012187,
     "end_time": "2025-10-08T09:41:23.165418",
     "exception": false,
     "start_time": "2025-10-08T09:41:23.153231",
     "status": "completed"
    },
    "tags": []
   },
   "source": [
    "Hence, every time we want to use the GPU, we need to explicitly move the tensors to the desired device. Careful here: your laptop doesn't necessarily have a dedicated GPU. And, even if it has one, it might not be compatible with CUDA (the NVIDIA interface that allows computations to be performed on the GPU).\n",
    "\n",
    "You can check if CUDA is available on your machine by simply using [`cuda.is_available()`](https://pytorch.org/docs/stable/generated/torch.cuda.is_available.html)."
   ]
  },
  {
   "cell_type": "code",
   "execution_count": 21,
   "id": "45ec2162",
   "metadata": {
    "ExecuteTime": {
     "end_time": "2024-09-18T20:08:57.159307Z",
     "start_time": "2024-09-18T20:08:57.154986Z"
    },
    "execution": {
     "iopub.execute_input": "2025-10-08T09:41:23.192504Z",
     "iopub.status.busy": "2025-10-08T09:41:23.191329Z",
     "iopub.status.idle": "2025-10-08T09:41:23.198395Z",
     "shell.execute_reply": "2025-10-08T09:41:23.197517Z"
    },
    "papermill": {
     "duration": 0.022029,
     "end_time": "2025-10-08T09:41:23.199828",
     "exception": false,
     "start_time": "2025-10-08T09:41:23.177799",
     "status": "completed"
    },
    "tags": []
   },
   "outputs": [
    {
     "data": {
      "text/plain": [
       "False"
      ]
     },
     "execution_count": 21,
     "metadata": {},
     "output_type": "execute_result"
    }
   ],
   "source": [
    "torch.cuda.is_available()"
   ]
  },
  {
   "cell_type": "markdown",
   "id": "6be0ac6e",
   "metadata": {
    "papermill": {
     "duration": 0.012032,
     "end_time": "2025-10-08T09:41:23.224524",
     "exception": false,
     "start_time": "2025-10-08T09:41:23.212492",
     "status": "completed"
    },
    "tags": []
   },
   "source": [
    "If the above returns False, it could be either because you didn't install correctly CUDA, or because you laptop doesn't have a GPU compatible with it. \n",
    "If you have a MacBook with Apple Silicon processors, you can still use the device `mps`:"
   ]
  },
  {
   "cell_type": "code",
   "execution_count": 22,
   "id": "46935a0f",
   "metadata": {
    "ExecuteTime": {
     "end_time": "2024-09-18T20:12:06.271423Z",
     "start_time": "2024-09-18T20:12:06.267589Z"
    },
    "execution": {
     "iopub.execute_input": "2025-10-08T09:41:23.251389Z",
     "iopub.status.busy": "2025-10-08T09:41:23.250392Z",
     "iopub.status.idle": "2025-10-08T09:41:23.257055Z",
     "shell.execute_reply": "2025-10-08T09:41:23.256025Z"
    },
    "papermill": {
     "duration": 0.021693,
     "end_time": "2025-10-08T09:41:23.258544",
     "exception": false,
     "start_time": "2025-10-08T09:41:23.236851",
     "status": "completed"
    },
    "tags": []
   },
   "outputs": [
    {
     "data": {
      "text/plain": [
       "False"
      ]
     },
     "execution_count": 22,
     "metadata": {},
     "output_type": "execute_result"
    }
   ],
   "source": [
    "# For mac M1/2/3/* users\n",
    "torch.backends.mps.is_available()"
   ]
  },
  {
   "cell_type": "markdown",
   "id": "42d63be5",
   "metadata": {
    "papermill": {
     "duration": 0.014021,
     "end_time": "2025-10-08T09:41:23.285893",
     "exception": false,
     "start_time": "2025-10-08T09:41:23.271872",
     "status": "completed"
    },
    "tags": []
   },
   "source": [
    "We can set the device to one of these three options:\n",
    "- `cuda` (if you have a NVIDIA graphics card). Might be `cuda:0` etc if you have more than one.\n",
    "- `mps` (if you have a MacBook with M1/2/3/* processor)\n",
    "- `cpu` otherwise\n",
    "\n",
    "If your laptop doesn't have any of the above-mentioned devices apart from the CPU, you can use Kaggle's notebooks: they offer free hours of GPU per week (they count the hours the kernel is running, not if you are actually using the notebook. Hence, remember to shut the kernel down when you don't use it!!!)"
   ]
  },
  {
   "cell_type": "markdown",
   "id": "c7fa37ea",
   "metadata": {
    "papermill": {
     "duration": 0.014189,
     "end_time": "2025-10-08T09:41:23.315335",
     "exception": false,
     "start_time": "2025-10-08T09:41:23.301146",
     "status": "completed"
    },
    "tags": []
   },
   "source": [
    "If you are using Kaggle platform for your projects (we recommend you to do that), you have at your disposal 30h/week of free GPUs: in order to activate it, you need to open a notebook, go to settings -> accelerator and you can select a GPU from there. If the GPU options are non-clickable, it is because you have to verify you account using your phone number. Go to home -> your picture (top right border) -> settings -> phone verification. Before the options become actually clickable you will need to wait a few minutes (<5')."
   ]
  },
  {
   "cell_type": "code",
   "execution_count": 23,
   "id": "245b1e28",
   "metadata": {
    "ExecuteTime": {
     "end_time": "2024-09-18T20:17:26.711323Z",
     "start_time": "2024-09-18T20:17:26.707268Z"
    },
    "execution": {
     "iopub.execute_input": "2025-10-08T09:41:23.344541Z",
     "iopub.status.busy": "2025-10-08T09:41:23.344181Z",
     "iopub.status.idle": "2025-10-08T09:41:23.351400Z",
     "shell.execute_reply": "2025-10-08T09:41:23.350236Z"
    },
    "papermill": {
     "duration": 0.02393,
     "end_time": "2025-10-08T09:41:23.353196",
     "exception": false,
     "start_time": "2025-10-08T09:41:23.329266",
     "status": "completed"
    },
    "tags": []
   },
   "outputs": [
    {
     "data": {
      "text/plain": [
       "device(type='cpu')"
      ]
     },
     "execution_count": 23,
     "metadata": {},
     "output_type": "execute_result"
    }
   ],
   "source": [
    "device = torch.device('cuda' if torch.cuda.is_available() else 'mps' if torch.backends.mps.is_available() else 'cpu')\n",
    "device"
   ]
  },
  {
   "cell_type": "markdown",
   "id": "ff692957",
   "metadata": {
    "papermill": {
     "duration": 0.012211,
     "end_time": "2025-10-08T09:41:23.378480",
     "exception": false,
     "start_time": "2025-10-08T09:41:23.366269",
     "status": "completed"
    },
    "tags": []
   },
   "source": [
    "Finally, move the tensor `v` you created earlier to the most convenient device. Use function [`.to`](https://pytorch.org/docs/stable/generated/torch.Tensor.to.html). Careful: is it an in-place method? Check that the device is indeed correct."
   ]
  },
  {
   "cell_type": "code",
   "execution_count": 24,
   "id": "9d64d79b",
   "metadata": {
    "ExecuteTime": {
     "end_time": "2024-09-18T20:24:40.156801Z",
     "start_time": "2024-09-18T20:24:40.153872Z"
    },
    "execution": {
     "iopub.execute_input": "2025-10-08T09:41:23.404872Z",
     "iopub.status.busy": "2025-10-08T09:41:23.404512Z",
     "iopub.status.idle": "2025-10-08T09:41:23.409915Z",
     "shell.execute_reply": "2025-10-08T09:41:23.408740Z"
    },
    "papermill": {
     "duration": 0.020722,
     "end_time": "2025-10-08T09:41:23.411589",
     "exception": false,
     "start_time": "2025-10-08T09:41:23.390867",
     "status": "completed"
    },
    "tags": []
   },
   "outputs": [],
   "source": [
    "# Move vector v to the correct device. Check it is indeed on the desired device."
   ]
  },
  {
   "cell_type": "markdown",
   "id": "1520bf0a",
   "metadata": {
    "papermill": {
     "duration": 0.01207,
     "end_time": "2025-10-08T09:41:23.436124",
     "exception": false,
     "start_time": "2025-10-08T09:41:23.424054",
     "status": "completed"
    },
    "tags": []
   },
   "source": [
    "You can also create a tensor and send it directly to the correct device. \n",
    "1. Create a tensor of ones of size (3, 3) and specify in its constructor the `device` attribute. Check that, indeed, the tensor has been initialized with the correct device."
   ]
  },
  {
   "cell_type": "code",
   "execution_count": 25,
   "id": "10810ea2",
   "metadata": {
    "ExecuteTime": {
     "end_time": "2024-09-19T06:49:34.057350Z",
     "start_time": "2024-09-19T06:49:34.051445Z"
    },
    "execution": {
     "iopub.execute_input": "2025-10-08T09:41:23.463277Z",
     "iopub.status.busy": "2025-10-08T09:41:23.462902Z",
     "iopub.status.idle": "2025-10-08T09:41:23.468384Z",
     "shell.execute_reply": "2025-10-08T09:41:23.467080Z"
    },
    "papermill": {
     "duration": 0.021255,
     "end_time": "2025-10-08T09:41:23.470126",
     "exception": false,
     "start_time": "2025-10-08T09:41:23.448871",
     "status": "completed"
    },
    "tags": []
   },
   "outputs": [],
   "source": [
    "## 1: Create a tensor and initialize it to the correct device."
   ]
  },
  {
   "cell_type": "markdown",
   "id": "24113021",
   "metadata": {
    "papermill": {
     "duration": 0.01409,
     "end_time": "2025-10-08T09:41:23.497918",
     "exception": false,
     "start_time": "2025-10-08T09:41:23.483828",
     "status": "completed"
    },
    "tags": []
   },
   "source": [
    "### GPUs vs CPUs"
   ]
  },
  {
   "cell_type": "markdown",
   "id": "3087e77c",
   "metadata": {
    "papermill": {
     "duration": 0.013203,
     "end_time": "2025-10-08T09:41:23.525281",
     "exception": false,
     "start_time": "2025-10-08T09:41:23.512078",
     "status": "completed"
    },
    "tags": []
   },
   "source": [
    "Now, we prove empirically that GPUs are much faster than CPUs at doing large calculations.\n",
    "\n",
    "Create large tensors $G, H$ both of size (15000, 15000). Take their matrix product and measure how long it takes (use [`%%time`](https://ipython.readthedocs.io/en/9.2.0/interactive/magics.html) cell magic notebook function)."
   ]
  },
  {
   "cell_type": "code",
   "execution_count": 26,
   "id": "1256847a",
   "metadata": {
    "ExecuteTime": {
     "end_time": "2024-09-18T20:17:26.711323Z",
     "start_time": "2024-09-18T20:17:26.707268Z"
    },
    "execution": {
     "iopub.execute_input": "2025-10-08T09:41:23.555637Z",
     "iopub.status.busy": "2025-10-08T09:41:23.554529Z",
     "iopub.status.idle": "2025-10-08T09:41:23.562764Z",
     "shell.execute_reply": "2025-10-08T09:41:23.561663Z"
    },
    "papermill": {
     "duration": 0.024084,
     "end_time": "2025-10-08T09:41:23.564247",
     "exception": false,
     "start_time": "2025-10-08T09:41:23.540163",
     "status": "completed"
    },
    "tags": []
   },
   "outputs": [
    {
     "data": {
      "text/plain": [
       "device(type='cpu')"
      ]
     },
     "execution_count": 26,
     "metadata": {},
     "output_type": "execute_result"
    }
   ],
   "source": [
    "device = torch.device('cuda' if torch.cuda.is_available() else 'mps' if torch.backends.mps.is_available() else 'cpu')\n",
    "device"
   ]
  },
  {
   "cell_type": "code",
   "execution_count": 27,
   "id": "2a4d075d",
   "metadata": {
    "ExecuteTime": {
     "end_time": "2024-09-19T09:49:37.404396Z",
     "start_time": "2024-09-19T09:49:35.677903Z"
    },
    "execution": {
     "iopub.execute_input": "2025-10-08T09:41:23.592908Z",
     "iopub.status.busy": "2025-10-08T09:41:23.591859Z",
     "iopub.status.idle": "2025-10-08T09:41:28.855521Z",
     "shell.execute_reply": "2025-10-08T09:41:28.854388Z"
    },
    "papermill": {
     "duration": 5.280035,
     "end_time": "2025-10-08T09:41:28.857462",
     "exception": false,
     "start_time": "2025-10-08T09:41:23.577427",
     "status": "completed"
    },
    "tags": []
   },
   "outputs": [],
   "source": [
    "# Create E and F\n",
    "G = torch.rand(15000, 15000)\n",
    "H = torch.rand(15000, 15000)"
   ]
  },
  {
   "cell_type": "code",
   "execution_count": 28,
   "id": "7f9d8f7f",
   "metadata": {
    "ExecuteTime": {
     "end_time": "2024-09-19T09:49:55.733265Z",
     "start_time": "2024-09-19T09:49:45.723855Z"
    },
    "execution": {
     "iopub.execute_input": "2025-10-08T09:41:28.887246Z",
     "iopub.status.busy": "2025-10-08T09:41:28.886856Z",
     "iopub.status.idle": "2025-10-08T09:42:21.265308Z",
     "shell.execute_reply": "2025-10-08T09:42:21.264399Z"
    },
    "papermill": {
     "duration": 52.41158,
     "end_time": "2025-10-08T09:42:21.283564",
     "exception": false,
     "start_time": "2025-10-08T09:41:28.871984",
     "status": "completed"
    },
    "scrolled": true,
    "tags": []
   },
   "outputs": [
    {
     "name": "stdout",
     "output_type": "stream",
     "text": [
      "CPU times: user 1min 43s, sys: 1.42 s, total: 1min 44s\n",
      "Wall time: 52.4 s\n"
     ]
    },
    {
     "data": {
      "text/plain": [
       "tensor([[3759.8022, 3755.5754, 3744.8298,  ..., 3729.0820, 3764.5232,\n",
       "         3711.3091],\n",
       "        [3784.5820, 3759.7922, 3757.6125,  ..., 3750.5540, 3778.2576,\n",
       "         3745.9832],\n",
       "        [3794.6638, 3795.0481, 3763.6118,  ..., 3769.0742, 3795.4316,\n",
       "         3748.4395],\n",
       "        ...,\n",
       "        [3794.7727, 3776.9773, 3771.3870,  ..., 3764.1436, 3790.4336,\n",
       "         3733.5981],\n",
       "        [3785.4829, 3765.7024, 3772.3264,  ..., 3755.4990, 3798.6868,\n",
       "         3737.8606],\n",
       "        [3789.7456, 3769.3162, 3766.6492,  ..., 3745.2805, 3793.4749,\n",
       "         3727.2974]])"
      ]
     },
     "execution_count": 28,
     "metadata": {},
     "output_type": "execute_result"
    }
   ],
   "source": [
    "%%time\n",
    "G @ H"
   ]
  },
  {
   "cell_type": "markdown",
   "id": "34f8845e",
   "metadata": {
    "papermill": {
     "duration": 0.013117,
     "end_time": "2025-10-08T09:42:21.310286",
     "exception": false,
     "start_time": "2025-10-08T09:42:21.297169",
     "status": "completed"
    },
    "tags": []
   },
   "source": [
    "Move $E$ and $F$ to the most convenient device at your disposal (different from CPU, if possible), and compute the same matrix product."
   ]
  },
  {
   "cell_type": "code",
   "execution_count": 29,
   "id": "b55fc191",
   "metadata": {
    "ExecuteTime": {
     "end_time": "2024-09-19T09:50:02.144090Z",
     "start_time": "2024-09-19T09:50:01.448426Z"
    },
    "execution": {
     "iopub.execute_input": "2025-10-08T09:42:21.338463Z",
     "iopub.status.busy": "2025-10-08T09:42:21.338054Z",
     "iopub.status.idle": "2025-10-08T09:42:21.342778Z",
     "shell.execute_reply": "2025-10-08T09:42:21.341625Z"
    },
    "papermill": {
     "duration": 0.021031,
     "end_time": "2025-10-08T09:42:21.344492",
     "exception": false,
     "start_time": "2025-10-08T09:42:21.323461",
     "status": "completed"
    },
    "tags": []
   },
   "outputs": [],
   "source": [
    "# Move the tensors to GPU in another cell, so that the time is not counted.\n",
    "G = G.to(device)\n",
    "H = H.to(device)"
   ]
  },
  {
   "cell_type": "code",
   "execution_count": 30,
   "id": "c18c454a",
   "metadata": {
    "ExecuteTime": {
     "end_time": "2024-09-19T09:50:05.795896Z",
     "start_time": "2024-09-19T09:50:04.017497Z"
    },
    "execution": {
     "iopub.execute_input": "2025-10-08T09:42:21.373075Z",
     "iopub.status.busy": "2025-10-08T09:42:21.372150Z",
     "iopub.status.idle": "2025-10-08T09:43:13.560510Z",
     "shell.execute_reply": "2025-10-08T09:43:13.559669Z"
    },
    "jupyter": {
     "source_hidden": true
    },
    "papermill": {
     "duration": 52.220288,
     "end_time": "2025-10-08T09:43:13.578232",
     "exception": false,
     "start_time": "2025-10-08T09:42:21.357944",
     "status": "completed"
    },
    "tags": []
   },
   "outputs": [
    {
     "name": "stdout",
     "output_type": "stream",
     "text": [
      "CPU times: user 1min 42s, sys: 1.37 s, total: 1min 44s\n",
      "Wall time: 52.2 s\n"
     ]
    },
    {
     "data": {
      "text/plain": [
       "tensor([[3759.8022, 3755.5754, 3744.8298,  ..., 3729.0820, 3764.5232,\n",
       "         3711.3091],\n",
       "        [3784.5820, 3759.7922, 3757.6125,  ..., 3750.5540, 3778.2576,\n",
       "         3745.9832],\n",
       "        [3794.6638, 3795.0481, 3763.6118,  ..., 3769.0742, 3795.4316,\n",
       "         3748.4395],\n",
       "        ...,\n",
       "        [3794.7727, 3776.9773, 3771.3870,  ..., 3764.1436, 3790.4336,\n",
       "         3733.5981],\n",
       "        [3785.4829, 3765.7024, 3772.3264,  ..., 3755.4990, 3798.6868,\n",
       "         3737.8606],\n",
       "        [3789.7456, 3769.3162, 3766.6492,  ..., 3745.2805, 3793.4749,\n",
       "         3727.2974]])"
      ]
     },
     "execution_count": 30,
     "metadata": {},
     "output_type": "execute_result"
    }
   ],
   "source": [
    "%%time\n",
    "G @ H"
   ]
  },
  {
   "cell_type": "markdown",
   "id": "ba2e64ed",
   "metadata": {
    "papermill": {
     "duration": 0.013579,
     "end_time": "2025-10-08T09:43:13.606643",
     "exception": false,
     "start_time": "2025-10-08T09:43:13.593064",
     "status": "completed"
    },
    "tags": []
   },
   "source": [
    "Side note: on my laptop (MacBook) I noticed a performance improvement by $\\approx\\times 10$. On Kaggle the performance improvement is much larger (from >20'' to <<1').\n",
    "\n",
    "At the end of this task, if you are using Kaggle, remember to shut down your kernel (or Kaggle will continue charging you GPU time)."
   ]
  },
  {
   "cell_type": "markdown",
   "id": "57a34741",
   "metadata": {
    "papermill": {
     "duration": 0.013627,
     "end_time": "2025-10-08T09:43:13.635147",
     "exception": false,
     "start_time": "2025-10-08T09:43:13.621520",
     "status": "completed"
    },
    "tags": []
   },
   "source": [
    "# A super quick introduction to pandas\n",
    "\n",
    "[Pandas](https://pandas.pydata.org/) is the equivalent of a Python database (but it is also a \"data analysis and manipulation tool\"). Or Python's version of Excel, if you prefer.\n",
    "\n",
    "Install it in your environment (using your IDE's GUI, or by typing in your command line `conda install pandas`).\n",
    "\n",
    "Next, we will see the most basic usage of pandas: making queries and modifying your data. Keep in mind that pandas does much more than that: see this simple [cheatsheet](https://pandas.pydata.org/docs/user_guide/10min.html) for reference.\n",
    "\n",
    "It is best practice, in pandas, to use the shortcut `pd` on import."
   ]
  },
  {
   "cell_type": "code",
   "execution_count": 31,
   "id": "222e54b6",
   "metadata": {
    "execution": {
     "iopub.execute_input": "2025-10-08T09:43:13.664413Z",
     "iopub.status.busy": "2025-10-08T09:43:13.663987Z",
     "iopub.status.idle": "2025-10-08T09:43:15.704275Z",
     "shell.execute_reply": "2025-10-08T09:43:15.702984Z"
    },
    "papermill": {
     "duration": 2.0573,
     "end_time": "2025-10-08T09:43:15.706234",
     "exception": false,
     "start_time": "2025-10-08T09:43:13.648934",
     "status": "completed"
    },
    "tags": []
   },
   "outputs": [],
   "source": [
    "import pandas as pd"
   ]
  },
  {
   "cell_type": "markdown",
   "id": "971a5525",
   "metadata": {
    "papermill": {
     "duration": 0.014243,
     "end_time": "2025-10-08T09:43:15.736070",
     "exception": false,
     "start_time": "2025-10-08T09:43:15.721827",
     "status": "completed"
    },
    "tags": []
   },
   "source": [
    "A table in pandas is called `pd.DataFrame`. Single columns, instead, are called `pd.Series` (a `pd.Series` is the pandas equivalent of a `torch.tensor` or `np.array`).\n",
    "You can create a table using some data in a dictionary, or importing it from any well-formatted file (see, e.g., [`pd.read_csv`](https://pandas.pydata.org/docs/reference/api/pandas.read_csv.html#pandas.read_csv))."
   ]
  },
  {
   "cell_type": "code",
   "execution_count": 32,
   "id": "196a4178",
   "metadata": {
    "execution": {
     "iopub.execute_input": "2025-10-08T09:43:15.768115Z",
     "iopub.status.busy": "2025-10-08T09:43:15.767634Z",
     "iopub.status.idle": "2025-10-08T09:43:15.796440Z",
     "shell.execute_reply": "2025-10-08T09:43:15.795288Z"
    },
    "papermill": {
     "duration": 0.046366,
     "end_time": "2025-10-08T09:43:15.798104",
     "exception": false,
     "start_time": "2025-10-08T09:43:15.751738",
     "status": "completed"
    },
    "tags": []
   },
   "outputs": [
    {
     "data": {
      "text/html": [
       "<div>\n",
       "<style scoped>\n",
       "    .dataframe tbody tr th:only-of-type {\n",
       "        vertical-align: middle;\n",
       "    }\n",
       "\n",
       "    .dataframe tbody tr th {\n",
       "        vertical-align: top;\n",
       "    }\n",
       "\n",
       "    .dataframe thead th {\n",
       "        text-align: right;\n",
       "    }\n",
       "</style>\n",
       "<table border=\"1\" class=\"dataframe\">\n",
       "  <thead>\n",
       "    <tr style=\"text-align: right;\">\n",
       "      <th></th>\n",
       "      <th>Name</th>\n",
       "      <th>Department</th>\n",
       "      <th>Salary</th>\n",
       "      <th>Years_at_Company</th>\n",
       "    </tr>\n",
       "  </thead>\n",
       "  <tbody>\n",
       "    <tr>\n",
       "      <th>a</th>\n",
       "      <td>Alice</td>\n",
       "      <td>HR</td>\n",
       "      <td>50000</td>\n",
       "      <td>2</td>\n",
       "    </tr>\n",
       "    <tr>\n",
       "      <th>b</th>\n",
       "      <td>Bob</td>\n",
       "      <td>IT</td>\n",
       "      <td>60000</td>\n",
       "      <td>5</td>\n",
       "    </tr>\n",
       "    <tr>\n",
       "      <th>c</th>\n",
       "      <td>Charlie</td>\n",
       "      <td>Finance</td>\n",
       "      <td>55000</td>\n",
       "      <td>3</td>\n",
       "    </tr>\n",
       "    <tr>\n",
       "      <th>d</th>\n",
       "      <td>Diana</td>\n",
       "      <td>IT</td>\n",
       "      <td>65000</td>\n",
       "      <td>7</td>\n",
       "    </tr>\n",
       "    <tr>\n",
       "      <th>e</th>\n",
       "      <td>Ethan</td>\n",
       "      <td>HR</td>\n",
       "      <td>52000</td>\n",
       "      <td>1</td>\n",
       "    </tr>\n",
       "  </tbody>\n",
       "</table>\n",
       "</div>"
      ],
      "text/plain": [
       "      Name Department  Salary  Years_at_Company\n",
       "a    Alice         HR   50000                 2\n",
       "b      Bob         IT   60000                 5\n",
       "c  Charlie    Finance   55000                 3\n",
       "d    Diana         IT   65000                 7\n",
       "e    Ethan         HR   52000                 1"
      ]
     },
     "execution_count": 32,
     "metadata": {},
     "output_type": "execute_result"
    }
   ],
   "source": [
    "data = {\n",
    "    \"Name\": [\"Alice\", \"Bob\", \"Charlie\", \"Diana\", \"Ethan\"],\n",
    "    \"Department\": [\"HR\", \"IT\", \"Finance\", \"IT\", \"HR\"],\n",
    "    \"Salary\": [50000, 60000, 55000, 65000, 52000],\n",
    "    \"Years_at_Company\": [2, 5, 3, 7, 1],\n",
    "}\n",
    "\n",
    "# Create a DataFrame\n",
    "df = pd.DataFrame(data, index=['a', 'b', 'c', 'd', 'e'])\n",
    "df"
   ]
  },
  {
   "cell_type": "markdown",
   "id": "b00e2096",
   "metadata": {
    "papermill": {
     "duration": 0.012884,
     "end_time": "2025-10-08T09:43:15.825785",
     "exception": false,
     "start_time": "2025-10-08T09:43:15.812901",
     "status": "completed"
    },
    "tags": []
   },
   "source": [
    "As you see, the data is nicely displayed in a table. The additional column (without a title) is the index: namely, the name of every row. By default it is an increasing number, but you can change it to be anything (in our case, we used letters)."
   ]
  },
  {
   "cell_type": "markdown",
   "id": "ed74a16e",
   "metadata": {
    "papermill": {
     "duration": 0.012762,
     "end_time": "2025-10-08T09:43:15.851715",
     "exception": false,
     "start_time": "2025-10-08T09:43:15.838953",
     "status": "completed"
    },
    "tags": []
   },
   "source": [
    "## Queries\n",
    "\n",
    "You can select columns using the usual `[]` notation (this returns a `pd.Series`):"
   ]
  },
  {
   "cell_type": "code",
   "execution_count": 33,
   "id": "fd6c453e",
   "metadata": {
    "execution": {
     "iopub.execute_input": "2025-10-08T09:43:15.878914Z",
     "iopub.status.busy": "2025-10-08T09:43:15.878614Z",
     "iopub.status.idle": "2025-10-08T09:43:15.887734Z",
     "shell.execute_reply": "2025-10-08T09:43:15.886710Z"
    },
    "papermill": {
     "duration": 0.024897,
     "end_time": "2025-10-08T09:43:15.889447",
     "exception": false,
     "start_time": "2025-10-08T09:43:15.864550",
     "status": "completed"
    },
    "tags": []
   },
   "outputs": [
    {
     "data": {
      "text/plain": [
       "a         HR\n",
       "b         IT\n",
       "c    Finance\n",
       "d         IT\n",
       "e         HR\n",
       "Name: Department, dtype: object"
      ]
     },
     "execution_count": 33,
     "metadata": {},
     "output_type": "execute_result"
    }
   ],
   "source": [
    "df['Department']"
   ]
  },
  {
   "cell_type": "markdown",
   "id": "d90c772d",
   "metadata": {
    "papermill": {
     "duration": 0.014049,
     "end_time": "2025-10-08T09:43:15.917072",
     "exception": false,
     "start_time": "2025-10-08T09:43:15.903023",
     "status": "completed"
    },
    "tags": []
   },
   "source": [
    "Or, multiple columns with the ``[[]]`` notation (this returns a `pd.DataFrame`):"
   ]
  },
  {
   "cell_type": "code",
   "execution_count": 34,
   "id": "42865637",
   "metadata": {
    "execution": {
     "iopub.execute_input": "2025-10-08T09:43:15.945876Z",
     "iopub.status.busy": "2025-10-08T09:43:15.944937Z",
     "iopub.status.idle": "2025-10-08T09:43:15.965196Z",
     "shell.execute_reply": "2025-10-08T09:43:15.964050Z"
    },
    "papermill": {
     "duration": 0.036797,
     "end_time": "2025-10-08T09:43:15.967203",
     "exception": false,
     "start_time": "2025-10-08T09:43:15.930406",
     "status": "completed"
    },
    "tags": []
   },
   "outputs": [
    {
     "data": {
      "text/html": [
       "<div>\n",
       "<style scoped>\n",
       "    .dataframe tbody tr th:only-of-type {\n",
       "        vertical-align: middle;\n",
       "    }\n",
       "\n",
       "    .dataframe tbody tr th {\n",
       "        vertical-align: top;\n",
       "    }\n",
       "\n",
       "    .dataframe thead th {\n",
       "        text-align: right;\n",
       "    }\n",
       "</style>\n",
       "<table border=\"1\" class=\"dataframe\">\n",
       "  <thead>\n",
       "    <tr style=\"text-align: right;\">\n",
       "      <th></th>\n",
       "      <th>Department</th>\n",
       "      <th>Salary</th>\n",
       "    </tr>\n",
       "  </thead>\n",
       "  <tbody>\n",
       "    <tr>\n",
       "      <th>a</th>\n",
       "      <td>HR</td>\n",
       "      <td>50000</td>\n",
       "    </tr>\n",
       "    <tr>\n",
       "      <th>b</th>\n",
       "      <td>IT</td>\n",
       "      <td>60000</td>\n",
       "    </tr>\n",
       "    <tr>\n",
       "      <th>c</th>\n",
       "      <td>Finance</td>\n",
       "      <td>55000</td>\n",
       "    </tr>\n",
       "    <tr>\n",
       "      <th>d</th>\n",
       "      <td>IT</td>\n",
       "      <td>65000</td>\n",
       "    </tr>\n",
       "    <tr>\n",
       "      <th>e</th>\n",
       "      <td>HR</td>\n",
       "      <td>52000</td>\n",
       "    </tr>\n",
       "  </tbody>\n",
       "</table>\n",
       "</div>"
      ],
      "text/plain": [
       "  Department  Salary\n",
       "a         HR   50000\n",
       "b         IT   60000\n",
       "c    Finance   55000\n",
       "d         IT   65000\n",
       "e         HR   52000"
      ]
     },
     "execution_count": 34,
     "metadata": {},
     "output_type": "execute_result"
    }
   ],
   "source": [
    "df[['Department','Salary']]"
   ]
  },
  {
   "cell_type": "markdown",
   "id": "f3d4889c",
   "metadata": {
    "papermill": {
     "duration": 0.013947,
     "end_time": "2025-10-08T09:43:15.995922",
     "exception": false,
     "start_time": "2025-10-08T09:43:15.981975",
     "status": "completed"
    },
    "tags": []
   },
   "source": [
    "You can select rows (as much as in SQL) according to any condition: it is enough to create a boolean vector with the rows to select, and use the following syntax:"
   ]
  },
  {
   "cell_type": "code",
   "execution_count": 35,
   "id": "80219238",
   "metadata": {
    "execution": {
     "iopub.execute_input": "2025-10-08T09:43:16.024836Z",
     "iopub.status.busy": "2025-10-08T09:43:16.024481Z",
     "iopub.status.idle": "2025-10-08T09:43:16.038282Z",
     "shell.execute_reply": "2025-10-08T09:43:16.037238Z"
    },
    "papermill": {
     "duration": 0.030273,
     "end_time": "2025-10-08T09:43:16.039901",
     "exception": false,
     "start_time": "2025-10-08T09:43:16.009628",
     "status": "completed"
    },
    "tags": []
   },
   "outputs": [
    {
     "data": {
      "text/html": [
       "<div>\n",
       "<style scoped>\n",
       "    .dataframe tbody tr th:only-of-type {\n",
       "        vertical-align: middle;\n",
       "    }\n",
       "\n",
       "    .dataframe tbody tr th {\n",
       "        vertical-align: top;\n",
       "    }\n",
       "\n",
       "    .dataframe thead th {\n",
       "        text-align: right;\n",
       "    }\n",
       "</style>\n",
       "<table border=\"1\" class=\"dataframe\">\n",
       "  <thead>\n",
       "    <tr style=\"text-align: right;\">\n",
       "      <th></th>\n",
       "      <th>Name</th>\n",
       "      <th>Department</th>\n",
       "      <th>Salary</th>\n",
       "      <th>Years_at_Company</th>\n",
       "    </tr>\n",
       "  </thead>\n",
       "  <tbody>\n",
       "    <tr>\n",
       "      <th>a</th>\n",
       "      <td>Alice</td>\n",
       "      <td>HR</td>\n",
       "      <td>50000</td>\n",
       "      <td>2</td>\n",
       "    </tr>\n",
       "    <tr>\n",
       "      <th>b</th>\n",
       "      <td>Bob</td>\n",
       "      <td>IT</td>\n",
       "      <td>60000</td>\n",
       "      <td>5</td>\n",
       "    </tr>\n",
       "    <tr>\n",
       "      <th>e</th>\n",
       "      <td>Ethan</td>\n",
       "      <td>HR</td>\n",
       "      <td>52000</td>\n",
       "      <td>1</td>\n",
       "    </tr>\n",
       "  </tbody>\n",
       "</table>\n",
       "</div>"
      ],
      "text/plain": [
       "    Name Department  Salary  Years_at_Company\n",
       "a  Alice         HR   50000                 2\n",
       "b    Bob         IT   60000                 5\n",
       "e  Ethan         HR   52000                 1"
      ]
     },
     "execution_count": 35,
     "metadata": {},
     "output_type": "execute_result"
    }
   ],
   "source": [
    "df[[True, True, False, False, True]]"
   ]
  },
  {
   "cell_type": "markdown",
   "id": "f028c152",
   "metadata": {
    "papermill": {
     "duration": 0.013528,
     "end_time": "2025-10-08T09:43:16.067514",
     "exception": false,
     "start_time": "2025-10-08T09:43:16.053986",
     "status": "completed"
    },
    "tags": []
   },
   "source": [
    "You can create boolean vectors according to any condition using element-wise boolean operators:"
   ]
  },
  {
   "cell_type": "code",
   "execution_count": 36,
   "id": "4d47bbc3",
   "metadata": {
    "execution": {
     "iopub.execute_input": "2025-10-08T09:43:16.095901Z",
     "iopub.status.busy": "2025-10-08T09:43:16.095509Z",
     "iopub.status.idle": "2025-10-08T09:43:16.103449Z",
     "shell.execute_reply": "2025-10-08T09:43:16.102459Z"
    },
    "papermill": {
     "duration": 0.024301,
     "end_time": "2025-10-08T09:43:16.105089",
     "exception": false,
     "start_time": "2025-10-08T09:43:16.080788",
     "status": "completed"
    },
    "tags": []
   },
   "outputs": [
    {
     "data": {
      "text/plain": [
       "a    False\n",
       "b     True\n",
       "c     True\n",
       "d     True\n",
       "e    False\n",
       "Name: Salary, dtype: bool"
      ]
     },
     "execution_count": 36,
     "metadata": {},
     "output_type": "execute_result"
    }
   ],
   "source": [
    "df['Salary'] > 53000"
   ]
  },
  {
   "cell_type": "markdown",
   "id": "af6b4b65",
   "metadata": {
    "papermill": {
     "duration": 0.013417,
     "end_time": "2025-10-08T09:43:16.132845",
     "exception": false,
     "start_time": "2025-10-08T09:43:16.119428",
     "status": "completed"
    },
    "tags": []
   },
   "source": [
    "Putting everything together, write a query to select the names of the people that earn more than 53000."
   ]
  },
  {
   "cell_type": "code",
   "execution_count": 37,
   "id": "cfe8ff19",
   "metadata": {
    "execution": {
     "iopub.execute_input": "2025-10-08T09:43:16.163109Z",
     "iopub.status.busy": "2025-10-08T09:43:16.162696Z",
     "iopub.status.idle": "2025-10-08T09:43:16.172591Z",
     "shell.execute_reply": "2025-10-08T09:43:16.171688Z"
    },
    "papermill": {
     "duration": 0.026983,
     "end_time": "2025-10-08T09:43:16.174077",
     "exception": false,
     "start_time": "2025-10-08T09:43:16.147094",
     "status": "completed"
    },
    "scrolled": true,
    "tags": []
   },
   "outputs": [
    {
     "data": {
      "text/html": [
       "<div>\n",
       "<style scoped>\n",
       "    .dataframe tbody tr th:only-of-type {\n",
       "        vertical-align: middle;\n",
       "    }\n",
       "\n",
       "    .dataframe tbody tr th {\n",
       "        vertical-align: top;\n",
       "    }\n",
       "\n",
       "    .dataframe thead th {\n",
       "        text-align: right;\n",
       "    }\n",
       "</style>\n",
       "<table border=\"1\" class=\"dataframe\">\n",
       "  <thead>\n",
       "    <tr style=\"text-align: right;\">\n",
       "      <th></th>\n",
       "      <th>Name</th>\n",
       "      <th>Department</th>\n",
       "      <th>Salary</th>\n",
       "      <th>Years_at_Company</th>\n",
       "    </tr>\n",
       "  </thead>\n",
       "  <tbody>\n",
       "    <tr>\n",
       "      <th>a</th>\n",
       "      <td>Alice</td>\n",
       "      <td>HR</td>\n",
       "      <td>50000</td>\n",
       "      <td>2</td>\n",
       "    </tr>\n",
       "    <tr>\n",
       "      <th>b</th>\n",
       "      <td>Bob</td>\n",
       "      <td>IT</td>\n",
       "      <td>60000</td>\n",
       "      <td>5</td>\n",
       "    </tr>\n",
       "    <tr>\n",
       "      <th>c</th>\n",
       "      <td>Charlie</td>\n",
       "      <td>Finance</td>\n",
       "      <td>55000</td>\n",
       "      <td>3</td>\n",
       "    </tr>\n",
       "    <tr>\n",
       "      <th>d</th>\n",
       "      <td>Diana</td>\n",
       "      <td>IT</td>\n",
       "      <td>65000</td>\n",
       "      <td>7</td>\n",
       "    </tr>\n",
       "    <tr>\n",
       "      <th>e</th>\n",
       "      <td>Ethan</td>\n",
       "      <td>HR</td>\n",
       "      <td>52000</td>\n",
       "      <td>1</td>\n",
       "    </tr>\n",
       "  </tbody>\n",
       "</table>\n",
       "</div>"
      ],
      "text/plain": [
       "      Name Department  Salary  Years_at_Company\n",
       "a    Alice         HR   50000                 2\n",
       "b      Bob         IT   60000                 5\n",
       "c  Charlie    Finance   55000                 3\n",
       "d    Diana         IT   65000                 7\n",
       "e    Ethan         HR   52000                 1"
      ]
     },
     "execution_count": 37,
     "metadata": {},
     "output_type": "execute_result"
    }
   ],
   "source": [
    "# Write a query to select the names of the people that earn more than 53000.\n",
    "df"
   ]
  },
  {
   "cell_type": "markdown",
   "id": "1ecc07ac",
   "metadata": {
    "papermill": {
     "duration": 0.014236,
     "end_time": "2025-10-08T09:43:16.204061",
     "exception": false,
     "start_time": "2025-10-08T09:43:16.189825",
     "status": "completed"
    },
    "tags": []
   },
   "source": [
    "# [`pd.loc`](https://pandas.pydata.org/pandas-docs/stable/reference/api/pandas.DataFrame.loc.html) and [`pd.iloc`](https://pandas.pydata.org/pandas-docs/stable/reference/api/pandas.DataFrame.iloc.html) functions\n",
    "\n",
    "Pandas offers additional ways to select rows and columns:\n",
    "\n",
    "- [`pd.loc`](https://pandas.pydata.org/pandas-docs/stable/reference/api/pandas.DataFrame.loc.html): allows you to select rows and columns by the index value.\n",
    "- [`pd.iloc`](https://pandas.pydata.org/pandas-docs/stable/reference/api/pandas.DataFrame.iloc.html): allows you to select rows and columns by the integer position. It is actually deprecated.\n",
    "\n",
    "You can access the second row by either using the index value `'b'` (and function `.loc`) or by integer position 1 (and function `.iloc`) as in the following example."
   ]
  },
  {
   "cell_type": "code",
   "execution_count": 38,
   "id": "07b6f1fa",
   "metadata": {
    "execution": {
     "iopub.execute_input": "2025-10-08T09:43:16.234161Z",
     "iopub.status.busy": "2025-10-08T09:43:16.233694Z",
     "iopub.status.idle": "2025-10-08T09:43:16.241021Z",
     "shell.execute_reply": "2025-10-08T09:43:16.240107Z"
    },
    "papermill": {
     "duration": 0.024519,
     "end_time": "2025-10-08T09:43:16.242515",
     "exception": false,
     "start_time": "2025-10-08T09:43:16.217996",
     "status": "completed"
    },
    "tags": []
   },
   "outputs": [
    {
     "data": {
      "text/plain": [
       "Name                  Bob\n",
       "Department             IT\n",
       "Salary              60000\n",
       "Years_at_Company        5\n",
       "Name: b, dtype: object"
      ]
     },
     "execution_count": 38,
     "metadata": {},
     "output_type": "execute_result"
    }
   ],
   "source": [
    "df.loc['b']"
   ]
  },
  {
   "cell_type": "code",
   "execution_count": 39,
   "id": "a16a095b",
   "metadata": {
    "execution": {
     "iopub.execute_input": "2025-10-08T09:43:16.272939Z",
     "iopub.status.busy": "2025-10-08T09:43:16.272598Z",
     "iopub.status.idle": "2025-10-08T09:43:16.280306Z",
     "shell.execute_reply": "2025-10-08T09:43:16.279427Z"
    },
    "papermill": {
     "duration": 0.024721,
     "end_time": "2025-10-08T09:43:16.281992",
     "exception": false,
     "start_time": "2025-10-08T09:43:16.257271",
     "status": "completed"
    },
    "tags": []
   },
   "outputs": [
    {
     "data": {
      "text/plain": [
       "Name                  Bob\n",
       "Department             IT\n",
       "Salary              60000\n",
       "Years_at_Company        5\n",
       "Name: b, dtype: object"
      ]
     },
     "execution_count": 39,
     "metadata": {},
     "output_type": "execute_result"
    }
   ],
   "source": [
    "df.iloc[1]"
   ]
  },
  {
   "cell_type": "markdown",
   "id": "968a2401",
   "metadata": {
    "papermill": {
     "duration": 0.014144,
     "end_time": "2025-10-08T09:43:16.310647",
     "exception": false,
     "start_time": "2025-10-08T09:43:16.296503",
     "status": "completed"
    },
    "tags": []
   },
   "source": [
    "If you read more carefully the documentation of the two functions, you will see that, indeed, both [`pd.loc`](https://pandas.pydata.org/pandas-docs/stable/reference/api/pandas.DataFrame.loc.html) and [`pd.iloc`](https://pandas.pydata.org/pandas-docs/stable/reference/api/pandas.DataFrame.iloc.html) allow more flexibility like selecting intervals, arrays of booleans and so on."
   ]
  },
  {
   "cell_type": "markdown",
   "id": "a0e55319",
   "metadata": {
    "papermill": {
     "duration": 0.015669,
     "end_time": "2025-10-08T09:43:16.340772",
     "exception": false,
     "start_time": "2025-10-08T09:43:16.325103",
     "status": "completed"
    },
    "tags": []
   },
   "source": [
    "## Apply functions"
   ]
  },
  {
   "cell_type": "markdown",
   "id": "63922350",
   "metadata": {
    "papermill": {
     "duration": 0.014705,
     "end_time": "2025-10-08T09:43:16.370738",
     "exception": false,
     "start_time": "2025-10-08T09:43:16.356033",
     "status": "completed"
    },
    "tags": []
   },
   "source": [
    "Anothe common feature of pandas, is applying functions element-wise to columns: see below for an example."
   ]
  },
  {
   "cell_type": "code",
   "execution_count": 40,
   "id": "7d2c44ce",
   "metadata": {
    "execution": {
     "iopub.execute_input": "2025-10-08T09:43:16.403072Z",
     "iopub.status.busy": "2025-10-08T09:43:16.402191Z",
     "iopub.status.idle": "2025-10-08T09:43:16.409732Z",
     "shell.execute_reply": "2025-10-08T09:43:16.408873Z"
    },
    "papermill": {
     "duration": 0.025429,
     "end_time": "2025-10-08T09:43:16.411429",
     "exception": false,
     "start_time": "2025-10-08T09:43:16.386000",
     "status": "completed"
    },
    "tags": []
   },
   "outputs": [
    {
     "data": {
      "text/plain": [
       "a    100000\n",
       "b    120000\n",
       "c    110000\n",
       "d    130000\n",
       "e    104000\n",
       "Name: Salary, dtype: int64"
      ]
     },
     "execution_count": 40,
     "metadata": {},
     "output_type": "execute_result"
    }
   ],
   "source": [
    "# Double every salary:\n",
    "df['Salary'].apply(lambda x: x * 2)"
   ]
  },
  {
   "cell_type": "markdown",
   "id": "6967b258",
   "metadata": {
    "papermill": {
     "duration": 0.014773,
     "end_time": "2025-10-08T09:43:16.441895",
     "exception": false,
     "start_time": "2025-10-08T09:43:16.427122",
     "status": "completed"
    },
    "tags": []
   },
   "source": [
    "What is [`lambda`](https://www.w3schools.com/python/python_lambda.asp) above?"
   ]
  },
  {
   "cell_type": "markdown",
   "id": "cf105b07",
   "metadata": {
    "papermill": {
     "duration": 0.014641,
     "end_time": "2025-10-08T09:43:16.472028",
     "exception": false,
     "start_time": "2025-10-08T09:43:16.457387",
     "status": "completed"
    },
    "tags": []
   },
   "source": [
    "As a final exercise, write a query for the names of the employees with a salary above 51000 and below 56000 using the `.apply` operator."
   ]
  },
  {
   "cell_type": "code",
   "execution_count": 41,
   "id": "687e1f08",
   "metadata": {
    "execution": {
     "iopub.execute_input": "2025-10-08T09:43:16.504391Z",
     "iopub.status.busy": "2025-10-08T09:43:16.503940Z",
     "iopub.status.idle": "2025-10-08T09:43:16.514464Z",
     "shell.execute_reply": "2025-10-08T09:43:16.513396Z"
    },
    "papermill": {
     "duration": 0.028053,
     "end_time": "2025-10-08T09:43:16.515924",
     "exception": false,
     "start_time": "2025-10-08T09:43:16.487871",
     "status": "completed"
    },
    "tags": []
   },
   "outputs": [
    {
     "data": {
      "text/html": [
       "<div>\n",
       "<style scoped>\n",
       "    .dataframe tbody tr th:only-of-type {\n",
       "        vertical-align: middle;\n",
       "    }\n",
       "\n",
       "    .dataframe tbody tr th {\n",
       "        vertical-align: top;\n",
       "    }\n",
       "\n",
       "    .dataframe thead th {\n",
       "        text-align: right;\n",
       "    }\n",
       "</style>\n",
       "<table border=\"1\" class=\"dataframe\">\n",
       "  <thead>\n",
       "    <tr style=\"text-align: right;\">\n",
       "      <th></th>\n",
       "      <th>Name</th>\n",
       "      <th>Department</th>\n",
       "      <th>Salary</th>\n",
       "      <th>Years_at_Company</th>\n",
       "    </tr>\n",
       "  </thead>\n",
       "  <tbody>\n",
       "    <tr>\n",
       "      <th>a</th>\n",
       "      <td>Alice</td>\n",
       "      <td>HR</td>\n",
       "      <td>50000</td>\n",
       "      <td>2</td>\n",
       "    </tr>\n",
       "    <tr>\n",
       "      <th>b</th>\n",
       "      <td>Bob</td>\n",
       "      <td>IT</td>\n",
       "      <td>60000</td>\n",
       "      <td>5</td>\n",
       "    </tr>\n",
       "    <tr>\n",
       "      <th>c</th>\n",
       "      <td>Charlie</td>\n",
       "      <td>Finance</td>\n",
       "      <td>55000</td>\n",
       "      <td>3</td>\n",
       "    </tr>\n",
       "    <tr>\n",
       "      <th>d</th>\n",
       "      <td>Diana</td>\n",
       "      <td>IT</td>\n",
       "      <td>65000</td>\n",
       "      <td>7</td>\n",
       "    </tr>\n",
       "    <tr>\n",
       "      <th>e</th>\n",
       "      <td>Ethan</td>\n",
       "      <td>HR</td>\n",
       "      <td>52000</td>\n",
       "      <td>1</td>\n",
       "    </tr>\n",
       "  </tbody>\n",
       "</table>\n",
       "</div>"
      ],
      "text/plain": [
       "      Name Department  Salary  Years_at_Company\n",
       "a    Alice         HR   50000                 2\n",
       "b      Bob         IT   60000                 5\n",
       "c  Charlie    Finance   55000                 3\n",
       "d    Diana         IT   65000                 7\n",
       "e    Ethan         HR   52000                 1"
      ]
     },
     "execution_count": 41,
     "metadata": {},
     "output_type": "execute_result"
    }
   ],
   "source": [
    "# Write a query to select the names of the people that earn a salary between 51000 and 56000. Use the .apply() operator.\n",
    "df\n"
   ]
  }
 ],
 "metadata": {
  "kaggle": {
   "accelerator": "none",
   "dataSources": [],
   "dockerImageVersionId": 31153,
   "isGpuEnabled": false,
   "isInternetEnabled": true,
   "language": "python",
   "sourceType": "notebook"
  },
  "kernelspec": {
   "display_name": "Python 3",
   "language": "python",
   "name": "python3"
  },
  "language_info": {
   "codemirror_mode": {
    "name": "ipython",
    "version": 3
   },
   "file_extension": ".py",
   "mimetype": "text/x-python",
   "name": "python",
   "nbconvert_exporter": "python",
   "pygments_lexer": "ipython3",
   "version": "3.11.13"
  },
  "papermill": {
   "default_parameters": {},
   "duration": 128.368996,
   "end_time": "2025-10-08T09:43:19.815134",
   "environment_variables": {},
   "exception": null,
   "input_path": "__notebook__.ipynb",
   "output_path": "__notebook__.ipynb",
   "parameters": {},
   "start_time": "2025-10-08T09:41:11.446138",
   "version": "2.6.0"
  }
 },
 "nbformat": 4,
 "nbformat_minor": 5
}
